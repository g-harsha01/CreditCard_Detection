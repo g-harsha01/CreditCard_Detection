{
  "nbformat": 4,
  "nbformat_minor": 0,
  "metadata": {
    "colab": {
      "provenance": [],
      "collapsed_sections": [
        "YTKKaescVIs6",
        "K8PiM6vrV-7j",
        "BShBzOzIUzo3",
        "H2gOyfc5pHnV",
        "SRMwqVnokGUU",
        "gErRKJAKrN7l",
        "rdZfZu0Bn2Y0",
        "7KAr2B4gvLhp",
        "spApl7xexj_6",
        "7THzzXuo4aDE",
        "GLzzn53T0OWx"
      ],
      "include_colab_link": true
    },
    "kernelspec": {
      "name": "python3",
      "display_name": "Python 3"
    },
    "language_info": {
      "name": "python"
    }
  },
  "cells": [
    {
      "cell_type": "markdown",
      "metadata": {
        "id": "view-in-github",
        "colab_type": "text"
      },
      "source": [
        "<a href=\"https://colab.research.google.com/github/g-harsha01/CreditCard_Detection/blob/main/CreditCardDetection.ipynb\" target=\"_parent\"><img src=\"https://colab.research.google.com/assets/colab-badge.svg\" alt=\"Open In Colab\"/></a>"
      ]
    },
    {
      "cell_type": "markdown",
      "source": [
        "# Credit Card Fraud Detection"
      ],
      "metadata": {
        "id": "tsjaXYo2n5lK"
      }
    },
    {
      "cell_type": "markdown",
      "source": [
        "##Introduction"
      ],
      "metadata": {
        "id": "YTKKaescVIs6"
      }
    },
    {
      "cell_type": "markdown",
      "source": [
        "### **Credit card purchases done in Europe in September 2013 are included in this dataset. There were 492 fraudulent transactions out of a total of 284,807 in this dataset, which covered a time period of two days. Only 0.172% of all transactions are in the positive class (frauds), indicating a severe imbalance in the dataset.**\n",
        "\n",
        "\n",
        "*   Principal components analysis (PCA) yields features V1, V2,..., V28\n",
        "*   Time and Quantity are the only features that PCA has not been applied to. Feature Time includes the number of seconds that have passed since the initial transaction in the dataset. The feature Amount is the amount of the transaction, which can be utilised for cost-sensitive learning based on examples.\n",
        "*   When fraud is present, the response variable, Feature Class, has a value of 1, and when it is not, it has a value of 0.\n",
        "\n",
        "\n",
        "\n"
      ],
      "metadata": {
        "id": "R9Vns6syVMN0"
      }
    },
    {
      "cell_type": "markdown",
      "source": [
        "## Loading Packages"
      ],
      "metadata": {
        "id": "K8PiM6vrV-7j"
      }
    },
    {
      "cell_type": "code",
      "source": [
        "# Imported Libraries\n",
        "\n",
        "import numpy as np \n",
        "import pandas as pd \n",
        "import tensorflow as tf\n",
        "import matplotlib.pyplot as plt\n",
        "import seaborn as sns\n",
        "import plotly.graph_objs as go\n",
        "from sklearn.manifold import TSNE\n",
        "from sklearn.decomposition import PCA, TruncatedSVD\n",
        "from plotly.offline import download_plotlyjs, init_notebook_mode, plot, iplot\n",
        "import matplotlib.patches as mpatches\n",
        "import plotly.figure_factory as ff\n",
        "import time"
      ],
      "metadata": {
        "id": "fdBIHIVpWGUw"
      },
      "execution_count": null,
      "outputs": []
    },
    {
      "cell_type": "code",
      "source": [
        "# Classifier Libraries\n",
        "\n",
        "from sklearn.linear_model import LogisticRegression\n",
        "from sklearn.tree import DecisionTreeClassifier\n",
        "from sklearn.ensemble import RandomForestClassifier\n",
        "from sklearn.ensemble import AdaBoostClassifier\n",
        "import xgboost as xgb\n",
        "import lightgbm as lgb\n",
        "from lightgbm import LGBMClassifier\n",
        "from sklearn.model_selection import train_test_split\n",
        "from sklearn.model_selection import KFold\n",
        "from sklearn.metrics import roc_auc_score\n",
        "import collections"
      ],
      "metadata": {
        "id": "LT-xa7BDSekO"
      },
      "execution_count": null,
      "outputs": []
    },
    {
      "cell_type": "code",
      "source": [
        "# Other Libraries\n",
        "\n",
        "from sklearn.model_selection import train_test_split\n",
        "from sklearn.pipeline import make_pipeline\n",
        "from imblearn.pipeline import make_pipeline as imbalanced_make_pipeline\n",
        "from imblearn.over_sampling import SMOTE\n",
        "from imblearn.under_sampling import NearMiss\n",
        "from imblearn.metrics import classification_report_imbalanced\n",
        "from sklearn.metrics import precision_score, recall_score, f1_score, roc_auc_score, accuracy_score, classification_report\n",
        "from collections import Counter\n",
        "from sklearn.model_selection import KFold, StratifiedKFold\n",
        "import warnings\n",
        "warnings.filterwarnings(\"ignore\")"
      ],
      "metadata": {
        "id": "XeckSAQtSg9U"
      },
      "execution_count": null,
      "outputs": []
    },
    {
      "cell_type": "markdown",
      "source": [
        "## Importing the data"
      ],
      "metadata": {
        "id": "BShBzOzIUzo3"
      }
    },
    {
      "cell_type": "code",
      "source": [
        "import os\n",
        "os.environ['KAGGLE_USERNAME'] = 'cherukuriashish'\n",
        "os.environ['KAGGLE_KEY'] = '8ef2e816c6fb300ce0e1c81a40c07341'"
      ],
      "metadata": {
        "id": "ojs8hW1MJbKZ"
      },
      "execution_count": null,
      "outputs": []
    },
    {
      "cell_type": "code",
      "source": [
        "!pip install kaggle\n",
        "\n",
        "!kaggle datasets download -d mlg-ulb/creditcardfraud\n",
        "\n",
        "!unzip creditcardfraud.zip"
      ],
      "metadata": {
        "colab": {
          "base_uri": "https://localhost:8080/"
        },
        "id": "RfPLj6_FJ0Cd",
        "outputId": "08179d72-5ef6-4cf0-e24f-a76b0604e2b5"
      },
      "execution_count": null,
      "outputs": [
        {
          "output_type": "stream",
          "name": "stdout",
          "text": [
            "Looking in indexes: https://pypi.org/simple, https://us-python.pkg.dev/colab-wheels/public/simple/\n",
            "Requirement already satisfied: kaggle in /usr/local/lib/python3.9/dist-packages (1.5.13)\n",
            "Requirement already satisfied: six>=1.10 in /usr/local/lib/python3.9/dist-packages (from kaggle) (1.16.0)\n",
            "Requirement already satisfied: urllib3 in /usr/local/lib/python3.9/dist-packages (from kaggle) (1.26.15)\n",
            "Requirement already satisfied: requests in /usr/local/lib/python3.9/dist-packages (from kaggle) (2.27.1)\n",
            "Requirement already satisfied: tqdm in /usr/local/lib/python3.9/dist-packages (from kaggle) (4.65.0)\n",
            "Requirement already satisfied: certifi in /usr/local/lib/python3.9/dist-packages (from kaggle) (2022.12.7)\n",
            "Requirement already satisfied: python-slugify in /usr/local/lib/python3.9/dist-packages (from kaggle) (8.0.1)\n",
            "Requirement already satisfied: python-dateutil in /usr/local/lib/python3.9/dist-packages (from kaggle) (2.8.2)\n",
            "Requirement already satisfied: text-unidecode>=1.3 in /usr/local/lib/python3.9/dist-packages (from python-slugify->kaggle) (1.3)\n",
            "Requirement already satisfied: charset-normalizer~=2.0.0 in /usr/local/lib/python3.9/dist-packages (from requests->kaggle) (2.0.12)\n",
            "Requirement already satisfied: idna<4,>=2.5 in /usr/local/lib/python3.9/dist-packages (from requests->kaggle) (3.4)\n",
            "Downloading creditcardfraud.zip to /content\n",
            " 86% 57.0M/66.0M [00:00<00:00, 148MB/s]\n",
            "100% 66.0M/66.0M [00:00<00:00, 144MB/s]\n",
            "Archive:  creditcardfraud.zip\n",
            "  inflating: creditcard.csv          \n"
          ]
        }
      ]
    },
    {
      "cell_type": "code",
      "source": [
        "df = pd.read_csv('creditcard.csv')\n",
        "df.head()"
      ],
      "metadata": {
        "colab": {
          "base_uri": "https://localhost:8080/"
        },
        "id": "EQeaZqttVfeV",
        "outputId": "8b8fd4de-b2da-44be-9914-2d0907d54345"
      },
      "execution_count": null,
      "outputs": [
        {
          "output_type": "execute_result",
          "data": {
            "text/plain": [
              "   Time        V1        V2        V3        V4        V5        V6        V7  \\\n",
              "0   0.0 -1.359807 -0.072781  2.536347  1.378155 -0.338321  0.462388  0.239599   \n",
              "1   0.0  1.191857  0.266151  0.166480  0.448154  0.060018 -0.082361 -0.078803   \n",
              "2   1.0 -1.358354 -1.340163  1.773209  0.379780 -0.503198  1.800499  0.791461   \n",
              "3   1.0 -0.966272 -0.185226  1.792993 -0.863291 -0.010309  1.247203  0.237609   \n",
              "4   2.0 -1.158233  0.877737  1.548718  0.403034 -0.407193  0.095921  0.592941   \n",
              "\n",
              "         V8        V9  ...       V21       V22       V23       V24       V25  \\\n",
              "0  0.098698  0.363787  ... -0.018307  0.277838 -0.110474  0.066928  0.128539   \n",
              "1  0.085102 -0.255425  ... -0.225775 -0.638672  0.101288 -0.339846  0.167170   \n",
              "2  0.247676 -1.514654  ...  0.247998  0.771679  0.909412 -0.689281 -0.327642   \n",
              "3  0.377436 -1.387024  ... -0.108300  0.005274 -0.190321 -1.175575  0.647376   \n",
              "4 -0.270533  0.817739  ... -0.009431  0.798278 -0.137458  0.141267 -0.206010   \n",
              "\n",
              "        V26       V27       V28  Amount  Class  \n",
              "0 -0.189115  0.133558 -0.021053  149.62      0  \n",
              "1  0.125895 -0.008983  0.014724    2.69      0  \n",
              "2 -0.139097 -0.055353 -0.059752  378.66      0  \n",
              "3 -0.221929  0.062723  0.061458  123.50      0  \n",
              "4  0.502292  0.219422  0.215153   69.99      0  \n",
              "\n",
              "[5 rows x 31 columns]"
            ],
            "text/html": [
              "\n",
              "  <div id=\"df-e1a17ae1-5530-402f-b016-fe74131fac39\">\n",
              "    <div class=\"colab-df-container\">\n",
              "      <div>\n",
              "<style scoped>\n",
              "    .dataframe tbody tr th:only-of-type {\n",
              "        vertical-align: middle;\n",
              "    }\n",
              "\n",
              "    .dataframe tbody tr th {\n",
              "        vertical-align: top;\n",
              "    }\n",
              "\n",
              "    .dataframe thead th {\n",
              "        text-align: right;\n",
              "    }\n",
              "</style>\n",
              "<table border=\"1\" class=\"dataframe\">\n",
              "  <thead>\n",
              "    <tr style=\"text-align: right;\">\n",
              "      <th></th>\n",
              "      <th>Time</th>\n",
              "      <th>V1</th>\n",
              "      <th>V2</th>\n",
              "      <th>V3</th>\n",
              "      <th>V4</th>\n",
              "      <th>V5</th>\n",
              "      <th>V6</th>\n",
              "      <th>V7</th>\n",
              "      <th>V8</th>\n",
              "      <th>V9</th>\n",
              "      <th>...</th>\n",
              "      <th>V21</th>\n",
              "      <th>V22</th>\n",
              "      <th>V23</th>\n",
              "      <th>V24</th>\n",
              "      <th>V25</th>\n",
              "      <th>V26</th>\n",
              "      <th>V27</th>\n",
              "      <th>V28</th>\n",
              "      <th>Amount</th>\n",
              "      <th>Class</th>\n",
              "    </tr>\n",
              "  </thead>\n",
              "  <tbody>\n",
              "    <tr>\n",
              "      <th>0</th>\n",
              "      <td>0.0</td>\n",
              "      <td>-1.359807</td>\n",
              "      <td>-0.072781</td>\n",
              "      <td>2.536347</td>\n",
              "      <td>1.378155</td>\n",
              "      <td>-0.338321</td>\n",
              "      <td>0.462388</td>\n",
              "      <td>0.239599</td>\n",
              "      <td>0.098698</td>\n",
              "      <td>0.363787</td>\n",
              "      <td>...</td>\n",
              "      <td>-0.018307</td>\n",
              "      <td>0.277838</td>\n",
              "      <td>-0.110474</td>\n",
              "      <td>0.066928</td>\n",
              "      <td>0.128539</td>\n",
              "      <td>-0.189115</td>\n",
              "      <td>0.133558</td>\n",
              "      <td>-0.021053</td>\n",
              "      <td>149.62</td>\n",
              "      <td>0</td>\n",
              "    </tr>\n",
              "    <tr>\n",
              "      <th>1</th>\n",
              "      <td>0.0</td>\n",
              "      <td>1.191857</td>\n",
              "      <td>0.266151</td>\n",
              "      <td>0.166480</td>\n",
              "      <td>0.448154</td>\n",
              "      <td>0.060018</td>\n",
              "      <td>-0.082361</td>\n",
              "      <td>-0.078803</td>\n",
              "      <td>0.085102</td>\n",
              "      <td>-0.255425</td>\n",
              "      <td>...</td>\n",
              "      <td>-0.225775</td>\n",
              "      <td>-0.638672</td>\n",
              "      <td>0.101288</td>\n",
              "      <td>-0.339846</td>\n",
              "      <td>0.167170</td>\n",
              "      <td>0.125895</td>\n",
              "      <td>-0.008983</td>\n",
              "      <td>0.014724</td>\n",
              "      <td>2.69</td>\n",
              "      <td>0</td>\n",
              "    </tr>\n",
              "    <tr>\n",
              "      <th>2</th>\n",
              "      <td>1.0</td>\n",
              "      <td>-1.358354</td>\n",
              "      <td>-1.340163</td>\n",
              "      <td>1.773209</td>\n",
              "      <td>0.379780</td>\n",
              "      <td>-0.503198</td>\n",
              "      <td>1.800499</td>\n",
              "      <td>0.791461</td>\n",
              "      <td>0.247676</td>\n",
              "      <td>-1.514654</td>\n",
              "      <td>...</td>\n",
              "      <td>0.247998</td>\n",
              "      <td>0.771679</td>\n",
              "      <td>0.909412</td>\n",
              "      <td>-0.689281</td>\n",
              "      <td>-0.327642</td>\n",
              "      <td>-0.139097</td>\n",
              "      <td>-0.055353</td>\n",
              "      <td>-0.059752</td>\n",
              "      <td>378.66</td>\n",
              "      <td>0</td>\n",
              "    </tr>\n",
              "    <tr>\n",
              "      <th>3</th>\n",
              "      <td>1.0</td>\n",
              "      <td>-0.966272</td>\n",
              "      <td>-0.185226</td>\n",
              "      <td>1.792993</td>\n",
              "      <td>-0.863291</td>\n",
              "      <td>-0.010309</td>\n",
              "      <td>1.247203</td>\n",
              "      <td>0.237609</td>\n",
              "      <td>0.377436</td>\n",
              "      <td>-1.387024</td>\n",
              "      <td>...</td>\n",
              "      <td>-0.108300</td>\n",
              "      <td>0.005274</td>\n",
              "      <td>-0.190321</td>\n",
              "      <td>-1.175575</td>\n",
              "      <td>0.647376</td>\n",
              "      <td>-0.221929</td>\n",
              "      <td>0.062723</td>\n",
              "      <td>0.061458</td>\n",
              "      <td>123.50</td>\n",
              "      <td>0</td>\n",
              "    </tr>\n",
              "    <tr>\n",
              "      <th>4</th>\n",
              "      <td>2.0</td>\n",
              "      <td>-1.158233</td>\n",
              "      <td>0.877737</td>\n",
              "      <td>1.548718</td>\n",
              "      <td>0.403034</td>\n",
              "      <td>-0.407193</td>\n",
              "      <td>0.095921</td>\n",
              "      <td>0.592941</td>\n",
              "      <td>-0.270533</td>\n",
              "      <td>0.817739</td>\n",
              "      <td>...</td>\n",
              "      <td>-0.009431</td>\n",
              "      <td>0.798278</td>\n",
              "      <td>-0.137458</td>\n",
              "      <td>0.141267</td>\n",
              "      <td>-0.206010</td>\n",
              "      <td>0.502292</td>\n",
              "      <td>0.219422</td>\n",
              "      <td>0.215153</td>\n",
              "      <td>69.99</td>\n",
              "      <td>0</td>\n",
              "    </tr>\n",
              "  </tbody>\n",
              "</table>\n",
              "<p>5 rows × 31 columns</p>\n",
              "</div>\n",
              "      <button class=\"colab-df-convert\" onclick=\"convertToInteractive('df-e1a17ae1-5530-402f-b016-fe74131fac39')\"\n",
              "              title=\"Convert this dataframe to an interactive table.\"\n",
              "              style=\"display:none;\">\n",
              "        \n",
              "  <svg xmlns=\"http://www.w3.org/2000/svg\" height=\"24px\"viewBox=\"0 0 24 24\"\n",
              "       width=\"24px\">\n",
              "    <path d=\"M0 0h24v24H0V0z\" fill=\"none\"/>\n",
              "    <path d=\"M18.56 5.44l.94 2.06.94-2.06 2.06-.94-2.06-.94-.94-2.06-.94 2.06-2.06.94zm-11 1L8.5 8.5l.94-2.06 2.06-.94-2.06-.94L8.5 2.5l-.94 2.06-2.06.94zm10 10l.94 2.06.94-2.06 2.06-.94-2.06-.94-.94-2.06-.94 2.06-2.06.94z\"/><path d=\"M17.41 7.96l-1.37-1.37c-.4-.4-.92-.59-1.43-.59-.52 0-1.04.2-1.43.59L10.3 9.45l-7.72 7.72c-.78.78-.78 2.05 0 2.83L4 21.41c.39.39.9.59 1.41.59.51 0 1.02-.2 1.41-.59l7.78-7.78 2.81-2.81c.8-.78.8-2.07 0-2.86zM5.41 20L4 18.59l7.72-7.72 1.47 1.35L5.41 20z\"/>\n",
              "  </svg>\n",
              "      </button>\n",
              "      \n",
              "  <style>\n",
              "    .colab-df-container {\n",
              "      display:flex;\n",
              "      flex-wrap:wrap;\n",
              "      gap: 12px;\n",
              "    }\n",
              "\n",
              "    .colab-df-convert {\n",
              "      background-color: #E8F0FE;\n",
              "      border: none;\n",
              "      border-radius: 50%;\n",
              "      cursor: pointer;\n",
              "      display: none;\n",
              "      fill: #1967D2;\n",
              "      height: 32px;\n",
              "      padding: 0 0 0 0;\n",
              "      width: 32px;\n",
              "    }\n",
              "\n",
              "    .colab-df-convert:hover {\n",
              "      background-color: #E2EBFA;\n",
              "      box-shadow: 0px 1px 2px rgba(60, 64, 67, 0.3), 0px 1px 3px 1px rgba(60, 64, 67, 0.15);\n",
              "      fill: #174EA6;\n",
              "    }\n",
              "\n",
              "    [theme=dark] .colab-df-convert {\n",
              "      background-color: #3B4455;\n",
              "      fill: #D2E3FC;\n",
              "    }\n",
              "\n",
              "    [theme=dark] .colab-df-convert:hover {\n",
              "      background-color: #434B5C;\n",
              "      box-shadow: 0px 1px 3px 1px rgba(0, 0, 0, 0.15);\n",
              "      filter: drop-shadow(0px 1px 2px rgba(0, 0, 0, 0.3));\n",
              "      fill: #FFFFFF;\n",
              "    }\n",
              "  </style>\n",
              "\n",
              "      <script>\n",
              "        const buttonEl =\n",
              "          document.querySelector('#df-e1a17ae1-5530-402f-b016-fe74131fac39 button.colab-df-convert');\n",
              "        buttonEl.style.display =\n",
              "          google.colab.kernel.accessAllowed ? 'block' : 'none';\n",
              "\n",
              "        async function convertToInteractive(key) {\n",
              "          const element = document.querySelector('#df-e1a17ae1-5530-402f-b016-fe74131fac39');\n",
              "          const dataTable =\n",
              "            await google.colab.kernel.invokeFunction('convertToInteractive',\n",
              "                                                     [key], {});\n",
              "          if (!dataTable) return;\n",
              "\n",
              "          const docLinkHtml = 'Like what you see? Visit the ' +\n",
              "            '<a target=\"_blank\" href=https://colab.research.google.com/notebooks/data_table.ipynb>data table notebook</a>'\n",
              "            + ' to learn more about interactive tables.';\n",
              "          element.innerHTML = '';\n",
              "          dataTable['output_type'] = 'display_data';\n",
              "          await google.colab.output.renderOutput(dataTable, element);\n",
              "          const docLink = document.createElement('div');\n",
              "          docLink.innerHTML = docLinkHtml;\n",
              "          element.appendChild(docLink);\n",
              "        }\n",
              "      </script>\n",
              "    </div>\n",
              "  </div>\n",
              "  "
            ]
          },
          "metadata": {},
          "execution_count": 6
        }
      ]
    },
    {
      "cell_type": "code",
      "source": [
        "df.describe()"
      ],
      "metadata": {
        "colab": {
          "base_uri": "https://localhost:8080/"
        },
        "id": "71iecRzyZOwx",
        "outputId": "c058f174-eb6b-45c3-b3a0-5f943a87a6c6"
      },
      "execution_count": null,
      "outputs": [
        {
          "output_type": "execute_result",
          "data": {
            "text/plain": [
              "                Time            V1            V2            V3            V4  \\\n",
              "count  284807.000000  2.848070e+05  2.848070e+05  2.848070e+05  2.848070e+05   \n",
              "mean    94813.859575  1.168375e-15  3.416908e-16 -1.379537e-15  2.074095e-15   \n",
              "std     47488.145955  1.958696e+00  1.651309e+00  1.516255e+00  1.415869e+00   \n",
              "min         0.000000 -5.640751e+01 -7.271573e+01 -4.832559e+01 -5.683171e+00   \n",
              "25%     54201.500000 -9.203734e-01 -5.985499e-01 -8.903648e-01 -8.486401e-01   \n",
              "50%     84692.000000  1.810880e-02  6.548556e-02  1.798463e-01 -1.984653e-02   \n",
              "75%    139320.500000  1.315642e+00  8.037239e-01  1.027196e+00  7.433413e-01   \n",
              "max    172792.000000  2.454930e+00  2.205773e+01  9.382558e+00  1.687534e+01   \n",
              "\n",
              "                 V5            V6            V7            V8            V9  \\\n",
              "count  2.848070e+05  2.848070e+05  2.848070e+05  2.848070e+05  2.848070e+05   \n",
              "mean   9.604066e-16  1.487313e-15 -5.556467e-16  1.213481e-16 -2.406331e-15   \n",
              "std    1.380247e+00  1.332271e+00  1.237094e+00  1.194353e+00  1.098632e+00   \n",
              "min   -1.137433e+02 -2.616051e+01 -4.355724e+01 -7.321672e+01 -1.343407e+01   \n",
              "25%   -6.915971e-01 -7.682956e-01 -5.540759e-01 -2.086297e-01 -6.430976e-01   \n",
              "50%   -5.433583e-02 -2.741871e-01  4.010308e-02  2.235804e-02 -5.142873e-02   \n",
              "75%    6.119264e-01  3.985649e-01  5.704361e-01  3.273459e-01  5.971390e-01   \n",
              "max    3.480167e+01  7.330163e+01  1.205895e+02  2.000721e+01  1.559499e+01   \n",
              "\n",
              "       ...           V21           V22           V23           V24  \\\n",
              "count  ...  2.848070e+05  2.848070e+05  2.848070e+05  2.848070e+05   \n",
              "mean   ...  1.654067e-16 -3.568593e-16  2.578648e-16  4.473266e-15   \n",
              "std    ...  7.345240e-01  7.257016e-01  6.244603e-01  6.056471e-01   \n",
              "min    ... -3.483038e+01 -1.093314e+01 -4.480774e+01 -2.836627e+00   \n",
              "25%    ... -2.283949e-01 -5.423504e-01 -1.618463e-01 -3.545861e-01   \n",
              "50%    ... -2.945017e-02  6.781943e-03 -1.119293e-02  4.097606e-02   \n",
              "75%    ...  1.863772e-01  5.285536e-01  1.476421e-01  4.395266e-01   \n",
              "max    ...  2.720284e+01  1.050309e+01  2.252841e+01  4.584549e+00   \n",
              "\n",
              "                V25           V26           V27           V28         Amount  \\\n",
              "count  2.848070e+05  2.848070e+05  2.848070e+05  2.848070e+05  284807.000000   \n",
              "mean   5.340915e-16  1.683437e-15 -3.660091e-16 -1.227390e-16      88.349619   \n",
              "std    5.212781e-01  4.822270e-01  4.036325e-01  3.300833e-01     250.120109   \n",
              "min   -1.029540e+01 -2.604551e+00 -2.256568e+01 -1.543008e+01       0.000000   \n",
              "25%   -3.171451e-01 -3.269839e-01 -7.083953e-02 -5.295979e-02       5.600000   \n",
              "50%    1.659350e-02 -5.213911e-02  1.342146e-03  1.124383e-02      22.000000   \n",
              "75%    3.507156e-01  2.409522e-01  9.104512e-02  7.827995e-02      77.165000   \n",
              "max    7.519589e+00  3.517346e+00  3.161220e+01  3.384781e+01   25691.160000   \n",
              "\n",
              "               Class  \n",
              "count  284807.000000  \n",
              "mean        0.001727  \n",
              "std         0.041527  \n",
              "min         0.000000  \n",
              "25%         0.000000  \n",
              "50%         0.000000  \n",
              "75%         0.000000  \n",
              "max         1.000000  \n",
              "\n",
              "[8 rows x 31 columns]"
            ],
            "text/html": [
              "\n",
              "  <div id=\"df-52ec2643-447d-4a9f-bb55-c851127b9602\">\n",
              "    <div class=\"colab-df-container\">\n",
              "      <div>\n",
              "<style scoped>\n",
              "    .dataframe tbody tr th:only-of-type {\n",
              "        vertical-align: middle;\n",
              "    }\n",
              "\n",
              "    .dataframe tbody tr th {\n",
              "        vertical-align: top;\n",
              "    }\n",
              "\n",
              "    .dataframe thead th {\n",
              "        text-align: right;\n",
              "    }\n",
              "</style>\n",
              "<table border=\"1\" class=\"dataframe\">\n",
              "  <thead>\n",
              "    <tr style=\"text-align: right;\">\n",
              "      <th></th>\n",
              "      <th>Time</th>\n",
              "      <th>V1</th>\n",
              "      <th>V2</th>\n",
              "      <th>V3</th>\n",
              "      <th>V4</th>\n",
              "      <th>V5</th>\n",
              "      <th>V6</th>\n",
              "      <th>V7</th>\n",
              "      <th>V8</th>\n",
              "      <th>V9</th>\n",
              "      <th>...</th>\n",
              "      <th>V21</th>\n",
              "      <th>V22</th>\n",
              "      <th>V23</th>\n",
              "      <th>V24</th>\n",
              "      <th>V25</th>\n",
              "      <th>V26</th>\n",
              "      <th>V27</th>\n",
              "      <th>V28</th>\n",
              "      <th>Amount</th>\n",
              "      <th>Class</th>\n",
              "    </tr>\n",
              "  </thead>\n",
              "  <tbody>\n",
              "    <tr>\n",
              "      <th>count</th>\n",
              "      <td>284807.000000</td>\n",
              "      <td>2.848070e+05</td>\n",
              "      <td>2.848070e+05</td>\n",
              "      <td>2.848070e+05</td>\n",
              "      <td>2.848070e+05</td>\n",
              "      <td>2.848070e+05</td>\n",
              "      <td>2.848070e+05</td>\n",
              "      <td>2.848070e+05</td>\n",
              "      <td>2.848070e+05</td>\n",
              "      <td>2.848070e+05</td>\n",
              "      <td>...</td>\n",
              "      <td>2.848070e+05</td>\n",
              "      <td>2.848070e+05</td>\n",
              "      <td>2.848070e+05</td>\n",
              "      <td>2.848070e+05</td>\n",
              "      <td>2.848070e+05</td>\n",
              "      <td>2.848070e+05</td>\n",
              "      <td>2.848070e+05</td>\n",
              "      <td>2.848070e+05</td>\n",
              "      <td>284807.000000</td>\n",
              "      <td>284807.000000</td>\n",
              "    </tr>\n",
              "    <tr>\n",
              "      <th>mean</th>\n",
              "      <td>94813.859575</td>\n",
              "      <td>1.168375e-15</td>\n",
              "      <td>3.416908e-16</td>\n",
              "      <td>-1.379537e-15</td>\n",
              "      <td>2.074095e-15</td>\n",
              "      <td>9.604066e-16</td>\n",
              "      <td>1.487313e-15</td>\n",
              "      <td>-5.556467e-16</td>\n",
              "      <td>1.213481e-16</td>\n",
              "      <td>-2.406331e-15</td>\n",
              "      <td>...</td>\n",
              "      <td>1.654067e-16</td>\n",
              "      <td>-3.568593e-16</td>\n",
              "      <td>2.578648e-16</td>\n",
              "      <td>4.473266e-15</td>\n",
              "      <td>5.340915e-16</td>\n",
              "      <td>1.683437e-15</td>\n",
              "      <td>-3.660091e-16</td>\n",
              "      <td>-1.227390e-16</td>\n",
              "      <td>88.349619</td>\n",
              "      <td>0.001727</td>\n",
              "    </tr>\n",
              "    <tr>\n",
              "      <th>std</th>\n",
              "      <td>47488.145955</td>\n",
              "      <td>1.958696e+00</td>\n",
              "      <td>1.651309e+00</td>\n",
              "      <td>1.516255e+00</td>\n",
              "      <td>1.415869e+00</td>\n",
              "      <td>1.380247e+00</td>\n",
              "      <td>1.332271e+00</td>\n",
              "      <td>1.237094e+00</td>\n",
              "      <td>1.194353e+00</td>\n",
              "      <td>1.098632e+00</td>\n",
              "      <td>...</td>\n",
              "      <td>7.345240e-01</td>\n",
              "      <td>7.257016e-01</td>\n",
              "      <td>6.244603e-01</td>\n",
              "      <td>6.056471e-01</td>\n",
              "      <td>5.212781e-01</td>\n",
              "      <td>4.822270e-01</td>\n",
              "      <td>4.036325e-01</td>\n",
              "      <td>3.300833e-01</td>\n",
              "      <td>250.120109</td>\n",
              "      <td>0.041527</td>\n",
              "    </tr>\n",
              "    <tr>\n",
              "      <th>min</th>\n",
              "      <td>0.000000</td>\n",
              "      <td>-5.640751e+01</td>\n",
              "      <td>-7.271573e+01</td>\n",
              "      <td>-4.832559e+01</td>\n",
              "      <td>-5.683171e+00</td>\n",
              "      <td>-1.137433e+02</td>\n",
              "      <td>-2.616051e+01</td>\n",
              "      <td>-4.355724e+01</td>\n",
              "      <td>-7.321672e+01</td>\n",
              "      <td>-1.343407e+01</td>\n",
              "      <td>...</td>\n",
              "      <td>-3.483038e+01</td>\n",
              "      <td>-1.093314e+01</td>\n",
              "      <td>-4.480774e+01</td>\n",
              "      <td>-2.836627e+00</td>\n",
              "      <td>-1.029540e+01</td>\n",
              "      <td>-2.604551e+00</td>\n",
              "      <td>-2.256568e+01</td>\n",
              "      <td>-1.543008e+01</td>\n",
              "      <td>0.000000</td>\n",
              "      <td>0.000000</td>\n",
              "    </tr>\n",
              "    <tr>\n",
              "      <th>25%</th>\n",
              "      <td>54201.500000</td>\n",
              "      <td>-9.203734e-01</td>\n",
              "      <td>-5.985499e-01</td>\n",
              "      <td>-8.903648e-01</td>\n",
              "      <td>-8.486401e-01</td>\n",
              "      <td>-6.915971e-01</td>\n",
              "      <td>-7.682956e-01</td>\n",
              "      <td>-5.540759e-01</td>\n",
              "      <td>-2.086297e-01</td>\n",
              "      <td>-6.430976e-01</td>\n",
              "      <td>...</td>\n",
              "      <td>-2.283949e-01</td>\n",
              "      <td>-5.423504e-01</td>\n",
              "      <td>-1.618463e-01</td>\n",
              "      <td>-3.545861e-01</td>\n",
              "      <td>-3.171451e-01</td>\n",
              "      <td>-3.269839e-01</td>\n",
              "      <td>-7.083953e-02</td>\n",
              "      <td>-5.295979e-02</td>\n",
              "      <td>5.600000</td>\n",
              "      <td>0.000000</td>\n",
              "    </tr>\n",
              "    <tr>\n",
              "      <th>50%</th>\n",
              "      <td>84692.000000</td>\n",
              "      <td>1.810880e-02</td>\n",
              "      <td>6.548556e-02</td>\n",
              "      <td>1.798463e-01</td>\n",
              "      <td>-1.984653e-02</td>\n",
              "      <td>-5.433583e-02</td>\n",
              "      <td>-2.741871e-01</td>\n",
              "      <td>4.010308e-02</td>\n",
              "      <td>2.235804e-02</td>\n",
              "      <td>-5.142873e-02</td>\n",
              "      <td>...</td>\n",
              "      <td>-2.945017e-02</td>\n",
              "      <td>6.781943e-03</td>\n",
              "      <td>-1.119293e-02</td>\n",
              "      <td>4.097606e-02</td>\n",
              "      <td>1.659350e-02</td>\n",
              "      <td>-5.213911e-02</td>\n",
              "      <td>1.342146e-03</td>\n",
              "      <td>1.124383e-02</td>\n",
              "      <td>22.000000</td>\n",
              "      <td>0.000000</td>\n",
              "    </tr>\n",
              "    <tr>\n",
              "      <th>75%</th>\n",
              "      <td>139320.500000</td>\n",
              "      <td>1.315642e+00</td>\n",
              "      <td>8.037239e-01</td>\n",
              "      <td>1.027196e+00</td>\n",
              "      <td>7.433413e-01</td>\n",
              "      <td>6.119264e-01</td>\n",
              "      <td>3.985649e-01</td>\n",
              "      <td>5.704361e-01</td>\n",
              "      <td>3.273459e-01</td>\n",
              "      <td>5.971390e-01</td>\n",
              "      <td>...</td>\n",
              "      <td>1.863772e-01</td>\n",
              "      <td>5.285536e-01</td>\n",
              "      <td>1.476421e-01</td>\n",
              "      <td>4.395266e-01</td>\n",
              "      <td>3.507156e-01</td>\n",
              "      <td>2.409522e-01</td>\n",
              "      <td>9.104512e-02</td>\n",
              "      <td>7.827995e-02</td>\n",
              "      <td>77.165000</td>\n",
              "      <td>0.000000</td>\n",
              "    </tr>\n",
              "    <tr>\n",
              "      <th>max</th>\n",
              "      <td>172792.000000</td>\n",
              "      <td>2.454930e+00</td>\n",
              "      <td>2.205773e+01</td>\n",
              "      <td>9.382558e+00</td>\n",
              "      <td>1.687534e+01</td>\n",
              "      <td>3.480167e+01</td>\n",
              "      <td>7.330163e+01</td>\n",
              "      <td>1.205895e+02</td>\n",
              "      <td>2.000721e+01</td>\n",
              "      <td>1.559499e+01</td>\n",
              "      <td>...</td>\n",
              "      <td>2.720284e+01</td>\n",
              "      <td>1.050309e+01</td>\n",
              "      <td>2.252841e+01</td>\n",
              "      <td>4.584549e+00</td>\n",
              "      <td>7.519589e+00</td>\n",
              "      <td>3.517346e+00</td>\n",
              "      <td>3.161220e+01</td>\n",
              "      <td>3.384781e+01</td>\n",
              "      <td>25691.160000</td>\n",
              "      <td>1.000000</td>\n",
              "    </tr>\n",
              "  </tbody>\n",
              "</table>\n",
              "<p>8 rows × 31 columns</p>\n",
              "</div>\n",
              "      <button class=\"colab-df-convert\" onclick=\"convertToInteractive('df-52ec2643-447d-4a9f-bb55-c851127b9602')\"\n",
              "              title=\"Convert this dataframe to an interactive table.\"\n",
              "              style=\"display:none;\">\n",
              "        \n",
              "  <svg xmlns=\"http://www.w3.org/2000/svg\" height=\"24px\"viewBox=\"0 0 24 24\"\n",
              "       width=\"24px\">\n",
              "    <path d=\"M0 0h24v24H0V0z\" fill=\"none\"/>\n",
              "    <path d=\"M18.56 5.44l.94 2.06.94-2.06 2.06-.94-2.06-.94-.94-2.06-.94 2.06-2.06.94zm-11 1L8.5 8.5l.94-2.06 2.06-.94-2.06-.94L8.5 2.5l-.94 2.06-2.06.94zm10 10l.94 2.06.94-2.06 2.06-.94-2.06-.94-.94-2.06-.94 2.06-2.06.94z\"/><path d=\"M17.41 7.96l-1.37-1.37c-.4-.4-.92-.59-1.43-.59-.52 0-1.04.2-1.43.59L10.3 9.45l-7.72 7.72c-.78.78-.78 2.05 0 2.83L4 21.41c.39.39.9.59 1.41.59.51 0 1.02-.2 1.41-.59l7.78-7.78 2.81-2.81c.8-.78.8-2.07 0-2.86zM5.41 20L4 18.59l7.72-7.72 1.47 1.35L5.41 20z\"/>\n",
              "  </svg>\n",
              "      </button>\n",
              "      \n",
              "  <style>\n",
              "    .colab-df-container {\n",
              "      display:flex;\n",
              "      flex-wrap:wrap;\n",
              "      gap: 12px;\n",
              "    }\n",
              "\n",
              "    .colab-df-convert {\n",
              "      background-color: #E8F0FE;\n",
              "      border: none;\n",
              "      border-radius: 50%;\n",
              "      cursor: pointer;\n",
              "      display: none;\n",
              "      fill: #1967D2;\n",
              "      height: 32px;\n",
              "      padding: 0 0 0 0;\n",
              "      width: 32px;\n",
              "    }\n",
              "\n",
              "    .colab-df-convert:hover {\n",
              "      background-color: #E2EBFA;\n",
              "      box-shadow: 0px 1px 2px rgba(60, 64, 67, 0.3), 0px 1px 3px 1px rgba(60, 64, 67, 0.15);\n",
              "      fill: #174EA6;\n",
              "    }\n",
              "\n",
              "    [theme=dark] .colab-df-convert {\n",
              "      background-color: #3B4455;\n",
              "      fill: #D2E3FC;\n",
              "    }\n",
              "\n",
              "    [theme=dark] .colab-df-convert:hover {\n",
              "      background-color: #434B5C;\n",
              "      box-shadow: 0px 1px 3px 1px rgba(0, 0, 0, 0.15);\n",
              "      filter: drop-shadow(0px 1px 2px rgba(0, 0, 0, 0.3));\n",
              "      fill: #FFFFFF;\n",
              "    }\n",
              "  </style>\n",
              "\n",
              "      <script>\n",
              "        const buttonEl =\n",
              "          document.querySelector('#df-52ec2643-447d-4a9f-bb55-c851127b9602 button.colab-df-convert');\n",
              "        buttonEl.style.display =\n",
              "          google.colab.kernel.accessAllowed ? 'block' : 'none';\n",
              "\n",
              "        async function convertToInteractive(key) {\n",
              "          const element = document.querySelector('#df-52ec2643-447d-4a9f-bb55-c851127b9602');\n",
              "          const dataTable =\n",
              "            await google.colab.kernel.invokeFunction('convertToInteractive',\n",
              "                                                     [key], {});\n",
              "          if (!dataTable) return;\n",
              "\n",
              "          const docLinkHtml = 'Like what you see? Visit the ' +\n",
              "            '<a target=\"_blank\" href=https://colab.research.google.com/notebooks/data_table.ipynb>data table notebook</a>'\n",
              "            + ' to learn more about interactive tables.';\n",
              "          element.innerHTML = '';\n",
              "          dataTable['output_type'] = 'display_data';\n",
              "          await google.colab.output.renderOutput(dataTable, element);\n",
              "          const docLink = document.createElement('div');\n",
              "          docLink.innerHTML = docLinkHtml;\n",
              "          element.appendChild(docLink);\n",
              "        }\n",
              "      </script>\n",
              "    </div>\n",
              "  </div>\n",
              "  "
            ]
          },
          "metadata": {},
          "execution_count": 7
        }
      ]
    },
    {
      "cell_type": "markdown",
      "source": [
        "## Gathering Sense of our data"
      ],
      "metadata": {
        "id": "-68oP-2_hQ7k"
      }
    },
    {
      "cell_type": "markdown",
      "source": [
        ">Check for **NULL** values\n"
      ],
      "metadata": {
        "id": "CbfG9MaSZc-Y"
      }
    },
    {
      "cell_type": "code",
      "source": [
        "df.isnull().sum().max()\n",
        "#There is no missing data in the entire dataset."
      ],
      "metadata": {
        "colab": {
          "base_uri": "https://localhost:8080/"
        },
        "id": "7jBhPRouZbxH",
        "outputId": "f8e16f05-79cb-4733-d604-41542a6c6f25"
      },
      "execution_count": null,
      "outputs": [
        {
          "output_type": "execute_result",
          "data": {
            "text/plain": [
              "0"
            ]
          },
          "metadata": {},
          "execution_count": 8
        }
      ]
    },
    {
      "cell_type": "code",
      "source": [
        "df.columns"
      ],
      "metadata": {
        "colab": {
          "base_uri": "https://localhost:8080/"
        },
        "id": "P9PN9qScZs6l",
        "outputId": "7f063337-78f0-4f95-8680-da38defc3652"
      },
      "execution_count": null,
      "outputs": [
        {
          "output_type": "execute_result",
          "data": {
            "text/plain": [
              "Index(['Time', 'V1', 'V2', 'V3', 'V4', 'V5', 'V6', 'V7', 'V8', 'V9', 'V10',\n",
              "       'V11', 'V12', 'V13', 'V14', 'V15', 'V16', 'V17', 'V18', 'V19', 'V20',\n",
              "       'V21', 'V22', 'V23', 'V24', 'V25', 'V26', 'V27', 'V28', 'Amount',\n",
              "       'Class'],\n",
              "      dtype='object')"
            ]
          },
          "metadata": {},
          "execution_count": 9
        }
      ]
    },
    {
      "cell_type": "code",
      "source": [
        "# The classes are heavily skewed we need to solve this issue later.\n",
        "l=len(df)\n",
        "nf=df['Class'].value_counts()[0]/l * 100\n",
        "f=df['Class'].value_counts()[1]/l * 100\n",
        "print('No Frauds', round(nf,2), '% of the dataset')\n",
        "print('Frauds', round(f,2), '% of the dataset')"
      ],
      "metadata": {
        "colab": {
          "base_uri": "https://localhost:8080/"
        },
        "id": "kMjAYx1vZ2EB",
        "outputId": "075f8a41-e450-4301-ee4e-1b5053958db8"
      },
      "execution_count": null,
      "outputs": [
        {
          "output_type": "stream",
          "name": "stdout",
          "text": [
            "No Frauds 99.83 % of the dataset\n",
            "Frauds 0.17 % of the dataset\n"
          ]
        }
      ]
    },
    {
      "cell_type": "markdown",
      "source": [
        "---"
      ],
      "metadata": {
        "id": "h6qORgWyh17r"
      }
    },
    {
      "cell_type": "markdown",
      "source": [
        ">Data Unbalance"
      ],
      "metadata": {
        "id": "KxSwvQTXdYHU"
      }
    },
    {
      "cell_type": "code",
      "source": [
        "# Get value counts of the \"Class\" column in the dataframe\n",
        "temp = df[\"Class\"].value_counts()\n",
        "\n",
        "# Create a new dataframe to store the value counts\n",
        "class_counts_df = pd.DataFrame({'Class': temp.index, 'values': temp.values})\n",
        "\n",
        "# Define the plot title and trace name\n",
        "plot_title = \"Class Distribution for Credit Card Transactions (Non-fraudulent = 0, Fraudulent = 1)\"\n",
        "trace_name = \"Transaction Count\"\n",
        "\n",
        "# Define the trace for the bar plot\n",
        "trace = go.Bar(\n",
        "    x=class_counts_df['Class'],\n",
        "    y=class_counts_df['values'],\n",
        "    name=trace_name,\n",
        "    marker=dict(color=\"Red\"),\n",
        "    text=class_counts_df['values']\n",
        ")\n",
        "\n",
        "# Define the layout of the plot\n",
        "layout = dict(\n",
        "    title=plot_title,\n",
        "    xaxis=dict(title='Class', showticklabels=True),\n",
        "    yaxis=dict(title='Number of Transactions'),\n",
        "    hovermode='closest',\n",
        "    width=600\n",
        ")\n",
        "\n",
        "# Create the figure and display the plot\n",
        "fig = go.Figure(data=[trace], layout=layout)\n",
        "fig.show()\n"
      ],
      "metadata": {
        "colab": {
          "base_uri": "https://localhost:8080/"
        },
        "id": "qvOCPEh0WxQk",
        "outputId": "bd0ca03b-235d-48c7-c131-94d6ac063ffe"
      },
      "execution_count": null,
      "outputs": [
        {
          "output_type": "display_data",
          "data": {
            "text/html": [
              "<html>\n",
              "<head><meta charset=\"utf-8\" /></head>\n",
              "<body>\n",
              "    <div>            <script src=\"https://cdnjs.cloudflare.com/ajax/libs/mathjax/2.7.5/MathJax.js?config=TeX-AMS-MML_SVG\"></script><script type=\"text/javascript\">if (window.MathJax && window.MathJax.Hub && window.MathJax.Hub.Config) {window.MathJax.Hub.Config({SVG: {font: \"STIX-Web\"}});}</script>                <script type=\"text/javascript\">window.PlotlyConfig = {MathJaxConfig: 'local'};</script>\n",
              "        <script src=\"https://cdn.plot.ly/plotly-2.18.2.min.js\"></script>                <div id=\"8795c012-10bd-46ac-8239-0f6f324bfd93\" class=\"plotly-graph-div\" style=\"height:525px; width:600px;\"></div>            <script type=\"text/javascript\">                                    window.PLOTLYENV=window.PLOTLYENV || {};                                    if (document.getElementById(\"8795c012-10bd-46ac-8239-0f6f324bfd93\")) {                    Plotly.newPlot(                        \"8795c012-10bd-46ac-8239-0f6f324bfd93\",                        [{\"marker\":{\"color\":\"Red\"},\"name\":\"Transaction Count\",\"text\":[284315.0,492.0],\"x\":[0,1],\"y\":[284315,492],\"type\":\"bar\"}],                        {\"hovermode\":\"closest\",\"title\":{\"text\":\"Class Distribution for Credit Card Transactions (Non-fraudulent = 0, Fraudulent = 1)\"},\"width\":600,\"xaxis\":{\"showticklabels\":true,\"title\":{\"text\":\"Class\"}},\"yaxis\":{\"title\":{\"text\":\"Number of Transactions\"}},\"template\":{\"data\":{\"histogram2dcontour\":[{\"type\":\"histogram2dcontour\",\"colorbar\":{\"outlinewidth\":0,\"ticks\":\"\"},\"colorscale\":[[0.0,\"#0d0887\"],[0.1111111111111111,\"#46039f\"],[0.2222222222222222,\"#7201a8\"],[0.3333333333333333,\"#9c179e\"],[0.4444444444444444,\"#bd3786\"],[0.5555555555555556,\"#d8576b\"],[0.6666666666666666,\"#ed7953\"],[0.7777777777777778,\"#fb9f3a\"],[0.8888888888888888,\"#fdca26\"],[1.0,\"#f0f921\"]]}],\"choropleth\":[{\"type\":\"choropleth\",\"colorbar\":{\"outlinewidth\":0,\"ticks\":\"\"}}],\"histogram2d\":[{\"type\":\"histogram2d\",\"colorbar\":{\"outlinewidth\":0,\"ticks\":\"\"},\"colorscale\":[[0.0,\"#0d0887\"],[0.1111111111111111,\"#46039f\"],[0.2222222222222222,\"#7201a8\"],[0.3333333333333333,\"#9c179e\"],[0.4444444444444444,\"#bd3786\"],[0.5555555555555556,\"#d8576b\"],[0.6666666666666666,\"#ed7953\"],[0.7777777777777778,\"#fb9f3a\"],[0.8888888888888888,\"#fdca26\"],[1.0,\"#f0f921\"]]}],\"heatmap\":[{\"type\":\"heatmap\",\"colorbar\":{\"outlinewidth\":0,\"ticks\":\"\"},\"colorscale\":[[0.0,\"#0d0887\"],[0.1111111111111111,\"#46039f\"],[0.2222222222222222,\"#7201a8\"],[0.3333333333333333,\"#9c179e\"],[0.4444444444444444,\"#bd3786\"],[0.5555555555555556,\"#d8576b\"],[0.6666666666666666,\"#ed7953\"],[0.7777777777777778,\"#fb9f3a\"],[0.8888888888888888,\"#fdca26\"],[1.0,\"#f0f921\"]]}],\"heatmapgl\":[{\"type\":\"heatmapgl\",\"colorbar\":{\"outlinewidth\":0,\"ticks\":\"\"},\"colorscale\":[[0.0,\"#0d0887\"],[0.1111111111111111,\"#46039f\"],[0.2222222222222222,\"#7201a8\"],[0.3333333333333333,\"#9c179e\"],[0.4444444444444444,\"#bd3786\"],[0.5555555555555556,\"#d8576b\"],[0.6666666666666666,\"#ed7953\"],[0.7777777777777778,\"#fb9f3a\"],[0.8888888888888888,\"#fdca26\"],[1.0,\"#f0f921\"]]}],\"contourcarpet\":[{\"type\":\"contourcarpet\",\"colorbar\":{\"outlinewidth\":0,\"ticks\":\"\"}}],\"contour\":[{\"type\":\"contour\",\"colorbar\":{\"outlinewidth\":0,\"ticks\":\"\"},\"colorscale\":[[0.0,\"#0d0887\"],[0.1111111111111111,\"#46039f\"],[0.2222222222222222,\"#7201a8\"],[0.3333333333333333,\"#9c179e\"],[0.4444444444444444,\"#bd3786\"],[0.5555555555555556,\"#d8576b\"],[0.6666666666666666,\"#ed7953\"],[0.7777777777777778,\"#fb9f3a\"],[0.8888888888888888,\"#fdca26\"],[1.0,\"#f0f921\"]]}],\"surface\":[{\"type\":\"surface\",\"colorbar\":{\"outlinewidth\":0,\"ticks\":\"\"},\"colorscale\":[[0.0,\"#0d0887\"],[0.1111111111111111,\"#46039f\"],[0.2222222222222222,\"#7201a8\"],[0.3333333333333333,\"#9c179e\"],[0.4444444444444444,\"#bd3786\"],[0.5555555555555556,\"#d8576b\"],[0.6666666666666666,\"#ed7953\"],[0.7777777777777778,\"#fb9f3a\"],[0.8888888888888888,\"#fdca26\"],[1.0,\"#f0f921\"]]}],\"mesh3d\":[{\"type\":\"mesh3d\",\"colorbar\":{\"outlinewidth\":0,\"ticks\":\"\"}}],\"scatter\":[{\"fillpattern\":{\"fillmode\":\"overlay\",\"size\":10,\"solidity\":0.2},\"type\":\"scatter\"}],\"parcoords\":[{\"type\":\"parcoords\",\"line\":{\"colorbar\":{\"outlinewidth\":0,\"ticks\":\"\"}}}],\"scatterpolargl\":[{\"type\":\"scatterpolargl\",\"marker\":{\"colorbar\":{\"outlinewidth\":0,\"ticks\":\"\"}}}],\"bar\":[{\"error_x\":{\"color\":\"#2a3f5f\"},\"error_y\":{\"color\":\"#2a3f5f\"},\"marker\":{\"line\":{\"color\":\"#E5ECF6\",\"width\":0.5},\"pattern\":{\"fillmode\":\"overlay\",\"size\":10,\"solidity\":0.2}},\"type\":\"bar\"}],\"scattergeo\":[{\"type\":\"scattergeo\",\"marker\":{\"colorbar\":{\"outlinewidth\":0,\"ticks\":\"\"}}}],\"scatterpolar\":[{\"type\":\"scatterpolar\",\"marker\":{\"colorbar\":{\"outlinewidth\":0,\"ticks\":\"\"}}}],\"histogram\":[{\"marker\":{\"pattern\":{\"fillmode\":\"overlay\",\"size\":10,\"solidity\":0.2}},\"type\":\"histogram\"}],\"scattergl\":[{\"type\":\"scattergl\",\"marker\":{\"colorbar\":{\"outlinewidth\":0,\"ticks\":\"\"}}}],\"scatter3d\":[{\"type\":\"scatter3d\",\"line\":{\"colorbar\":{\"outlinewidth\":0,\"ticks\":\"\"}},\"marker\":{\"colorbar\":{\"outlinewidth\":0,\"ticks\":\"\"}}}],\"scattermapbox\":[{\"type\":\"scattermapbox\",\"marker\":{\"colorbar\":{\"outlinewidth\":0,\"ticks\":\"\"}}}],\"scatterternary\":[{\"type\":\"scatterternary\",\"marker\":{\"colorbar\":{\"outlinewidth\":0,\"ticks\":\"\"}}}],\"scattercarpet\":[{\"type\":\"scattercarpet\",\"marker\":{\"colorbar\":{\"outlinewidth\":0,\"ticks\":\"\"}}}],\"carpet\":[{\"aaxis\":{\"endlinecolor\":\"#2a3f5f\",\"gridcolor\":\"white\",\"linecolor\":\"white\",\"minorgridcolor\":\"white\",\"startlinecolor\":\"#2a3f5f\"},\"baxis\":{\"endlinecolor\":\"#2a3f5f\",\"gridcolor\":\"white\",\"linecolor\":\"white\",\"minorgridcolor\":\"white\",\"startlinecolor\":\"#2a3f5f\"},\"type\":\"carpet\"}],\"table\":[{\"cells\":{\"fill\":{\"color\":\"#EBF0F8\"},\"line\":{\"color\":\"white\"}},\"header\":{\"fill\":{\"color\":\"#C8D4E3\"},\"line\":{\"color\":\"white\"}},\"type\":\"table\"}],\"barpolar\":[{\"marker\":{\"line\":{\"color\":\"#E5ECF6\",\"width\":0.5},\"pattern\":{\"fillmode\":\"overlay\",\"size\":10,\"solidity\":0.2}},\"type\":\"barpolar\"}],\"pie\":[{\"automargin\":true,\"type\":\"pie\"}]},\"layout\":{\"autotypenumbers\":\"strict\",\"colorway\":[\"#636efa\",\"#EF553B\",\"#00cc96\",\"#ab63fa\",\"#FFA15A\",\"#19d3f3\",\"#FF6692\",\"#B6E880\",\"#FF97FF\",\"#FECB52\"],\"font\":{\"color\":\"#2a3f5f\"},\"hovermode\":\"closest\",\"hoverlabel\":{\"align\":\"left\"},\"paper_bgcolor\":\"white\",\"plot_bgcolor\":\"#E5ECF6\",\"polar\":{\"bgcolor\":\"#E5ECF6\",\"angularaxis\":{\"gridcolor\":\"white\",\"linecolor\":\"white\",\"ticks\":\"\"},\"radialaxis\":{\"gridcolor\":\"white\",\"linecolor\":\"white\",\"ticks\":\"\"}},\"ternary\":{\"bgcolor\":\"#E5ECF6\",\"aaxis\":{\"gridcolor\":\"white\",\"linecolor\":\"white\",\"ticks\":\"\"},\"baxis\":{\"gridcolor\":\"white\",\"linecolor\":\"white\",\"ticks\":\"\"},\"caxis\":{\"gridcolor\":\"white\",\"linecolor\":\"white\",\"ticks\":\"\"}},\"coloraxis\":{\"colorbar\":{\"outlinewidth\":0,\"ticks\":\"\"}},\"colorscale\":{\"sequential\":[[0.0,\"#0d0887\"],[0.1111111111111111,\"#46039f\"],[0.2222222222222222,\"#7201a8\"],[0.3333333333333333,\"#9c179e\"],[0.4444444444444444,\"#bd3786\"],[0.5555555555555556,\"#d8576b\"],[0.6666666666666666,\"#ed7953\"],[0.7777777777777778,\"#fb9f3a\"],[0.8888888888888888,\"#fdca26\"],[1.0,\"#f0f921\"]],\"sequentialminus\":[[0.0,\"#0d0887\"],[0.1111111111111111,\"#46039f\"],[0.2222222222222222,\"#7201a8\"],[0.3333333333333333,\"#9c179e\"],[0.4444444444444444,\"#bd3786\"],[0.5555555555555556,\"#d8576b\"],[0.6666666666666666,\"#ed7953\"],[0.7777777777777778,\"#fb9f3a\"],[0.8888888888888888,\"#fdca26\"],[1.0,\"#f0f921\"]],\"diverging\":[[0,\"#8e0152\"],[0.1,\"#c51b7d\"],[0.2,\"#de77ae\"],[0.3,\"#f1b6da\"],[0.4,\"#fde0ef\"],[0.5,\"#f7f7f7\"],[0.6,\"#e6f5d0\"],[0.7,\"#b8e186\"],[0.8,\"#7fbc41\"],[0.9,\"#4d9221\"],[1,\"#276419\"]]},\"xaxis\":{\"gridcolor\":\"white\",\"linecolor\":\"white\",\"ticks\":\"\",\"title\":{\"standoff\":15},\"zerolinecolor\":\"white\",\"automargin\":true,\"zerolinewidth\":2},\"yaxis\":{\"gridcolor\":\"white\",\"linecolor\":\"white\",\"ticks\":\"\",\"title\":{\"standoff\":15},\"zerolinecolor\":\"white\",\"automargin\":true,\"zerolinewidth\":2},\"scene\":{\"xaxis\":{\"backgroundcolor\":\"#E5ECF6\",\"gridcolor\":\"white\",\"linecolor\":\"white\",\"showbackground\":true,\"ticks\":\"\",\"zerolinecolor\":\"white\",\"gridwidth\":2},\"yaxis\":{\"backgroundcolor\":\"#E5ECF6\",\"gridcolor\":\"white\",\"linecolor\":\"white\",\"showbackground\":true,\"ticks\":\"\",\"zerolinecolor\":\"white\",\"gridwidth\":2},\"zaxis\":{\"backgroundcolor\":\"#E5ECF6\",\"gridcolor\":\"white\",\"linecolor\":\"white\",\"showbackground\":true,\"ticks\":\"\",\"zerolinecolor\":\"white\",\"gridwidth\":2}},\"shapedefaults\":{\"line\":{\"color\":\"#2a3f5f\"}},\"annotationdefaults\":{\"arrowcolor\":\"#2a3f5f\",\"arrowhead\":0,\"arrowwidth\":1},\"geo\":{\"bgcolor\":\"white\",\"landcolor\":\"#E5ECF6\",\"subunitcolor\":\"white\",\"showland\":true,\"showlakes\":true,\"lakecolor\":\"white\"},\"title\":{\"x\":0.05},\"mapbox\":{\"style\":\"light\"}}}},                        {\"responsive\": true}                    ).then(function(){\n",
              "                            \n",
              "var gd = document.getElementById('8795c012-10bd-46ac-8239-0f6f324bfd93');\n",
              "var x = new MutationObserver(function (mutations, observer) {{\n",
              "        var display = window.getComputedStyle(gd).display;\n",
              "        if (!display || display === 'none') {{\n",
              "            console.log([gd, 'removed!']);\n",
              "            Plotly.purge(gd);\n",
              "            observer.disconnect();\n",
              "        }}\n",
              "}});\n",
              "\n",
              "// Listen for the removal of the full notebook cells\n",
              "var notebookContainer = gd.closest('#notebook-container');\n",
              "if (notebookContainer) {{\n",
              "    x.observe(notebookContainer, {childList: true});\n",
              "}}\n",
              "\n",
              "// Listen for the clearing of the current output cell\n",
              "var outputEl = gd.closest('.output');\n",
              "if (outputEl) {{\n",
              "    x.observe(outputEl, {childList: true});\n",
              "}}\n",
              "\n",
              "                        })                };                            </script>        </div>\n",
              "</body>\n",
              "</html>"
            ]
          },
          "metadata": {}
        }
      ]
    },
    {
      "cell_type": "markdown",
      "source": [
        "**Distributions**: By seeing the distributions we can have an idea how skewed are these features, we can also see further distributions of the other features.\n",
        "Only 492 (or 0.172%) of transaction are fraudulent. That means the data is highly unbalanced with respect with target variable Class.\n",
        "\n"
      ],
      "metadata": {
        "id": "eLNdw84RfIIy"
      }
    },
    {
      "cell_type": "markdown",
      "source": [
        "---"
      ],
      "metadata": {
        "id": "-ZG-1ZMuh4fY"
      }
    },
    {
      "cell_type": "markdown",
      "source": [
        ">Data Exploration"
      ],
      "metadata": {
        "id": "CRtVk8SOfPJl"
      }
    },
    {
      "cell_type": "code",
      "source": [
        "# Get the Time column data for non-fraudulent and fraudulent transactions\n",
        "class_0 = df.loc[df['Class'] == 0][\"Time\"]\n",
        "class_1 = df.loc[df['Class'] == 1][\"Time\"]\n",
        "\n",
        "# Define the histogram data and group labels\n",
        "hist_data = [class_0, class_1]\n",
        "group_labels = ['Non-fraudulent', 'Fraudulent']\n",
        "\n",
        "# Create the density plot using the histogram data and group labels\n",
        "fig = ff.create_distplot(hist_data, group_labels, show_hist=False, show_rug=False)\n",
        "\n",
        "# Update the plot layout to include a title and x-axis label\n",
        "fig['layout'].update(title='Density Plot of Credit Card Transaction Time vs Amount', xaxis=dict(title='Time [s]'))\n",
        "\n",
        "# Display the plot\n",
        "iplot(fig, filename='dist_only')\n"
      ],
      "metadata": {
        "colab": {
          "base_uri": "https://localhost:8080/"
        },
        "id": "zdzdpLTEY8Pg",
        "outputId": "3f4065e6-b8bc-42b0-ac28-203ab0d00f36"
      },
      "execution_count": null,
      "outputs": [
        {
          "output_type": "display_data",
          "data": {
            "text/html": [
              "<html>\n",
              "<head><meta charset=\"utf-8\" /></head>\n",
              "<body>\n",
              "    <div>            <script src=\"https://cdnjs.cloudflare.com/ajax/libs/mathjax/2.7.5/MathJax.js?config=TeX-AMS-MML_SVG\"></script><script type=\"text/javascript\">if (window.MathJax && window.MathJax.Hub && window.MathJax.Hub.Config) {window.MathJax.Hub.Config({SVG: {font: \"STIX-Web\"}});}</script>                <script type=\"text/javascript\">window.PlotlyConfig = {MathJaxConfig: 'local'};</script>\n",
              "        <script src=\"https://cdn.plot.ly/plotly-2.18.2.min.js\"></script>                <div id=\"3db9e21e-15de-43ae-9f09-dc8e5316bd93\" class=\"plotly-graph-div\" style=\"height:525px; width:100%;\"></div>            <script type=\"text/javascript\">                                    window.PLOTLYENV=window.PLOTLYENV || {};                                    if (document.getElementById(\"3db9e21e-15de-43ae-9f09-dc8e5316bd93\")) {                    Plotly.newPlot(                        \"3db9e21e-15de-43ae-9f09-dc8e5316bd93\",                        [{\"legendgroup\":\"Non-fraudulent\",\"marker\":{\"color\":\"rgb(31, 119, 180)\"},\"mode\":\"lines\",\"name\":\"Non-fraudulent\",\"showlegend\":true,\"x\":[0.0,345.584,691.168,1036.752,1382.336,1727.92,2073.504,2419.088,2764.672,3110.256,3455.84,3801.424,4147.008,4492.592,4838.176,5183.76,5529.344,5874.928,6220.512,6566.096,6911.68,7257.264,7602.848,7948.432,8294.016,8639.6,8985.184,9330.768,9676.352,10021.936,10367.52,10713.104,11058.688,11404.272,11749.856,12095.44,12441.024,12786.608,13132.192,13477.776,13823.36,14168.944,14514.528,14860.112,15205.696,15551.28,15896.864,16242.448,16588.032,16933.616,17279.2,17624.784,17970.368,18315.952,18661.536,19007.12,19352.704,19698.288,20043.872,20389.456,20735.04,21080.624,21426.208,21771.792,22117.376,22462.96,22808.544,23154.128,23499.712,23845.296,24190.88,24536.464,24882.048,25227.632,25573.216,25918.8,26264.384,26609.968,26955.552,27301.136,27646.72,27992.304,28337.888,28683.472,29029.056,29374.64,29720.224,30065.808,30411.392,30756.976,31102.56,31448.144,31793.728,32139.312,32484.896,32830.48,33176.064,33521.648,33867.232,34212.816,34558.4,34903.984,35249.568,35595.152,35940.736,36286.32,36631.904,36977.488,37323.072,37668.656,38014.24,38359.824,38705.408,39050.992,39396.576,39742.16,40087.744,40433.328,40778.912,41124.496,41470.08,41815.664,42161.248,42506.832,42852.416,43198.0,43543.584,43889.168,44234.752,44580.336,44925.92,45271.504,45617.088,45962.672,46308.256,46653.84,46999.424,47345.008,47690.592,48036.176,48381.76,48727.344,49072.928,49418.512,49764.096,50109.68,50455.264,50800.848,51146.432,51492.016,51837.6,52183.184,52528.768,52874.352,53219.936,53565.52,53911.104,54256.688,54602.272,54947.856,55293.44,55639.024,55984.608,56330.192,56675.776,57021.36,57366.944,57712.528,58058.112,58403.696,58749.28,59094.864,59440.448,59786.032,60131.616,60477.2,60822.784,61168.368,61513.952,61859.536,62205.12,62550.704,62896.288,63241.872,63587.456,63933.04,64278.624,64624.208,64969.792,65315.376,65660.96,66006.544,66352.128,66697.712,67043.296,67388.88,67734.464,68080.048,68425.632,68771.216,69116.8,69462.384,69807.968,70153.552,70499.136,70844.72,71190.304,71535.888,71881.472,72227.056,72572.64,72918.224,73263.808,73609.392,73954.976,74300.56,74646.144,74991.728,75337.312,75682.896,76028.48,76374.064,76719.648,77065.232,77410.816,77756.4,78101.984,78447.568,78793.152,79138.736,79484.32,79829.904,80175.488,80521.072,80866.656,81212.24,81557.824,81903.408,82248.992,82594.576,82940.16,83285.744,83631.328,83976.912,84322.496,84668.08,85013.664,85359.248,85704.832,86050.416,86396.0,86741.584,87087.168,87432.752,87778.336,88123.92,88469.504,88815.088,89160.672,89506.256,89851.84,90197.424,90543.008,90888.592,91234.176,91579.76,91925.344,92270.928,92616.512,92962.096,93307.68,93653.264,93998.848,94344.432,94690.016,95035.6,95381.184,95726.768,96072.352,96417.936,96763.52,97109.104,97454.688,97800.272,98145.856,98491.44,98837.024,99182.608,99528.192,99873.776,100219.36,100564.944,100910.528,101256.112,101601.696,101947.28,102292.864,102638.448,102984.032,103329.616,103675.2,104020.784,104366.368,104711.952,105057.536,105403.12,105748.704,106094.288,106439.872,106785.456,107131.04,107476.624,107822.208,108167.792,108513.376,108858.96,109204.544,109550.128,109895.712,110241.296,110586.88,110932.464,111278.048,111623.632,111969.216,112314.8,112660.384,113005.968,113351.552,113697.136,114042.72,114388.304,114733.888,115079.472,115425.056,115770.64,116116.224,116461.808,116807.392,117152.976,117498.56,117844.144,118189.728,118535.312,118880.896,119226.48,119572.064,119917.648,120263.232,120608.816,120954.4,121299.984,121645.568,121991.152,122336.736,122682.32,123027.904,123373.488,123719.072,124064.656,124410.24,124755.824,125101.408,125446.992,125792.576,126138.16,126483.744,126829.328,127174.912,127520.496,127866.08,128211.664,128557.248,128902.832,129248.416,129594.0,129939.584,130285.168,130630.752,130976.336,131321.92,131667.504,132013.088,132358.672,132704.256,133049.84,133395.424,133741.008,134086.592,134432.176,134777.76,135123.344,135468.928,135814.512,136160.096,136505.68,136851.264,137196.848,137542.432,137888.016,138233.6,138579.184,138924.768,139270.352,139615.936,139961.52,140307.104,140652.688,140998.272,141343.856,141689.44,142035.024,142380.608,142726.192,143071.776,143417.36,143762.944,144108.528,144454.112,144799.696,145145.28,145490.864,145836.448,146182.032,146527.616,146873.2,147218.784,147564.368,147909.952,148255.536,148601.12,148946.704,149292.288,149637.872,149983.456,150329.04,150674.624,151020.208,151365.792,151711.376,152056.96,152402.544,152748.128,153093.712,153439.296,153784.88,154130.464,154476.048,154821.632,155167.216,155512.8,155858.384,156203.968,156549.552,156895.136,157240.72,157586.304,157931.888,158277.472,158623.056,158968.64,159314.224,159659.808,160005.392,160350.976,160696.56,161042.144,161387.728,161733.312,162078.896,162424.48,162770.064,163115.648,163461.232,163806.816,164152.4,164497.984,164843.568,165189.152,165534.736,165880.32,166225.904,166571.488,166917.072,167262.656,167608.24,167953.824,168299.408,168644.992,168990.576,169336.16,169681.744,170027.328,170372.912,170718.496,171064.08,171409.664,171755.248,172100.832,172446.416],\"xaxis\":\"x\",\"y\":[1.6973474560862259e-06,1.7892406860838062e-06,1.8751066622895056e-06,1.9539240211315813e-06,2.0248147874841946e-06,2.08707000017282e-06,2.1401693523158417e-06,2.1837939471416962e-06,2.2178316034665916e-06,2.2423745117613394e-06,2.257709419619406e-06,2.2643008918188018e-06,2.262768523405099e-06,2.2538592651662714e-06,2.23841623407746e-06,2.2173455159802657e-06,2.1915825183281395e-06,2.162059397021128e-06,2.1296749680386746e-06,2.0952683311934044e-06,2.0595971930317096e-06,2.023321594571912e-06,1.9869934446533327e-06,1.951051949066508e-06,1.9158247265701045e-06,1.8815341310018958e-06,1.848308067129258e-06,1.8161944068400582e-06,1.7851779885078937e-06,1.7551991191213407e-06,1.7261724957825176e-06,1.6980055169883943e-06,1.6706150584078139e-06,1.6439419340972e-06,1.6179624420037478e-06,1.5926965909610427e-06,1.5682128135695861e-06,1.5446291740589583e-06,1.5221112719306263e-06,1.5008672116659287e-06,1.4811401484836664e-06,1.4631990243977308e-06,1.447328174052436e-06,1.4338165045343553e-06,1.4229469381475868e-06,1.4149867545429202e-06,1.4101793829092122e-06,1.4087380819813371e-06,1.4108418124353673e-06,1.416633460726771e-06,1.4262204239961593e-06,1.4396774207779602e-06,1.457051260044798e-06,1.4783671889174081e-06,1.503636353303531e-06,1.5328638503405982e-06,1.5660568294637841e-06,1.6032321108015962e-06,1.644422833837486e-06,1.6896837222361372e-06,1.739094646910135e-06,1.792762281809424e-06,1.8508197675565137e-06,1.91342441852153e-06,1.9807536210243026e-06,2.052999166716722e-06,2.130360339872763e-06,2.2130361262110283e-06,2.3012169320790753e-06,2.395076196709398e-06,2.494762249423483e-06,2.6003907126324243e-06,2.712037686308532e-06,2.8297338772311622e-06,2.9534597639182693e-06,3.083141822512351e-06,3.218649785632445e-06,3.3597948693886394e-06,3.506328885405064e-06,3.657944154693155e-06,3.8142741563072298e-06,3.974894871817512e-06,4.139326821281706e-06,4.307037821357344e-06,4.477446525210012e-06,4.6499268212931555e-06,4.8238131696183875e-06,4.998406937320514e-06,5.172983759820726e-06,5.346801901645486e-06,5.5191115259867515e-06,5.689164710128654e-06,5.856225971804275e-06,6.019583006720394e-06,6.178557286896823e-06,6.332514139090871e-06,6.480871916741138e-06,6.623109899729849e-06,6.758774603685427e-06,6.887484251983716e-06,7.00893125439331e-06,7.122882640061901e-06,7.22917850178734e-06,7.3277286152218586e-06,7.418507493160351e-06,7.5015482143994335e-06,7.576935423367105e-06,7.644797927105632e-06,7.705301318490016e-06,7.7586410291506e-06,7.805036164694746e-06,7.844724402420198e-06,7.877958143023881e-06,7.905002009088233e-06,7.92613168088056e-06,7.941633960959931e-06,7.95180786947959e-06,7.956966497383278e-06,7.957439289376495e-06,7.95357439583249e-06,7.94574072435943e-06,7.934329337960002e-06,7.919753886306888e-06,7.90244981707093e-06,7.882872191586451e-06,7.861492018651875e-06,7.838791116317143e-06,7.815255608175426e-06,7.791368252068974e-06,7.767599879605556e-06,7.74440028967119e-06,7.722188984437176e-06,7.701346159669052e-06,7.682204361436707e-06,7.665041198951464e-06,7.650073460067832e-06,7.637452914970819e-06,7.627264018689673e-06,7.6195236389617255e-06,7.614182847393351e-06,7.611130723686314e-06,7.6102000392217365e-06,7.611174611300588e-06,7.6137980557732675e-06,7.617783615693652e-06,7.622824708287957e-06,7.6286058123309786e-06,7.634813312831111e-06,7.641145929061617e-06,7.64732437441587e-06,7.653099931106341e-06,7.658261667941963e-06,7.662642083793556e-06,7.666121021265785e-06,7.668627762522012e-06,7.670141290160325e-06,7.670688767914207e-06,7.670342366006723e-06,7.669214621200134e-06,7.66745257869281e-06,7.665231008939393e-06,7.66274502428096e-06,7.660202435730384e-06,7.657816187892284e-06,7.655797189368887e-06,7.65434781807384e-06,7.65365632767947e-06,7.653892316465036e-06,7.655203347519249e-06,7.657712734803746e-06,7.661518438616225e-06,7.666692951868364e-06,7.673284010222381e-06,7.681315928223042e-06,7.690791352390222e-06,7.70169323139863e-06,7.713986831543374e-06,7.727621669694343e-06,7.742533291007232e-06,7.758644879036125e-06,7.775868744871467e-06,7.794107793011539e-06,7.81325709872003e-06,7.833205749804441e-06,7.853839101993095e-06,7.875041570289478e-06,7.896700030201668e-06,7.918707836091313e-06,7.940969384640012e-06,7.963405066766165e-06,7.98595636928918e-06,8.00859081649445e-06,8.031306389214003e-06,8.054135031363682e-06,8.077144855419425e-06,8.100440690962874e-06,8.12416268335992e-06,8.14848273946242e-06,8.173598728157818e-06,8.19972646813879e-06,8.227089664610317e-06,8.255908081986767e-06,8.286384352227616e-06,8.31868991113144e-06,8.352950622010562e-06,8.389232684289148e-06,8.427529432517213e-06,8.467749609997757e-06,8.509707653467902e-06,8.553116455128338e-06,8.597582980705839e-06,8.642607022227293e-06,8.68758325670654e-06,8.731806671225048e-06,8.774481304367475e-06,8.814732146393526e-06,8.851619937765274e-06,8.884158509418366e-06,8.91133421989988e-06,8.932126965959692e-06,8.945532176540064e-06,8.950583148096047e-06,8.946373044910828e-06,8.932075875017866e-06,8.906965763680843e-06,8.87043388472915e-06,8.822002476833976e-06,8.76133546686096e-06,8.68824534357329e-06,8.602696067955025e-06,8.50480196490831e-06,8.394822707027363e-06,8.273154665238245e-06,8.140319053533444e-06,7.99694742632507e-06,7.843765188647897e-06,7.681573845069685e-06,7.511232738581265e-06,7.333641014717291e-06,7.149720490327961e-06,6.960400015284132e-06,6.766601795741939e-06,6.569230008025072e-06,6.369161882344764e-06,6.167241285296684e-06,5.964274688715282e-06,5.761029288153016e-06,5.558232933420788e-06,5.356575460667157e-06,5.1567109726574455e-06,4.959260601368872e-06,4.764815303057653e-06,4.573938277349004e-06,4.387166664290929e-06,4.2050122516839715e-06,4.027961014003513e-06,3.8564713985995435e-06,3.690971369618424e-06,3.531854310764003e-06,3.3794739707040138e-06,3.2341387063642476e-06,3.096105336894178e-06,2.9655729626549326e-06,2.8426771276871017e-06,2.7274847098051116e-06,2.619989909357816e-06,2.5201116760150914e-06,2.427692863569818e-06,2.342501337296397e-06,2.2642331792465925e-06,2.1925180471487467e-06,2.1269266461765223e-06,2.0669801742745354e-06,2.0121615058942538e-06,1.961927791024422e-06,1.9157240712834853e-06,1.8729974570884043e-06,1.8332113732540548e-06,1.795859367380199e-06,1.7604779872841184e-06,1.7266582702356212e-06,1.694055445992838e-06,1.6623965343016342e-06,1.6314856110536921e-06,1.601206620175707e-06,1.5715237145407149e-06,1.5424792126083196e-06,1.5141893523611356e-06,1.486838105392346e-06,1.4606693777951221e-06,1.4359779681991326e-06,1.4130996757281784e-06,1.3924009520549695e-06,1.3742684736943766e-06,1.3590989758662613e-06,1.3472896412160879e-06,1.3392292794638088e-06,1.3352904719533148e-06,1.3358227923195593e-06,1.341147154951963e-06,1.3515512899463585e-06,1.3672862993904201e-06,1.38856421690328e-06,1.4155564712147404e-06,1.4483931452166285e-06,1.4871629234741587e-06,1.5319136320143348e-06,1.5826532920302118e-06,1.6393516311859588e-06,1.701942019429746e-06,1.7703238174880959e-06,1.8443651425656368e-06,1.923906064645726e-06,2.0087622462564432e-06,2.0987290275195534e-06,2.193585936646045e-06,2.293101574710356e-06,2.3970387845923002e-06,2.5051599704428932e-06,2.6172323897750874e-06,2.733033199748673e-06,2.8523540070366512e-06,2.9750046513343276e-06,3.1008159500099942e-06,3.2296411484896127e-06,3.3613558593164233e-06,3.4958563323563754e-06,3.6330559775247656e-06,3.77288015605973e-06,3.9152593615044e-06,4.060121020560155e-06,4.207380249287429e-06,4.356929993860338e-06,4.508631059529285e-06,4.662302579861024e-06,4.817713495387057e-06,4.9745755932158186e-06,5.132538606064661e-06,5.2911877821493745e-06,5.450044220727479e-06,5.6085681283196825e-06,5.766164996283173e-06,5.922194541198146e-06,6.075982095987883e-06,6.226832001933773e-06,6.374042439169823e-06,6.516921053370935e-06,6.654800694581853e-06,6.787054583109832e-06,6.913110256888787e-06,7.032461731690978e-06,7.1446794142477474e-06,7.249417441023877e-06,7.346418262603218e-06,7.435514445358034e-06,7.516627808025069e-06,7.5897661416846225e-06,7.65501786938152e-06,7.712545080304947e-06,7.762575419365271e-06,7.80539332511169e-06,7.841331088565962e-06,7.870760156336688e-06,7.894083028920024e-06,7.91172601610593e-06,7.924133013618904e-06,7.931760366075151e-06,7.935072788425499e-06,7.93454023728267e-06,7.930635559896009e-06,7.92383270505102e-06,7.914605258270497e-06,7.903425063041484e-06,7.89076070846611e-06,7.877075698645939e-06,7.862826166202865e-06,7.848458047158576e-06,7.834403692290486e-06,7.821077946804908e-06,7.80887378194564e-06,7.798157606035699e-06,7.789264416363822e-06,7.782492976151726e-06,7.778101212259413e-06,7.776302029754052e-06,7.777259729962857e-06,7.781087200522526e-06,7.787844020759936e-06,7.797535595084239e-06,7.810113392411537e-06,7.825476332418606e-06,7.843473320742813e-06,7.863906896333366e-06,7.886537915928428e-06,7.911091164212856e-06,7.93726174456668e-06,7.96472207570354e-06,7.993129295076794e-06,8.022132851958381e-06,8.05138206285166e-06,8.080533400309721e-06,8.109257294159882e-06,8.137244241794072e-06,8.164210051465267e-06,8.18990007848241e-06,8.214092357438601e-06,8.236599582026856e-06,8.257269934935495e-06,8.275986820935608e-06,8.292667603341442e-06,8.307261484600059e-06,8.319746703096491e-06,8.330127238270169e-06,8.338429223485022e-06,8.344697260356949e-06,8.348990810121108e-06,8.351380808722838e-06,8.351946615214959e-06,8.350773361117175e-06,8.347949725304513e-06,8.343566118802327e-06,8.337713230093593e-06,8.330480857437744e-06,8.321956942328976e-06,8.312226718654153e-06,8.301371904984086e-06,8.289469891130868e-06,8.276592901670648e-06,8.262807154751018e-06,8.248172069643047e-06,8.2327396065285e-06,8.216553842656704e-06,8.199650896786164e-06,8.182059306530184e-06,8.163800940243861e-06,8.144892487442374e-06,8.125347522248064e-06,8.105179077168387e-06,8.084402605008575e-06,8.063039150737186e-06,8.041118508591434e-06,8.018682107831947e-06,7.995785357477927e-06,7.972499188554671e-06,7.94891056241773e-06,7.925121764271025e-06,7.901248368810247e-06,7.87741584516872e-06,7.85375485515137e-06,7.8303953856032e-06,7.807459936140135e-06,7.785056051576899e-06,7.763268539232143e-06,7.742151741544886e-06,7.72172224223311e-06,7.701952369437008e-06,7.682764823383584e-06,7.664028701862064e-06,7.645557128088684e-06,7.627106606879591e-06,7.608378151350864e-06,7.589020138440522e-06,7.568632772026174e-06,7.546773961324195e-06,7.522966363070491e-06,7.4967052913752445e-06,7.467467171099347e-06,7.434718200257148e-06,7.397922894775451e-06,7.356552214556367e-06,7.310091012100789e-06,7.258044602058904e-06,7.199944319248213e-06,7.135352010448095e-06,7.063863487342655e-06,6.9851110494468006e-06,6.898765261308995e-06,6.804536232139009e-06,6.702174692783647e-06,6.591473189773045e-06,6.472267715052264e-06,6.344440060579499e-06,6.207921128630459e-06,6.0626953430227955e-06,5.90880619752802e-06,5.746362851759729e-06,5.575547550174991e-06,5.396623506475825e-06,5.209942774562269e-06,5.0159535292632225e-06,4.815206115540973e-06,4.608357202072422e-06,4.396171399757071e-06,4.179519780059323e-06,3.9593748505984624e-06,3.7368017104920415e-06,3.5129453063020974e-06,3.2890139285170296e-06,3.0662593135147833e-06,2.845953930965842e-06],\"yaxis\":\"y\",\"type\":\"scatter\"},{\"legendgroup\":\"Fraudulent\",\"marker\":{\"color\":\"rgb(255, 127, 14)\"},\"mode\":\"lines\",\"name\":\"Fraudulent\",\"showlegend\":true,\"x\":[406.0,745.884,1085.768,1425.652,1765.536,2105.42,2445.304,2785.188,3125.072,3464.956,3804.84,4144.724,4484.608,4824.492,5164.376,5504.26,5844.144,6184.028,6523.912,6863.796,7203.68,7543.564,7883.448,8223.332,8563.216,8903.1,9242.984,9582.868,9922.752,10262.636,10602.52,10942.404,11282.288,11622.172,11962.056,12301.94,12641.824,12981.708,13321.592,13661.476,14001.36,14341.244,14681.128,15021.012,15360.896,15700.78,16040.664,16380.548,16720.432,17060.316,17400.2,17740.084,18079.968,18419.852,18759.736,19099.62,19439.504,19779.388,20119.272,20459.156,20799.04,21138.924,21478.808,21818.692,22158.576,22498.46,22838.344,23178.228,23518.112,23857.996,24197.88,24537.764,24877.648,25217.532,25557.416,25897.3,26237.184,26577.068,26916.952,27256.836,27596.72,27936.604,28276.488,28616.372,28956.256,29296.14,29636.024,29975.908,30315.792,30655.676,30995.56,31335.444,31675.328,32015.212,32355.096,32694.98,33034.864,33374.748,33714.632,34054.516,34394.4,34734.284,35074.168,35414.052,35753.936,36093.82,36433.704,36773.588,37113.472,37453.356,37793.24,38133.124,38473.008,38812.892,39152.776,39492.66,39832.544,40172.428,40512.312,40852.196,41192.08,41531.964,41871.848,42211.732,42551.616,42891.5,43231.384,43571.268,43911.152,44251.036,44590.92,44930.804,45270.688,45610.572,45950.456,46290.34,46630.224,46970.108,47309.992,47649.876,47989.76,48329.644,48669.528,49009.412,49349.296,49689.18,50029.064,50368.948,50708.832,51048.716,51388.6,51728.484,52068.368,52408.252,52748.136,53088.02,53427.904,53767.788,54107.672,54447.556,54787.44,55127.324,55467.208,55807.092,56146.976,56486.86,56826.744,57166.628,57506.512,57846.396,58186.28,58526.164,58866.048,59205.932,59545.816,59885.7,60225.584,60565.468,60905.352,61245.236,61585.12,61925.004,62264.888,62604.772,62944.656,63284.54,63624.424,63964.308,64304.192,64644.076,64983.96,65323.844,65663.728,66003.612,66343.496,66683.38,67023.264,67363.148,67703.032,68042.916,68382.8,68722.684,69062.568,69402.452,69742.336,70082.22,70422.104,70761.988,71101.872,71441.756,71781.64,72121.524,72461.408,72801.292,73141.176,73481.06,73820.944,74160.828,74500.712,74840.596,75180.48,75520.364,75860.248,76200.132,76540.016,76879.9,77219.784,77559.668,77899.552,78239.436,78579.32,78919.204,79259.088,79598.972,79938.856,80278.74,80618.624,80958.508,81298.392,81638.276,81978.16,82318.044,82657.928,82997.812,83337.696,83677.58,84017.464,84357.348,84697.232,85037.116,85377.0,85716.884,86056.768,86396.652,86736.536,87076.42,87416.304,87756.188,88096.072,88435.956,88775.84,89115.724,89455.608,89795.492,90135.376,90475.26,90815.144,91155.028,91494.912,91834.796,92174.68,92514.564,92854.448,93194.332,93534.216,93874.1,94213.984,94553.868,94893.752,95233.636,95573.52,95913.404,96253.288,96593.172,96933.056,97272.94,97612.824,97952.708,98292.592,98632.476,98972.36,99312.244,99652.128,99992.012,100331.896,100671.78,101011.664,101351.548,101691.432,102031.316,102371.2,102711.084,103050.968,103390.852,103730.736,104070.62,104410.504,104750.388,105090.272,105430.156,105770.04,106109.924,106449.808,106789.692,107129.576,107469.46,107809.344,108149.228,108489.112,108828.996,109168.88,109508.764,109848.648,110188.532,110528.416,110868.3,111208.184,111548.068,111887.952,112227.836,112567.72,112907.604,113247.488,113587.372,113927.256,114267.14,114607.024,114946.908,115286.792,115626.676,115966.56,116306.444,116646.328,116986.212,117326.096,117665.98,118005.864,118345.748,118685.632,119025.516,119365.4,119705.284,120045.168,120385.052,120724.936,121064.82,121404.704,121744.588,122084.472,122424.356,122764.24,123104.124,123444.008,123783.892,124123.776,124463.66,124803.544,125143.428,125483.312,125823.196,126163.08,126502.964,126842.848,127182.732,127522.616,127862.5,128202.384,128542.268,128882.152,129222.036,129561.92,129901.804,130241.688,130581.572,130921.456,131261.34,131601.224,131941.108,132280.992,132620.876,132960.76,133300.644,133640.528,133980.412,134320.296,134660.18,135000.064,135339.948,135679.832,136019.716,136359.6,136699.484,137039.368,137379.252,137719.136,138059.02,138398.904,138738.788,139078.672,139418.556,139758.44,140098.324,140438.208,140778.092,141117.976,141457.86,141797.744,142137.628,142477.512,142817.396,143157.28,143497.164,143837.048,144176.932,144516.816,144856.7,145196.584,145536.468,145876.352,146216.236,146556.12,146896.004,147235.888,147575.772,147915.656,148255.54,148595.424,148935.308,149275.192,149615.076,149954.96,150294.844,150634.728,150974.612,151314.496,151654.38,151994.264,152334.148,152674.032,153013.916,153353.8,153693.684,154033.568,154373.452,154713.336,155053.22,155393.104,155732.988,156072.872,156412.756,156752.64,157092.524,157432.408,157772.292,158112.176,158452.06,158791.944,159131.828,159471.712,159811.596,160151.48,160491.364,160831.248,161171.132,161511.016,161850.9,162190.784,162530.668,162870.552,163210.436,163550.32,163890.204,164230.088,164569.972,164909.856,165249.74,165589.624,165929.508,166269.392,166609.276,166949.16,167289.044,167628.928,167968.812,168308.696,168648.58,168988.464,169328.348,169668.232,170008.116],\"xaxis\":\"x\",\"y\":[2.5725270199184186e-06,2.6310058058129387e-06,2.6897686304363113e-06,2.748786647363209e-06,2.8080309928186174e-06,2.867472852442724e-06,2.9270835279276285e-06,2.9868345032672523e-06,3.0466975103604765e-06,3.106644593707739e-06,3.1666481739421243e-06,3.226681109938766e-06,3.286716759249754e-06,3.3467290366169334e-06,3.4066924703207853e-06,3.4665822561312507e-06,3.5263743086346612e-06,3.586045309720728e-06,3.645572754024372e-06,3.704934991128807e-06,3.764111264349628e-06,3.823081745932931e-06,3.8818275685156236e-06,3.940330852711665e-06,3.998574730703818e-06,4.056543365738183e-06,4.114221967435876e-06,4.171596802854251e-06,4.22865520324932e-06,4.2853855665086814e-06,4.341777355244726e-06,4.397821090555966e-06,4.453508341484275e-06,4.508831710215101e-06,4.563784813086301e-06,4.618362257490829e-06,4.672559614776593e-06,4.726373389264856e-06,4.779800983526774e-06,4.832840660073917e-06,4.885491499635645e-06,4.937753356211278e-06,4.989626809100186e-06,5.041113112126349e-06,5.092214140287206e-06,5.142932334068027e-06,5.193270641674183e-06,5.2432324594427434e-06,5.292821570703958e-06,5.342042083369238e-06,5.390898366529313e-06,5.439394986349832e-06,5.487536641555415e-06,5.53532809879497e-06,5.5827741281816e-06,5.629879439299518e-06,5.676648617968544e-06,5.7230860640530265e-06,5.769195930597303e-06,5.814982064563845e-06,5.860447949442463e-06,5.905596649991412e-06,5.9504307593597875e-06,5.9949523488313795e-06,6.039162920417333e-06,6.083063362511553e-06,6.126653908809835e-06,6.169934100677941e-06,6.212902753138355e-06,6.255557924628919e-06,6.297896890669667e-06,6.339916121555686e-06,6.381611264176304e-06,6.422977128041518e-06,6.464007675577934e-06,6.504696016736774e-06,6.545034407937353e-06,6.58501425534952e-06,6.6246261224990165e-06,6.663859742160641e-06,6.702704032484233e-06,6.7411471172800726e-06,6.779176350371274e-06,6.816778343903149e-06,6.85393900048132e-06,6.890643548994117e-06,6.926876583958109e-06,6.962622108210547e-06,6.997863578757841e-06,7.032583955575589e-06,7.066765753143316e-06,7.100391094485444e-06,7.133441767479521e-06,7.165899283183914e-06,7.197744935928864e-06,7.228959864908297e-06,7.2595251170041e-06,7.289421710570782e-06,7.318630699905537e-06,7.34713324012691e-06,7.3749106521859724e-06,7.401944487734288e-06,7.4282165935761576e-06,7.453709175436183e-06,7.478404860778613e-06,7.5022867604211935e-06,7.525338528694e-06,7.547544421902763e-06,7.568889354865974e-06,7.589358955305964e-06,7.608939615886946e-06,7.627618543704963e-06,7.645383807049724e-06,7.662224379271767e-06,7.678130179605082e-06,7.693092110809927e-06,7.707102093518341e-06,7.720153097180765e-06,7.73223916753028e-06,7.74335545049777e-06,7.753498212529612e-06,7.762664857276409e-06,7.770853938639618e-06,7.778065170179878e-06,7.784299430908184e-06,7.789558767497564e-06,7.793846392970039e-06,7.797166681927951e-06,7.799525162415758e-06,7.800928504511102e-06,7.801384505758749e-06,7.800902073572754e-06,7.79949120474543e-06,7.79716296221043e-06,7.793929449219127e-06,7.7898037810964e-06,7.784800054750648e-06,7.778933316118147e-06,7.772219525727596e-06,7.764675522574616e-06,7.756318986497791e-06,7.747168399250415e-06,7.737243004461252e-06,7.726562766677174e-06,7.715148329678113e-06,7.703020974251558e-06,7.690202575608856e-06,7.676715560620782e-06,7.662582865042436e-06,7.647827890890533e-06,7.632474464127642e-06,7.61654679279824e-06,7.600069425751879e-06,7.583067212077928e-06,7.565565261364993e-06,7.547588904886183e-06,7.529163657799741e-06,7.5103151824412315e-06,7.491069252771464e-06,7.471451720031028e-06,7.451488479639303e-06,7.431205439363627e-06,7.410628488770476e-06,7.3897834699591784e-06,7.368696149565698e-06,7.347392192012734e-06,7.325897133970946e-06,7.304236359985557e-06,7.282435079212542e-06,7.260518303199248e-06,7.238510824635932e-06,7.21643719699678e-06,7.194321714982593e-06,7.172188395671026e-06,7.150060960275749e-06,7.127962816411894e-06,7.105917040762377e-06,7.083946362037864e-06,7.062073144122659e-06,7.0403193692987845e-06,7.018706621442342e-06,6.997256069088543e-06,6.97598844826533e-06,6.954924045000071e-06,6.934082677409289e-06,6.9134836772881055e-06,6.8931458711228284e-06,6.873087560459115e-06,6.853326501566601e-06,6.8338798843506185e-06,6.8147643104725706e-06,6.795995770650812e-06,6.777589621125901e-06,6.759560559286023e-06,6.7419225984606654e-06,6.724689041902918e-06,6.707872455994472e-06,6.691484642719272e-06,6.6755366114657315e-06,6.660038550229452e-06,6.644999796301856e-06,6.630428806542278e-06,6.6163331273431365e-06,6.6027193644101595e-06,6.589593152489993e-06,6.576959125189143e-06,6.564820885037666e-06,6.553180973960314e-06,6.542040844326773e-06,6.531400830759609e-06,6.521260122885778e-06,6.511616739222865e-06,6.502467502396012e-06,6.493808015884789e-06,6.485632642502066e-06,6.477934484807597e-06,6.470705367659421e-06,6.463935823104735e-06,6.457615077809518e-06,6.451731043222338e-06,6.446270308662629e-06,6.441218137517905e-06,6.436558466726337e-06,6.43227390971253e-06,6.428345762934643e-06,6.424754016189529e-06,6.421477366810481e-06,6.418493237878816e-06,6.415777800556126e-06,6.413306000628759e-06,6.411051589339758e-06,6.4089871585665144e-06,6.407084180384329e-06,6.405313051037887e-06,6.4036431393233005e-06,6.402042839363785e-06,6.400479627742148e-06,6.398920124932859e-06,6.397330160956058e-06,6.395674845154956e-06,6.39391863997806e-06,6.39202543862633e-06,6.389958646405969e-06,6.387681265607016e-06,6.385155983708637e-06,6.382345264692885e-06,6.379211443230841e-06,6.375716821486896e-06,6.371823768270628e-06,6.367494820249904e-06,6.362692784924034e-06,6.357380845042474e-06,6.35152266414181e-06,6.345082492863204e-06,6.338025275702306e-06,6.3303167578356885e-06,6.321923591660976e-06,6.312813442682563e-06,6.302955094371124e-06,6.292318551623298e-06,6.2808751424471336e-06,6.268597617500529e-06,6.255460247112576e-06,6.2414389154223915e-06,6.226511211276388e-06,6.210656515532497e-06,6.193856084429971e-06,6.176093128693818e-06,6.157352888056185e-06,6.137622700890802e-06,6.1168920686722895e-06,6.09515271498915e-06,6.072398638857374e-06,6.048626162101344e-06,6.023833970588854e-06,5.998023149129176e-06,5.9711972098654e-06,5.943362114015652e-06,5.914526286842006e-06,5.884700625750639e-06,5.853898501451925e-06,5.822135752134672e-06,5.789430670634891e-06,5.7558039846049595e-06,5.721278829715634e-06,5.685880715948575e-06,5.649637487063373e-06,5.612579273347978e-06,5.57473843778623e-06,5.536149515800898e-06,5.496849148753551e-06,5.4568760114060885e-06,5.416270733570009e-06,5.375075816190753e-06,5.3333355421342156e-06,5.291095881960869e-06,5.248404394990799e-06,5.205310125978372e-06,5.161863497730502e-06,5.11811620001525e-06,5.074121075119355e-06,5.029932000423423e-06,4.985603768372087e-06,4.941191964223304e-06,4.896752841966395e-06,4.852343198802163e-06,4.80802024858019e-06,4.763841494589364e-06,4.719864602095872e-06,4.676147271020594e-06,4.632747109143137e-06,4.589721506214108e-06,4.54712750934956e-06,4.505021700072855e-06,4.463460073358999e-06,4.4224979190248335e-06,4.382189705795714e-06,4.342588968365246e-06,4.303748197749749e-06,4.265718735222607e-06,4.2285506700970366e-06,4.192292741607468e-06,4.156992245121313e-06,4.122694942893465e-06,4.089444979555857e-06,4.057284802514109e-06,4.0262550874025305e-06,3.996394668727529e-06,3.967740475808403e-06,3.940327474103151e-06,3.914188611985556e-06,3.889354773018637e-06,3.865854733748631e-06,3.843715127022968e-06,3.822960410815291e-06,3.803612842520981e-06,3.785692458667051e-06,3.769217059961994e-06,3.754202201592923e-06,3.740661188660427e-06,3.728605076625153e-06,3.718042676624745e-06,3.708980565505328e-06,3.701423100398431e-06,3.695372437661674e-06,3.690828555990535e-06,3.687789283498205e-06,3.686250328551705e-06,3.686205314144638e-06,3.6876458155803848e-06,3.6905614012342003e-06,3.6949396761586572e-06,3.7007663282937523e-06,3.7080251770415623e-06,3.716698223964658e-06,3.7267657053682896e-06,3.738206146528158e-06,3.750996417328554e-06,3.765111789079822e-06,3.7805259922891007e-06,3.79721127516457e-06,3.815138462640425e-06,3.834277015717924e-06,3.854595090926631e-06,3.876059599719658e-06,3.898636267627168e-06,3.9222896930032995e-06,3.946983405213358e-06,3.9726799221203845e-06,3.999340806742459e-06,4.026926722965422e-06,4.055397490208564e-06,4.0847121369544435e-06,4.114828953067467e-06,4.145705540839358e-06,4.1772988647133245e-06,4.209565299651934e-06,4.24246067812716e-06,4.275940335723666e-06,4.3099591553593355e-06,4.344471610138979e-06,4.37943180486875e-06,4.414793516270265e-06,4.4505102319434324e-06,4.486535188137168e-06,4.522821406396072e-06,4.559321729159453e-06,4.595988854396513e-06,4.632775369368175e-06,4.669633783611572e-06,4.706516561248101e-06,4.743376152719513e-06,4.780165026059656e-06,4.816835697810894e-06,4.853340763695297e-06,4.889632929150574e-06,4.925665039839297e-06,4.96139011223806e-06,4.996761364410149e-06,5.031732247060995e-06,5.066256474971184e-06,5.100288058895631e-06,5.133781338011263e-06,5.166691012987884e-06,5.198972179749111e-06,5.230580363981222e-06,5.2614715564386395e-06,5.291602249084776e-06,5.320929472096579e-06,5.349410831750429e-06,5.377004549195869e-06,5.403669500112425e-06,5.429365255233112e-06,5.454052121706752e-06,5.4776911852595815e-06,5.50024435310493e-06,5.52167439753864e-06,5.54194500014637e-06,5.56102079653823e-06,5.57886742151579e-06,5.5954515545659165e-06,5.610740965567116e-06,5.624704560584351e-06,5.637312427620307e-06,5.648535882183501e-06,5.658347512526509e-06,5.6667212244016785e-06,5.673632285176339e-06,5.679057367145257e-06,5.682974589874615e-06,5.685363561409189e-06,5.686205418173047e-06,5.685482863393368e-06,5.683180203877498e-06,5.679283384974735e-06,5.67378002355672e-06,5.666659438853749e-06,5.657912680988523e-06,5.6475325570542406e-06,5.63551365459e-06,5.621852362313588e-06,5.6065468879795106e-06,5.589597273238927e-06,5.571005405387349e-06,5.550775025896204e-06,5.52891173563508e-06,5.5054229967025865e-06,5.480318130795819e-06,5.453608314060394e-06,5.425306568375872e-06,5.39542774904404e-06,5.363988528860968e-06,5.331007378566766e-06,5.296504543680577e-06,5.260502017741649e-06,5.223023511990749e-06,5.184094421539269e-06,5.143741788086644e-06,5.101994259259249e-06,5.058882044656463e-06,5.014436868701738e-06,4.9686919204079945e-06,4.921681800177756e-06,4.8734424637691154e-06,4.824011163568485e-06,4.773426387320355e-06,4.721727794472898e-06,4.668956150306303e-06,4.615153258017566e-06,4.5603618889420855e-06,4.504625711097862e-06,4.447989216242832e-06,4.390497645639763e-06,4.3321969147263505e-06,4.273133536890291e-06,4.213354546550479e-06,4.15290742174628e-06,4.091840006436423e-06,4.030200432708103e-06,3.9680370430951275e-06,3.905398313201445e-06,3.842332774823004e-06,3.778888939757001e-06,3.7151152244830654e-06,3.651059875895513e-06,3.5867708982600224e-06,3.5222959815618254e-06,3.457682431405479e-06,3.3929771006189404e-06,3.328226322707073e-06,3.263475847291374e-06,3.1987707776643135e-06,3.1341555105780307e-06,3.069673678378031e-06,3.005368093583345e-06,2.9412806960054633e-06,2.87745250248868e-06,2.8139235593453085e-06,2.750732897549392e-06,2.6879184907434168e-06],\"yaxis\":\"y\",\"type\":\"scatter\"}],                        {\"barmode\":\"overlay\",\"hovermode\":\"closest\",\"legend\":{\"traceorder\":\"reversed\"},\"template\":{\"data\":{\"barpolar\":[{\"marker\":{\"line\":{\"color\":\"#E5ECF6\",\"width\":0.5},\"pattern\":{\"fillmode\":\"overlay\",\"size\":10,\"solidity\":0.2}},\"type\":\"barpolar\"}],\"bar\":[{\"error_x\":{\"color\":\"#2a3f5f\"},\"error_y\":{\"color\":\"#2a3f5f\"},\"marker\":{\"line\":{\"color\":\"#E5ECF6\",\"width\":0.5},\"pattern\":{\"fillmode\":\"overlay\",\"size\":10,\"solidity\":0.2}},\"type\":\"bar\"}],\"carpet\":[{\"aaxis\":{\"endlinecolor\":\"#2a3f5f\",\"gridcolor\":\"white\",\"linecolor\":\"white\",\"minorgridcolor\":\"white\",\"startlinecolor\":\"#2a3f5f\"},\"baxis\":{\"endlinecolor\":\"#2a3f5f\",\"gridcolor\":\"white\",\"linecolor\":\"white\",\"minorgridcolor\":\"white\",\"startlinecolor\":\"#2a3f5f\"},\"type\":\"carpet\"}],\"choropleth\":[{\"colorbar\":{\"outlinewidth\":0,\"ticks\":\"\"},\"type\":\"choropleth\"}],\"contourcarpet\":[{\"colorbar\":{\"outlinewidth\":0,\"ticks\":\"\"},\"type\":\"contourcarpet\"}],\"contour\":[{\"colorbar\":{\"outlinewidth\":0,\"ticks\":\"\"},\"colorscale\":[[0.0,\"#0d0887\"],[0.1111111111111111,\"#46039f\"],[0.2222222222222222,\"#7201a8\"],[0.3333333333333333,\"#9c179e\"],[0.4444444444444444,\"#bd3786\"],[0.5555555555555556,\"#d8576b\"],[0.6666666666666666,\"#ed7953\"],[0.7777777777777778,\"#fb9f3a\"],[0.8888888888888888,\"#fdca26\"],[1.0,\"#f0f921\"]],\"type\":\"contour\"}],\"heatmapgl\":[{\"colorbar\":{\"outlinewidth\":0,\"ticks\":\"\"},\"colorscale\":[[0.0,\"#0d0887\"],[0.1111111111111111,\"#46039f\"],[0.2222222222222222,\"#7201a8\"],[0.3333333333333333,\"#9c179e\"],[0.4444444444444444,\"#bd3786\"],[0.5555555555555556,\"#d8576b\"],[0.6666666666666666,\"#ed7953\"],[0.7777777777777778,\"#fb9f3a\"],[0.8888888888888888,\"#fdca26\"],[1.0,\"#f0f921\"]],\"type\":\"heatmapgl\"}],\"heatmap\":[{\"colorbar\":{\"outlinewidth\":0,\"ticks\":\"\"},\"colorscale\":[[0.0,\"#0d0887\"],[0.1111111111111111,\"#46039f\"],[0.2222222222222222,\"#7201a8\"],[0.3333333333333333,\"#9c179e\"],[0.4444444444444444,\"#bd3786\"],[0.5555555555555556,\"#d8576b\"],[0.6666666666666666,\"#ed7953\"],[0.7777777777777778,\"#fb9f3a\"],[0.8888888888888888,\"#fdca26\"],[1.0,\"#f0f921\"]],\"type\":\"heatmap\"}],\"histogram2dcontour\":[{\"colorbar\":{\"outlinewidth\":0,\"ticks\":\"\"},\"colorscale\":[[0.0,\"#0d0887\"],[0.1111111111111111,\"#46039f\"],[0.2222222222222222,\"#7201a8\"],[0.3333333333333333,\"#9c179e\"],[0.4444444444444444,\"#bd3786\"],[0.5555555555555556,\"#d8576b\"],[0.6666666666666666,\"#ed7953\"],[0.7777777777777778,\"#fb9f3a\"],[0.8888888888888888,\"#fdca26\"],[1.0,\"#f0f921\"]],\"type\":\"histogram2dcontour\"}],\"histogram2d\":[{\"colorbar\":{\"outlinewidth\":0,\"ticks\":\"\"},\"colorscale\":[[0.0,\"#0d0887\"],[0.1111111111111111,\"#46039f\"],[0.2222222222222222,\"#7201a8\"],[0.3333333333333333,\"#9c179e\"],[0.4444444444444444,\"#bd3786\"],[0.5555555555555556,\"#d8576b\"],[0.6666666666666666,\"#ed7953\"],[0.7777777777777778,\"#fb9f3a\"],[0.8888888888888888,\"#fdca26\"],[1.0,\"#f0f921\"]],\"type\":\"histogram2d\"}],\"histogram\":[{\"marker\":{\"pattern\":{\"fillmode\":\"overlay\",\"size\":10,\"solidity\":0.2}},\"type\":\"histogram\"}],\"mesh3d\":[{\"colorbar\":{\"outlinewidth\":0,\"ticks\":\"\"},\"type\":\"mesh3d\"}],\"parcoords\":[{\"line\":{\"colorbar\":{\"outlinewidth\":0,\"ticks\":\"\"}},\"type\":\"parcoords\"}],\"pie\":[{\"automargin\":true,\"type\":\"pie\"}],\"scatter3d\":[{\"line\":{\"colorbar\":{\"outlinewidth\":0,\"ticks\":\"\"}},\"marker\":{\"colorbar\":{\"outlinewidth\":0,\"ticks\":\"\"}},\"type\":\"scatter3d\"}],\"scattercarpet\":[{\"marker\":{\"colorbar\":{\"outlinewidth\":0,\"ticks\":\"\"}},\"type\":\"scattercarpet\"}],\"scattergeo\":[{\"marker\":{\"colorbar\":{\"outlinewidth\":0,\"ticks\":\"\"}},\"type\":\"scattergeo\"}],\"scattergl\":[{\"marker\":{\"colorbar\":{\"outlinewidth\":0,\"ticks\":\"\"}},\"type\":\"scattergl\"}],\"scattermapbox\":[{\"marker\":{\"colorbar\":{\"outlinewidth\":0,\"ticks\":\"\"}},\"type\":\"scattermapbox\"}],\"scatterpolargl\":[{\"marker\":{\"colorbar\":{\"outlinewidth\":0,\"ticks\":\"\"}},\"type\":\"scatterpolargl\"}],\"scatterpolar\":[{\"marker\":{\"colorbar\":{\"outlinewidth\":0,\"ticks\":\"\"}},\"type\":\"scatterpolar\"}],\"scatter\":[{\"fillpattern\":{\"fillmode\":\"overlay\",\"size\":10,\"solidity\":0.2},\"type\":\"scatter\"}],\"scatterternary\":[{\"marker\":{\"colorbar\":{\"outlinewidth\":0,\"ticks\":\"\"}},\"type\":\"scatterternary\"}],\"surface\":[{\"colorbar\":{\"outlinewidth\":0,\"ticks\":\"\"},\"colorscale\":[[0.0,\"#0d0887\"],[0.1111111111111111,\"#46039f\"],[0.2222222222222222,\"#7201a8\"],[0.3333333333333333,\"#9c179e\"],[0.4444444444444444,\"#bd3786\"],[0.5555555555555556,\"#d8576b\"],[0.6666666666666666,\"#ed7953\"],[0.7777777777777778,\"#fb9f3a\"],[0.8888888888888888,\"#fdca26\"],[1.0,\"#f0f921\"]],\"type\":\"surface\"}],\"table\":[{\"cells\":{\"fill\":{\"color\":\"#EBF0F8\"},\"line\":{\"color\":\"white\"}},\"header\":{\"fill\":{\"color\":\"#C8D4E3\"},\"line\":{\"color\":\"white\"}},\"type\":\"table\"}]},\"layout\":{\"annotationdefaults\":{\"arrowcolor\":\"#2a3f5f\",\"arrowhead\":0,\"arrowwidth\":1},\"autotypenumbers\":\"strict\",\"coloraxis\":{\"colorbar\":{\"outlinewidth\":0,\"ticks\":\"\"}},\"colorscale\":{\"diverging\":[[0,\"#8e0152\"],[0.1,\"#c51b7d\"],[0.2,\"#de77ae\"],[0.3,\"#f1b6da\"],[0.4,\"#fde0ef\"],[0.5,\"#f7f7f7\"],[0.6,\"#e6f5d0\"],[0.7,\"#b8e186\"],[0.8,\"#7fbc41\"],[0.9,\"#4d9221\"],[1,\"#276419\"]],\"sequential\":[[0.0,\"#0d0887\"],[0.1111111111111111,\"#46039f\"],[0.2222222222222222,\"#7201a8\"],[0.3333333333333333,\"#9c179e\"],[0.4444444444444444,\"#bd3786\"],[0.5555555555555556,\"#d8576b\"],[0.6666666666666666,\"#ed7953\"],[0.7777777777777778,\"#fb9f3a\"],[0.8888888888888888,\"#fdca26\"],[1.0,\"#f0f921\"]],\"sequentialminus\":[[0.0,\"#0d0887\"],[0.1111111111111111,\"#46039f\"],[0.2222222222222222,\"#7201a8\"],[0.3333333333333333,\"#9c179e\"],[0.4444444444444444,\"#bd3786\"],[0.5555555555555556,\"#d8576b\"],[0.6666666666666666,\"#ed7953\"],[0.7777777777777778,\"#fb9f3a\"],[0.8888888888888888,\"#fdca26\"],[1.0,\"#f0f921\"]]},\"colorway\":[\"#636efa\",\"#EF553B\",\"#00cc96\",\"#ab63fa\",\"#FFA15A\",\"#19d3f3\",\"#FF6692\",\"#B6E880\",\"#FF97FF\",\"#FECB52\"],\"font\":{\"color\":\"#2a3f5f\"},\"geo\":{\"bgcolor\":\"white\",\"lakecolor\":\"white\",\"landcolor\":\"#E5ECF6\",\"showlakes\":true,\"showland\":true,\"subunitcolor\":\"white\"},\"hoverlabel\":{\"align\":\"left\"},\"hovermode\":\"closest\",\"mapbox\":{\"style\":\"light\"},\"paper_bgcolor\":\"white\",\"plot_bgcolor\":\"#E5ECF6\",\"polar\":{\"angularaxis\":{\"gridcolor\":\"white\",\"linecolor\":\"white\",\"ticks\":\"\"},\"bgcolor\":\"#E5ECF6\",\"radialaxis\":{\"gridcolor\":\"white\",\"linecolor\":\"white\",\"ticks\":\"\"}},\"scene\":{\"xaxis\":{\"backgroundcolor\":\"#E5ECF6\",\"gridcolor\":\"white\",\"gridwidth\":2,\"linecolor\":\"white\",\"showbackground\":true,\"ticks\":\"\",\"zerolinecolor\":\"white\"},\"yaxis\":{\"backgroundcolor\":\"#E5ECF6\",\"gridcolor\":\"white\",\"gridwidth\":2,\"linecolor\":\"white\",\"showbackground\":true,\"ticks\":\"\",\"zerolinecolor\":\"white\"},\"zaxis\":{\"backgroundcolor\":\"#E5ECF6\",\"gridcolor\":\"white\",\"gridwidth\":2,\"linecolor\":\"white\",\"showbackground\":true,\"ticks\":\"\",\"zerolinecolor\":\"white\"}},\"shapedefaults\":{\"line\":{\"color\":\"#2a3f5f\"}},\"ternary\":{\"aaxis\":{\"gridcolor\":\"white\",\"linecolor\":\"white\",\"ticks\":\"\"},\"baxis\":{\"gridcolor\":\"white\",\"linecolor\":\"white\",\"ticks\":\"\"},\"bgcolor\":\"#E5ECF6\",\"caxis\":{\"gridcolor\":\"white\",\"linecolor\":\"white\",\"ticks\":\"\"}},\"title\":{\"x\":0.05},\"xaxis\":{\"automargin\":true,\"gridcolor\":\"white\",\"linecolor\":\"white\",\"ticks\":\"\",\"title\":{\"standoff\":15},\"zerolinecolor\":\"white\",\"zerolinewidth\":2},\"yaxis\":{\"automargin\":true,\"gridcolor\":\"white\",\"linecolor\":\"white\",\"ticks\":\"\",\"title\":{\"standoff\":15},\"zerolinecolor\":\"white\",\"zerolinewidth\":2}}},\"title\":{\"text\":\"Density Plot of Credit Card Transaction Time vs Amount\"},\"xaxis\":{\"anchor\":\"y2\",\"domain\":[0.0,1.0],\"title\":{\"text\":\"Time [s]\"},\"zeroline\":false},\"yaxis\":{\"anchor\":\"free\",\"domain\":[0.0,1],\"position\":0.0}},                        {\"responsive\": true}                    ).then(function(){\n",
              "                            \n",
              "var gd = document.getElementById('3db9e21e-15de-43ae-9f09-dc8e5316bd93');\n",
              "var x = new MutationObserver(function (mutations, observer) {{\n",
              "        var display = window.getComputedStyle(gd).display;\n",
              "        if (!display || display === 'none') {{\n",
              "            console.log([gd, 'removed!']);\n",
              "            Plotly.purge(gd);\n",
              "            observer.disconnect();\n",
              "        }}\n",
              "}});\n",
              "\n",
              "// Listen for the removal of the full notebook cells\n",
              "var notebookContainer = gd.closest('#notebook-container');\n",
              "if (notebookContainer) {{\n",
              "    x.observe(notebookContainer, {childList: true});\n",
              "}}\n",
              "\n",
              "// Listen for the clearing of the current output cell\n",
              "var outputEl = gd.closest('.output');\n",
              "if (outputEl) {{\n",
              "    x.observe(outputEl, {childList: true});\n",
              "}}\n",
              "\n",
              "                        })                };                            </script>        </div>\n",
              "</body>\n",
              "</html>"
            ]
          },
          "metadata": {}
        }
      ]
    },
    {
      "cell_type": "code",
      "source": [
        "# Create a figure with two subplots side-by-side\n",
        "fig, axes = plt.subplots(ncols=2, figsize=(18, 4))\n",
        "\n",
        "# Plot the distribution of transaction amount in the first subplot\n",
        "sns.histplot(df['Amount'], ax=axes[0], color='r')\n",
        "axes[0].set_title('Distribution of Transaction Amount', fontsize=14)\n",
        "\n",
        "# Plot the distribution of transaction time in the second subplot\n",
        "sns.histplot(df['Time'], ax=axes[1], color='b')\n",
        "axes[1].set_title('Distribution of Transaction Time', fontsize=14)\n",
        "\n",
        "# Set the x-axis limits for each subplot based on the minimum and maximum values of the data\n",
        "x0, x1 = df['Amount'].min(), df['Amount'].max()\n",
        "x2, x3 = df['Time'].min(), df['Time'].max()\n",
        "axes[0].set_xlim(x0, x1)\n",
        "axes[1].set_xlim(x2, x3)\n",
        "\n",
        "# Display the plot\n",
        "plt.show()\n"
      ],
      "metadata": {
        "colab": {
          "base_uri": "https://localhost:8080/"
        },
        "id": "FXeandClhYWF",
        "outputId": "a9434200-cfa3-4069-9ce0-2049b69f9431"
      },
      "execution_count": null,
      "outputs": [
        {
          "output_type": "display_data",
          "data": {
            "text/plain": [
              "<Figure size 1800x400 with 2 Axes>"
            ],
            "image/png": "[encoded data removed]"
          },
          "metadata": {}
        }
      ]
    },
    {
      "cell_type": "markdown",
      "source": [
        "When compared to legitimate transactions, fraudulent ones are more uniformly spread out in time. This holds true even for the low genuine transaction times that occur at night in the Europe timezone."
      ],
      "metadata": {
        "id": "YApaGWrXirqs"
      }
    },
    {
      "cell_type": "markdown",
      "source": [
        "---"
      ],
      "metadata": {
        "id": "chDn67J7k2fp"
      }
    },
    {
      "cell_type": "markdown",
      "source": [
        ">Transactions Amount"
      ],
      "metadata": {
        "id": "d8xWo5bAk2Vt"
      }
    },
    {
      "cell_type": "code",
      "source": [
        "# Import the necessary libraries\n",
        "import plotly.express as px\n",
        "\n",
        "# Select only fraudulent transactions from the dataset\n",
        "fraud = df.loc[df['Class'] == 1]\n",
        "\n",
        "# Create a scatter plot with the time and amount of each fraudulent transaction\n",
        "fig = px.scatter(fraud, x='Time', y='Amount', color='Amount', size='Amount', \n",
        "                 title='Amount of Fraudulent Transactions', hover_data=['Amount'])\n",
        "\n",
        "# Update the transparency and line width of the markers to improve visibility\n",
        "fig.update_traces(marker=dict(opacity=0.5, line=dict(width=0.5, color='red')))\n",
        "\n",
        "# Update the layout of the plot to include axis labels and hover mode\n",
        "fig.update_layout(xaxis_title='Time [s]', yaxis_title='Amount', hovermode='closest')\n",
        "\n",
        "# Display the plot\n",
        "fig.show()\n"
      ],
      "metadata": {
        "colab": {
          "base_uri": "https://localhost:8080/"
        },
        "id": "WA5oUAS_h0Q7",
        "outputId": "2bb1506a-7a03-414b-a611-6fbda24b5132"
      },
      "execution_count": null,
      "outputs": [
        {
          "output_type": "display_data",
          "data": {
            "text/html": [
              "<html>\n",
              "<head><meta charset=\"utf-8\" /></head>\n",
              "<body>\n",
              "    <div>            <script src=\"https://cdnjs.cloudflare.com/ajax/libs/mathjax/2.7.5/MathJax.js?config=TeX-AMS-MML_SVG\"></script><script type=\"text/javascript\">if (window.MathJax && window.MathJax.Hub && window.MathJax.Hub.Config) {window.MathJax.Hub.Config({SVG: {font: \"STIX-Web\"}});}</script>                <script type=\"text/javascript\">window.PlotlyConfig = {MathJaxConfig: 'local'};</script>\n",
              "        <script src=\"https://cdn.plot.ly/plotly-2.18.2.min.js\"></script>                <div id=\"18690d3c-a3b2-42d9-851f-4fe4d47dbb5e\" class=\"plotly-graph-div\" style=\"height:525px; width:100%;\"></div>            <script type=\"text/javascript\">                                    window.PLOTLYENV=window.PLOTLYENV || {};                                    if (document.getElementById(\"18690d3c-a3b2-42d9-851f-4fe4d47dbb5e\")) {                    Plotly.newPlot(                        \"18690d3c-a3b2-42d9-851f-4fe4d47dbb5e\",                        [{\"hovertemplate\":\"Time=%{x}<br>Amount=%{marker.color}<extra></extra>\",\"legendgroup\":\"\",\"marker\":{\"color\":[0.0,529.0,239.93,59.0,1.0,1.0,1.0,1.0,1.0,1.0,1.0,1.0,1.0,1.0,1.0,1.0,1.0,1.0,1.0,1.0,1.0,1.1,1.0,1.0,1809.68,1.0,1.0,1.0,1.0,1.0,0.0,30.39,179.66,1.0,1.0,1.0,1.0,1.0,11.39,3.79,3.79,3.93,1.0,766.36,1218.89,1.0,188.78,1.0,1.0,1.0,1.0,1.0,1.0,1.0,1.0,1.0,3.12,99.99,99.99,99.99,3.76,99.99,99.99,99.99,99.99,99.99,99.99,99.99,99.99,99.99,99.99,99.99,99.99,23.36,99.99,730.86,99.99,99.99,99.99,99.99,99.99,0.68,0.68,0.68,30.3,104.81,0.0,717.15,19.02,1.52,18.96,125.3,19.02,0.76,60.6,7.61,1.0,9.13,4.56,14.46,111.7,111.7,12.31,776.83,1.0,1.0,1.0,1.0,0.76,0.76,112.33,3.79,340.11,88.23,5.3,83.38,11.38,1.52,88.23,30.26,459.07,0.0,118.3,45.49,173.07,37.32,59.68,0.76,9.99,34.12,273.01,106.55,364.19,39.45,53.95,172.32,802.52,99.99,139.9,1.0,1.0,1.0,1.0,1.0,648.0,204.27,88.0,24.9,1.0,1.0,1.0,105.99,1.0,1.0,1.0,1.0,0.76,7.58,0.76,0.76,208.58,1.0,19.73,360.0,99.99,99.99,99.99,99.99,99.99,519.9,0.76,0.76,1.18,8.0,0.0,112.45,261.87,1.79,1.0,0.83,0.83,130.44,311.91,170.92,153.46,7.52,1.0,5.0,0.01,444.17,1.0,1.0,1.0,1.75,5.09,270.0,113.92,45.64,1389.56,18.98,6.27,319.2,5.91,454.82,101.5,19.04,6.62,180.0,1.0,1.1,1402.16,290.18,294.9,1.0,0.0,0.0,720.38,31.91,1354.25,98.01,101.5,7.53,489.71,549.06,320.0,1.0,1.0,1.0,1.0,1.0,1.0,19.59,1.0,227.3,3.79,318.11,824.83,0.76,426.4,238.9,45.03,16.48,76.94,311.28,30.14,29.95,124.53,99.85,99.9,219.8,254.76,1.0,1.0,1.0,1.0,129.0,1.0,1.0,1.0,106.9,60.0,0.2,7.57,1.0,1.0,0.0,0.0,512.25,512.25,12.31,354.33,2.0,0.0,0.0,252.92,252.92,1.0,240.77,1.0,310.42,323.77,451.27,829.41,1.18,9.21,6.99,38.76,52.69,1.0,1.0,261.22,18.0,600.73,1.0,75.86,8.54,0.01,44.9,44.9,316.06,316.06,209.65,78.0,78.0,188.52,188.52,30.31,30.31,104.03,104.03,1.0,1.0,37.93,97.0,11.4,45.48,1.0,1.0,1.0,1.0,1.0,33.76,571.48,1.63,1.63,18.96,33.59,1.0,8.64,9.82,2.28,1.0,0.76,1.0,0.92,2.28,147.87,0.0,22.04,0.0,104.0,2.28,0.01,1.0,346.94,7.59,0.0,0.0,119.74,2.27,0.0,186.13,1.0,0.76,80.22,635.1,17.06,65.0,105.89,105.89,144.62,2125.87,11.0,45.51,40.0,3.22,0.0,25.0,67.9,93.35,1.0,175.9,720.8,7.18,4.87,80.9,0.0,2.0,1.0,362.55,276.17,723.21,480.72,1.0,1335.0,0.0,130.21,1.0,925.31,0.0,345.0,108.51,84.28,39.45,0.01,727.91,22.47,8.3,120.54,0.69,723.21,0.77,592.9,195.66,4.49,0.76,324.59,320.01,2.0,144.8,0.0,1.0,1.0,8.9,1.0,667.55,0.0,1.18,2.22,0.77,94.82,8.0,996.27,0.0,1.59,1.59,0.0,0.76,0.76,122.68,0.0,1.0,1.1,2.0,17.39,50.0,237.26,1.0,9.29,10.7,0.01,57.73,1.0,1.0,1.0,1.0,1.0,2.47,357.95,247.86,51.37,0.0,0.76,1504.93,1096.99,35.0,6.74,0.77,0.77,0.77,3.9,3.14,7.06,94.82,0.77,0.77,187.11,7.59,4.97,0.77,296.0,45.51,4.9,156.0,4.69,0.77,1.0,0.77,127.14,0.38,39.98,12.31,0.0,39.9,634.3,19.95,349.08,390.0,0.76,77.89,245.0,42.53],\"coloraxis\":\"coloraxis\",\"size\":[0.0,529.0,239.93,59.0,1.0,1.0,1.0,1.0,1.0,1.0,1.0,1.0,1.0,1.0,1.0,1.0,1.0,1.0,1.0,1.0,1.0,1.1,1.0,1.0,1809.68,1.0,1.0,1.0,1.0,1.0,0.0,30.39,179.66,1.0,1.0,1.0,1.0,1.0,11.39,3.79,3.79,3.93,1.0,766.36,1218.89,1.0,188.78,1.0,1.0,1.0,1.0,1.0,1.0,1.0,1.0,1.0,3.12,99.99,99.99,99.99,3.76,99.99,99.99,99.99,99.99,99.99,99.99,99.99,99.99,99.99,99.99,99.99,99.99,23.36,99.99,730.86,99.99,99.99,99.99,99.99,99.99,0.68,0.68,0.68,30.3,104.81,0.0,717.15,19.02,1.52,18.96,125.3,19.02,0.76,60.6,7.61,1.0,9.13,4.56,14.46,111.7,111.7,12.31,776.83,1.0,1.0,1.0,1.0,0.76,0.76,112.33,3.79,340.11,88.23,5.3,83.38,11.38,1.52,88.23,30.26,459.07,0.0,118.3,45.49,173.07,37.32,59.68,0.76,9.99,34.12,273.01,106.55,364.19,39.45,53.95,172.32,802.52,99.99,139.9,1.0,1.0,1.0,1.0,1.0,648.0,204.27,88.0,24.9,1.0,1.0,1.0,105.99,1.0,1.0,1.0,1.0,0.76,7.58,0.76,0.76,208.58,1.0,19.73,360.0,99.99,99.99,99.99,99.99,99.99,519.9,0.76,0.76,1.18,8.0,0.0,112.45,261.87,1.79,1.0,0.83,0.83,130.44,311.91,170.92,153.46,7.52,1.0,5.0,0.01,444.17,1.0,1.0,1.0,1.75,5.09,270.0,113.92,45.64,1389.56,18.98,6.27,319.2,5.91,454.82,101.5,19.04,6.62,180.0,1.0,1.1,1402.16,290.18,294.9,1.0,0.0,0.0,720.38,31.91,1354.25,98.01,101.5,7.53,489.71,549.06,320.0,1.0,1.0,1.0,1.0,1.0,1.0,19.59,1.0,227.3,3.79,318.11,824.83,0.76,426.4,238.9,45.03,16.48,76.94,311.28,30.14,29.95,124.53,99.85,99.9,219.8,254.76,1.0,1.0,1.0,1.0,129.0,1.0,1.0,1.0,106.9,60.0,0.2,7.57,1.0,1.0,0.0,0.0,512.25,512.25,12.31,354.33,2.0,0.0,0.0,252.92,252.92,1.0,240.77,1.0,310.42,323.77,451.27,829.41,1.18,9.21,6.99,38.76,52.69,1.0,1.0,261.22,18.0,600.73,1.0,75.86,8.54,0.01,44.9,44.9,316.06,316.06,209.65,78.0,78.0,188.52,188.52,30.31,30.31,104.03,104.03,1.0,1.0,37.93,97.0,11.4,45.48,1.0,1.0,1.0,1.0,1.0,33.76,571.48,1.63,1.63,18.96,33.59,1.0,8.64,9.82,2.28,1.0,0.76,1.0,0.92,2.28,147.87,0.0,22.04,0.0,104.0,2.28,0.01,1.0,346.94,7.59,0.0,0.0,119.74,2.27,0.0,186.13,1.0,0.76,80.22,635.1,17.06,65.0,105.89,105.89,144.62,2125.87,11.0,45.51,40.0,3.22,0.0,25.0,67.9,93.35,1.0,175.9,720.8,7.18,4.87,80.9,0.0,2.0,1.0,362.55,276.17,723.21,480.72,1.0,1335.0,0.0,130.21,1.0,925.31,0.0,345.0,108.51,84.28,39.45,0.01,727.91,22.47,8.3,120.54,0.69,723.21,0.77,592.9,195.66,4.49,0.76,324.59,320.01,2.0,144.8,0.0,1.0,1.0,8.9,1.0,667.55,0.0,1.18,2.22,0.77,94.82,8.0,996.27,0.0,1.59,1.59,0.0,0.76,0.76,122.68,0.0,1.0,1.1,2.0,17.39,50.0,237.26,1.0,9.29,10.7,0.01,57.73,1.0,1.0,1.0,1.0,1.0,2.47,357.95,247.86,51.37,0.0,0.76,1504.93,1096.99,35.0,6.74,0.77,0.77,0.77,3.9,3.14,7.06,94.82,0.77,0.77,187.11,7.59,4.97,0.77,296.0,45.51,4.9,156.0,4.69,0.77,1.0,0.77,127.14,0.38,39.98,12.31,0.0,39.9,634.3,19.95,349.08,390.0,0.76,77.89,245.0,42.53],\"sizemode\":\"area\",\"sizeref\":5.314674999999999,\"symbol\":\"circle\",\"line\":{\"color\":\"red\",\"width\":0.5},\"opacity\":0.5},\"mode\":\"markers\",\"name\":\"\",\"orientation\":\"v\",\"showlegend\":false,\"x\":[406.0,472.0,4462.0,6986.0,7519.0,7526.0,7535.0,7543.0,7551.0,7610.0,7672.0,7740.0,7891.0,8090.0,8169.0,8408.0,8415.0,8451.0,8528.0,8614.0,8757.0,8808.0,8878.0,8886.0,9064.0,11080.0,11092.0,11131.0,11629.0,11635.0,12093.0,12095.0,12393.0,12597.0,13126.0,13323.0,14073.0,14152.0,15817.0,17187.0,17220.0,17230.0,17520.0,17838.0,18088.0,18399.0,18675.0,18690.0,19762.0,20011.0,20332.0,20451.0,20931.0,21046.0,21419.0,21662.0,25095.0,25198.0,25231.0,25254.0,25426.0,26523.0,26556.0,26585.0,26833.0,26863.0,26899.0,26931.0,26961.0,27163.0,27187.0,27219.0,27252.0,27784.0,28143.0,28242.0,28625.0,28658.0,28692.0,28726.0,28755.0,29526.0,29531.0,29753.0,29785.0,30852.0,32686.0,32745.0,34256.0,34521.0,34634.0,34684.0,34687.0,35585.0,35771.0,35866.0,35899.0,35906.0,35926.0,35942.0,35953.0,36170.0,37167.0,39729.0,40086.0,40276.0,40662.0,40742.0,40892.0,40918.0,40919.0,41116.0,41138.0,41147.0,41164.0,41170.0,41181.0,41194.0,41203.0,41204.0,41227.0,41233.0,41237.0,41243.0,41273.0,41285.0,41305.0,41308.0,41313.0,41353.0,41397.0,41413.0,41505.0,41582.0,41607.0,41646.0,41743.0,41791.0,41851.0,41870.0,41991.0,42247.0,42474.0,42985.0,42988.0,43028.0,43369.0,43494.0,44393.0,44532.0,45463.0,45501.0,45541.0,46057.0,46149.0,46925.0,47545.0,47826.0,47923.0,47982.0,48380.0,48533.0,48884.0,49985.0,50706.0,50808.0,51112.0,51135.0,51155.0,52814.0,52934.0,53031.0,53076.0,53451.0,53658.0,53727.0,53937.0,54846.0,55279.0,55311.0,55614.0,55618.0,55760.0,56098.0,56624.0,56650.0,56806.0,56887.0,57007.0,57027.0,57163.0,58060.0,58067.0,58199.0,58217.0,58222.0,58642.0,58822.0,59011.0,59385.0,59669.0,59777.0,59840.0,60353.0,61108.0,61646.0,62059.0,62080.0,62330.0,62341.0,62467.0,63578.0,64093.0,64412.0,64443.0,64585.0,64785.0,65358.0,65385.0,65728.0,65936.0,66037.0,67150.0,67571.0,67857.0,68207.0,68207.0,68207.0,68207.0,68207.0,68207.0,68357.0,69394.0,70071.0,70229.0,70270.0,70536.0,70828.0,71033.0,72327.0,72824.0,73408.0,74159.0,74262.0,75033.0,75556.0,75581.0,75851.0,75978.0,76575.0,76826.0,76845.0,76857.0,76867.0,76876.0,77154.0,77171.0,77182.0,77202.0,77627.0,78725.0,79540.0,81372.0,82289.0,83934.0,84204.0,84204.0,84204.0,84204.0,84694.0,84789.0,85181.0,85285.0,85285.0,85285.0,85285.0,85573.0,85576.0,85864.0,85867.0,86376.0,87202.0,87883.0,88672.0,88737.0,90676.0,91075.0,91407.0,91502.0,91524.0,91554.0,92092.0,92102.0,93742.0,93823.0,93824.0,93834.0,93853.0,93853.0,93853.0,93853.0,93856.0,93860.0,93860.0,93860.0,93860.0,93879.0,93879.0,93879.0,93879.0,93888.0,93897.0,93904.0,93920.0,93965.0,94141.0,94362.0,94362.0,94362.0,94362.0,94364.0,94625.0,94952.0,95559.0,95628.0,96135.0,96291.0,96717.0,97121.0,97235.0,100223.0,100298.0,100501.0,100924.0,101051.0,101313.0,101597.0,102114.0,102318.0,102480.0,102489.0,102542.0,102572.0,102619.0,102622.0,102625.0,102669.0,102671.0,102676.0,103808.0,109297.0,109298.0,110087.0,110547.0,110552.0,110617.0,115691.0,116067.0,118532.0,118603.0,121238.0,122608.0,123078.0,123525.0,125200.0,125612.0,125658.0,126219.0,128471.0,128519.0,128595.0,128803.0,129095.0,129186.0,129222.0,129308.0,129371.0,129668.0,129741.0,129764.0,129808.0,131024.0,132086.0,132688.0,133184.0,133731.0,133958.0,134766.0,134769.0,134928.0,135095.0,135102.0,135314.0,137211.0,138894.0,138942.0,139107.0,139117.0,139767.0,139816.0,139951.0,140293.0,140308.0,141320.0,141565.0,141925.0,142280.0,142394.0,142409.0,142840.0,142961.0,143354.0,143434.0,143438.0,143456.0,144808.0,144839.0,146022.0,146026.0,146179.0,146344.0,146998.0,147501.0,148028.0,148053.0,148053.0,148074.0,148468.0,148476.0,148479.0,149096.0,149236.0,149582.0,149640.0,149676.0,150138.0,150139.0,150494.0,150949.0,151029.0,151916.0,151972.0,152036.0,152058.0,152098.0,152165.0,152307.0,152710.0,152802.0,153653.0,153761.0,153875.0,154181.0,154278.0,154309.0,154493.0,154599.0,154657.0,155054.0,155359.0,155535.0,155542.0,155548.0,155554.0,155662.0,155965.0,156685.0,156710.0,157207.0,157284.0,158638.0,159844.0,160034.0,160243.0,160537.0,160665.0,160791.0,160870.0,160895.0,161154.0,163181.0,165132.0,165981.0,166028.0,166831.0,166883.0,167338.0,169142.0,169347.0,169351.0,169966.0,170348.0],\"xaxis\":\"x\",\"y\":[0.0,529.0,239.93,59.0,1.0,1.0,1.0,1.0,1.0,1.0,1.0,1.0,1.0,1.0,1.0,1.0,1.0,1.0,1.0,1.0,1.0,1.1,1.0,1.0,1809.68,1.0,1.0,1.0,1.0,1.0,0.0,30.39,179.66,1.0,1.0,1.0,1.0,1.0,11.39,3.79,3.79,3.93,1.0,766.36,1218.89,1.0,188.78,1.0,1.0,1.0,1.0,1.0,1.0,1.0,1.0,1.0,3.12,99.99,99.99,99.99,3.76,99.99,99.99,99.99,99.99,99.99,99.99,99.99,99.99,99.99,99.99,99.99,99.99,23.36,99.99,730.86,99.99,99.99,99.99,99.99,99.99,0.68,0.68,0.68,30.3,104.81,0.0,717.15,19.02,1.52,18.96,125.3,19.02,0.76,60.6,7.61,1.0,9.13,4.56,14.46,111.7,111.7,12.31,776.83,1.0,1.0,1.0,1.0,0.76,0.76,112.33,3.79,340.11,88.23,5.3,83.38,11.38,1.52,88.23,30.26,459.07,0.0,118.3,45.49,173.07,37.32,59.68,0.76,9.99,34.12,273.01,106.55,364.19,39.45,53.95,172.32,802.52,99.99,139.9,1.0,1.0,1.0,1.0,1.0,648.0,204.27,88.0,24.9,1.0,1.0,1.0,105.99,1.0,1.0,1.0,1.0,0.76,7.58,0.76,0.76,208.58,1.0,19.73,360.0,99.99,99.99,99.99,99.99,99.99,519.9,0.76,0.76,1.18,8.0,0.0,112.45,261.87,1.79,1.0,0.83,0.83,130.44,311.91,170.92,153.46,7.52,1.0,5.0,0.01,444.17,1.0,1.0,1.0,1.75,5.09,270.0,113.92,45.64,1389.56,18.98,6.27,319.2,5.91,454.82,101.5,19.04,6.62,180.0,1.0,1.1,1402.16,290.18,294.9,1.0,0.0,0.0,720.38,31.91,1354.25,98.01,101.5,7.53,489.71,549.06,320.0,1.0,1.0,1.0,1.0,1.0,1.0,19.59,1.0,227.3,3.79,318.11,824.83,0.76,426.4,238.9,45.03,16.48,76.94,311.28,30.14,29.95,124.53,99.85,99.9,219.8,254.76,1.0,1.0,1.0,1.0,129.0,1.0,1.0,1.0,106.9,60.0,0.2,7.57,1.0,1.0,0.0,0.0,512.25,512.25,12.31,354.33,2.0,0.0,0.0,252.92,252.92,1.0,240.77,1.0,310.42,323.77,451.27,829.41,1.18,9.21,6.99,38.76,52.69,1.0,1.0,261.22,18.0,600.73,1.0,75.86,8.54,0.01,44.9,44.9,316.06,316.06,209.65,78.0,78.0,188.52,188.52,30.31,30.31,104.03,104.03,1.0,1.0,37.93,97.0,11.4,45.48,1.0,1.0,1.0,1.0,1.0,33.76,571.48,1.63,1.63,18.96,33.59,1.0,8.64,9.82,2.28,1.0,0.76,1.0,0.92,2.28,147.87,0.0,22.04,0.0,104.0,2.28,0.01,1.0,346.94,7.59,0.0,0.0,119.74,2.27,0.0,186.13,1.0,0.76,80.22,635.1,17.06,65.0,105.89,105.89,144.62,2125.87,11.0,45.51,40.0,3.22,0.0,25.0,67.9,93.35,1.0,175.9,720.8,7.18,4.87,80.9,0.0,2.0,1.0,362.55,276.17,723.21,480.72,1.0,1335.0,0.0,130.21,1.0,925.31,0.0,345.0,108.51,84.28,39.45,0.01,727.91,22.47,8.3,120.54,0.69,723.21,0.77,592.9,195.66,4.49,0.76,324.59,320.01,2.0,144.8,0.0,1.0,1.0,8.9,1.0,667.55,0.0,1.18,2.22,0.77,94.82,8.0,996.27,0.0,1.59,1.59,0.0,0.76,0.76,122.68,0.0,1.0,1.1,2.0,17.39,50.0,237.26,1.0,9.29,10.7,0.01,57.73,1.0,1.0,1.0,1.0,1.0,2.47,357.95,247.86,51.37,0.0,0.76,1504.93,1096.99,35.0,6.74,0.77,0.77,0.77,3.9,3.14,7.06,94.82,0.77,0.77,187.11,7.59,4.97,0.77,296.0,45.51,4.9,156.0,4.69,0.77,1.0,0.77,127.14,0.38,39.98,12.31,0.0,39.9,634.3,19.95,349.08,390.0,0.76,77.89,245.0,42.53],\"yaxis\":\"y\",\"type\":\"scatter\"}],                        {\"template\":{\"data\":{\"histogram2dcontour\":[{\"type\":\"histogram2dcontour\",\"colorbar\":{\"outlinewidth\":0,\"ticks\":\"\"},\"colorscale\":[[0.0,\"#0d0887\"],[0.1111111111111111,\"#46039f\"],[0.2222222222222222,\"#7201a8\"],[0.3333333333333333,\"#9c179e\"],[0.4444444444444444,\"#bd3786\"],[0.5555555555555556,\"#d8576b\"],[0.6666666666666666,\"#ed7953\"],[0.7777777777777778,\"#fb9f3a\"],[0.8888888888888888,\"#fdca26\"],[1.0,\"#f0f921\"]]}],\"choropleth\":[{\"type\":\"choropleth\",\"colorbar\":{\"outlinewidth\":0,\"ticks\":\"\"}}],\"histogram2d\":[{\"type\":\"histogram2d\",\"colorbar\":{\"outlinewidth\":0,\"ticks\":\"\"},\"colorscale\":[[0.0,\"#0d0887\"],[0.1111111111111111,\"#46039f\"],[0.2222222222222222,\"#7201a8\"],[0.3333333333333333,\"#9c179e\"],[0.4444444444444444,\"#bd3786\"],[0.5555555555555556,\"#d8576b\"],[0.6666666666666666,\"#ed7953\"],[0.7777777777777778,\"#fb9f3a\"],[0.8888888888888888,\"#fdca26\"],[1.0,\"#f0f921\"]]}],\"heatmap\":[{\"type\":\"heatmap\",\"colorbar\":{\"outlinewidth\":0,\"ticks\":\"\"},\"colorscale\":[[0.0,\"#0d0887\"],[0.1111111111111111,\"#46039f\"],[0.2222222222222222,\"#7201a8\"],[0.3333333333333333,\"#9c179e\"],[0.4444444444444444,\"#bd3786\"],[0.5555555555555556,\"#d8576b\"],[0.6666666666666666,\"#ed7953\"],[0.7777777777777778,\"#fb9f3a\"],[0.8888888888888888,\"#fdca26\"],[1.0,\"#f0f921\"]]}],\"heatmapgl\":[{\"type\":\"heatmapgl\",\"colorbar\":{\"outlinewidth\":0,\"ticks\":\"\"},\"colorscale\":[[0.0,\"#0d0887\"],[0.1111111111111111,\"#46039f\"],[0.2222222222222222,\"#7201a8\"],[0.3333333333333333,\"#9c179e\"],[0.4444444444444444,\"#bd3786\"],[0.5555555555555556,\"#d8576b\"],[0.6666666666666666,\"#ed7953\"],[0.7777777777777778,\"#fb9f3a\"],[0.8888888888888888,\"#fdca26\"],[1.0,\"#f0f921\"]]}],\"contourcarpet\":[{\"type\":\"contourcarpet\",\"colorbar\":{\"outlinewidth\":0,\"ticks\":\"\"}}],\"contour\":[{\"type\":\"contour\",\"colorbar\":{\"outlinewidth\":0,\"ticks\":\"\"},\"colorscale\":[[0.0,\"#0d0887\"],[0.1111111111111111,\"#46039f\"],[0.2222222222222222,\"#7201a8\"],[0.3333333333333333,\"#9c179e\"],[0.4444444444444444,\"#bd3786\"],[0.5555555555555556,\"#d8576b\"],[0.6666666666666666,\"#ed7953\"],[0.7777777777777778,\"#fb9f3a\"],[0.8888888888888888,\"#fdca26\"],[1.0,\"#f0f921\"]]}],\"surface\":[{\"type\":\"surface\",\"colorbar\":{\"outlinewidth\":0,\"ticks\":\"\"},\"colorscale\":[[0.0,\"#0d0887\"],[0.1111111111111111,\"#46039f\"],[0.2222222222222222,\"#7201a8\"],[0.3333333333333333,\"#9c179e\"],[0.4444444444444444,\"#bd3786\"],[0.5555555555555556,\"#d8576b\"],[0.6666666666666666,\"#ed7953\"],[0.7777777777777778,\"#fb9f3a\"],[0.8888888888888888,\"#fdca26\"],[1.0,\"#f0f921\"]]}],\"mesh3d\":[{\"type\":\"mesh3d\",\"colorbar\":{\"outlinewidth\":0,\"ticks\":\"\"}}],\"scatter\":[{\"fillpattern\":{\"fillmode\":\"overlay\",\"size\":10,\"solidity\":0.2},\"type\":\"scatter\"}],\"parcoords\":[{\"type\":\"parcoords\",\"line\":{\"colorbar\":{\"outlinewidth\":0,\"ticks\":\"\"}}}],\"scatterpolargl\":[{\"type\":\"scatterpolargl\",\"marker\":{\"colorbar\":{\"outlinewidth\":0,\"ticks\":\"\"}}}],\"bar\":[{\"error_x\":{\"color\":\"#2a3f5f\"},\"error_y\":{\"color\":\"#2a3f5f\"},\"marker\":{\"line\":{\"color\":\"#E5ECF6\",\"width\":0.5},\"pattern\":{\"fillmode\":\"overlay\",\"size\":10,\"solidity\":0.2}},\"type\":\"bar\"}],\"scattergeo\":[{\"type\":\"scattergeo\",\"marker\":{\"colorbar\":{\"outlinewidth\":0,\"ticks\":\"\"}}}],\"scatterpolar\":[{\"type\":\"scatterpolar\",\"marker\":{\"colorbar\":{\"outlinewidth\":0,\"ticks\":\"\"}}}],\"histogram\":[{\"marker\":{\"pattern\":{\"fillmode\":\"overlay\",\"size\":10,\"solidity\":0.2}},\"type\":\"histogram\"}],\"scattergl\":[{\"type\":\"scattergl\",\"marker\":{\"colorbar\":{\"outlinewidth\":0,\"ticks\":\"\"}}}],\"scatter3d\":[{\"type\":\"scatter3d\",\"line\":{\"colorbar\":{\"outlinewidth\":0,\"ticks\":\"\"}},\"marker\":{\"colorbar\":{\"outlinewidth\":0,\"ticks\":\"\"}}}],\"scattermapbox\":[{\"type\":\"scattermapbox\",\"marker\":{\"colorbar\":{\"outlinewidth\":0,\"ticks\":\"\"}}}],\"scatterternary\":[{\"type\":\"scatterternary\",\"marker\":{\"colorbar\":{\"outlinewidth\":0,\"ticks\":\"\"}}}],\"scattercarpet\":[{\"type\":\"scattercarpet\",\"marker\":{\"colorbar\":{\"outlinewidth\":0,\"ticks\":\"\"}}}],\"carpet\":[{\"aaxis\":{\"endlinecolor\":\"#2a3f5f\",\"gridcolor\":\"white\",\"linecolor\":\"white\",\"minorgridcolor\":\"white\",\"startlinecolor\":\"#2a3f5f\"},\"baxis\":{\"endlinecolor\":\"#2a3f5f\",\"gridcolor\":\"white\",\"linecolor\":\"white\",\"minorgridcolor\":\"white\",\"startlinecolor\":\"#2a3f5f\"},\"type\":\"carpet\"}],\"table\":[{\"cells\":{\"fill\":{\"color\":\"#EBF0F8\"},\"line\":{\"color\":\"white\"}},\"header\":{\"fill\":{\"color\":\"#C8D4E3\"},\"line\":{\"color\":\"white\"}},\"type\":\"table\"}],\"barpolar\":[{\"marker\":{\"line\":{\"color\":\"#E5ECF6\",\"width\":0.5},\"pattern\":{\"fillmode\":\"overlay\",\"size\":10,\"solidity\":0.2}},\"type\":\"barpolar\"}],\"pie\":[{\"automargin\":true,\"type\":\"pie\"}]},\"layout\":{\"autotypenumbers\":\"strict\",\"colorway\":[\"#636efa\",\"#EF553B\",\"#00cc96\",\"#ab63fa\",\"#FFA15A\",\"#19d3f3\",\"#FF6692\",\"#B6E880\",\"#FF97FF\",\"#FECB52\"],\"font\":{\"color\":\"#2a3f5f\"},\"hovermode\":\"closest\",\"hoverlabel\":{\"align\":\"left\"},\"paper_bgcolor\":\"white\",\"plot_bgcolor\":\"#E5ECF6\",\"polar\":{\"bgcolor\":\"#E5ECF6\",\"angularaxis\":{\"gridcolor\":\"white\",\"linecolor\":\"white\",\"ticks\":\"\"},\"radialaxis\":{\"gridcolor\":\"white\",\"linecolor\":\"white\",\"ticks\":\"\"}},\"ternary\":{\"bgcolor\":\"#E5ECF6\",\"aaxis\":{\"gridcolor\":\"white\",\"linecolor\":\"white\",\"ticks\":\"\"},\"baxis\":{\"gridcolor\":\"white\",\"linecolor\":\"white\",\"ticks\":\"\"},\"caxis\":{\"gridcolor\":\"white\",\"linecolor\":\"white\",\"ticks\":\"\"}},\"coloraxis\":{\"colorbar\":{\"outlinewidth\":0,\"ticks\":\"\"}},\"colorscale\":{\"sequential\":[[0.0,\"#0d0887\"],[0.1111111111111111,\"#46039f\"],[0.2222222222222222,\"#7201a8\"],[0.3333333333333333,\"#9c179e\"],[0.4444444444444444,\"#bd3786\"],[0.5555555555555556,\"#d8576b\"],[0.6666666666666666,\"#ed7953\"],[0.7777777777777778,\"#fb9f3a\"],[0.8888888888888888,\"#fdca26\"],[1.0,\"#f0f921\"]],\"sequentialminus\":[[0.0,\"#0d0887\"],[0.1111111111111111,\"#46039f\"],[0.2222222222222222,\"#7201a8\"],[0.3333333333333333,\"#9c179e\"],[0.4444444444444444,\"#bd3786\"],[0.5555555555555556,\"#d8576b\"],[0.6666666666666666,\"#ed7953\"],[0.7777777777777778,\"#fb9f3a\"],[0.8888888888888888,\"#fdca26\"],[1.0,\"#f0f921\"]],\"diverging\":[[0,\"#8e0152\"],[0.1,\"#c51b7d\"],[0.2,\"#de77ae\"],[0.3,\"#f1b6da\"],[0.4,\"#fde0ef\"],[0.5,\"#f7f7f7\"],[0.6,\"#e6f5d0\"],[0.7,\"#b8e186\"],[0.8,\"#7fbc41\"],[0.9,\"#4d9221\"],[1,\"#276419\"]]},\"xaxis\":{\"gridcolor\":\"white\",\"linecolor\":\"white\",\"ticks\":\"\",\"title\":{\"standoff\":15},\"zerolinecolor\":\"white\",\"automargin\":true,\"zerolinewidth\":2},\"yaxis\":{\"gridcolor\":\"white\",\"linecolor\":\"white\",\"ticks\":\"\",\"title\":{\"standoff\":15},\"zerolinecolor\":\"white\",\"automargin\":true,\"zerolinewidth\":2},\"scene\":{\"xaxis\":{\"backgroundcolor\":\"#E5ECF6\",\"gridcolor\":\"white\",\"linecolor\":\"white\",\"showbackground\":true,\"ticks\":\"\",\"zerolinecolor\":\"white\",\"gridwidth\":2},\"yaxis\":{\"backgroundcolor\":\"#E5ECF6\",\"gridcolor\":\"white\",\"linecolor\":\"white\",\"showbackground\":true,\"ticks\":\"\",\"zerolinecolor\":\"white\",\"gridwidth\":2},\"zaxis\":{\"backgroundcolor\":\"#E5ECF6\",\"gridcolor\":\"white\",\"linecolor\":\"white\",\"showbackground\":true,\"ticks\":\"\",\"zerolinecolor\":\"white\",\"gridwidth\":2}},\"shapedefaults\":{\"line\":{\"color\":\"#2a3f5f\"}},\"annotationdefaults\":{\"arrowcolor\":\"#2a3f5f\",\"arrowhead\":0,\"arrowwidth\":1},\"geo\":{\"bgcolor\":\"white\",\"landcolor\":\"#E5ECF6\",\"subunitcolor\":\"white\",\"showland\":true,\"showlakes\":true,\"lakecolor\":\"white\"},\"title\":{\"x\":0.05},\"mapbox\":{\"style\":\"light\"}}},\"xaxis\":{\"anchor\":\"y\",\"domain\":[0.0,1.0],\"title\":{\"text\":\"Time [s]\"}},\"yaxis\":{\"anchor\":\"x\",\"domain\":[0.0,1.0],\"title\":{\"text\":\"Amount\"}},\"coloraxis\":{\"colorbar\":{\"title\":{\"text\":\"Amount\"}},\"colorscale\":[[0.0,\"#0d0887\"],[0.1111111111111111,\"#46039f\"],[0.2222222222222222,\"#7201a8\"],[0.3333333333333333,\"#9c179e\"],[0.4444444444444444,\"#bd3786\"],[0.5555555555555556,\"#d8576b\"],[0.6666666666666666,\"#ed7953\"],[0.7777777777777778,\"#fb9f3a\"],[0.8888888888888888,\"#fdca26\"],[1.0,\"#f0f921\"]]},\"legend\":{\"tracegroupgap\":0,\"itemsizing\":\"constant\"},\"title\":{\"text\":\"Amount of Fraudulent Transactions\"},\"hovermode\":\"closest\"},                        {\"responsive\": true}                    ).then(function(){\n",
              "                            \n",
              "var gd = document.getElementById('18690d3c-a3b2-42d9-851f-4fe4d47dbb5e');\n",
              "var x = new MutationObserver(function (mutations, observer) {{\n",
              "        var display = window.getComputedStyle(gd).display;\n",
              "        if (!display || display === 'none') {{\n",
              "            console.log([gd, 'removed!']);\n",
              "            Plotly.purge(gd);\n",
              "            observer.disconnect();\n",
              "        }}\n",
              "}});\n",
              "\n",
              "// Listen for the removal of the full notebook cells\n",
              "var notebookContainer = gd.closest('#notebook-container');\n",
              "if (notebookContainer) {{\n",
              "    x.observe(notebookContainer, {childList: true});\n",
              "}}\n",
              "\n",
              "// Listen for the clearing of the current output cell\n",
              "var outputEl = gd.closest('.output');\n",
              "if (outputEl) {{\n",
              "    x.observe(outputEl, {childList: true});\n",
              "}}\n",
              "\n",
              "                        })                };                            </script>        </div>\n",
              "</body>\n",
              "</html>"
            ]
          },
          "metadata": {}
        }
      ]
    },
    {
      "cell_type": "markdown",
      "source": [
        "---"
      ],
      "metadata": {
        "id": "aCQyyUlPoLPe"
      }
    },
    {
      "cell_type": "markdown",
      "source": [
        ">Features Correlation"
      ],
      "metadata": {
        "id": "r9l2EZumkv8s"
      }
    },
    {
      "cell_type": "code",
      "source": [
        "plt.figure(figsize = (14,14))\n",
        "plt.title('Credit Card Transactions features correlation plot (Pearson)')\n",
        "corr = df.corr()\n",
        "sns.heatmap(corr,xticklabels=corr.columns,yticklabels=corr.columns,linewidths=.1,cmap=\"Reds\")\n",
        "plt.show()"
      ],
      "metadata": {
        "colab": {
          "base_uri": "https://localhost:8080/"
        },
        "id": "hY-ZrTcOkfsA",
        "outputId": "f0391965-14bf-429a-ab55-ffea211ac12e"
      },
      "execution_count": null,
      "outputs": [
        {
          "output_type": "display_data",
          "data": {
            "text/plain": [
              "<Figure size 1400x1400 with 2 Axes>"
            ],
            "image/png": "[encoded data removed]"
          },
          "metadata": {}
        }
      ]
    },
    {
      "cell_type": "markdown",
      "source": [
        "---"
      ],
      "metadata": {
        "id": "Dnpx1gmMitpI"
      }
    },
    {
      "cell_type": "markdown",
      "source": [
        "## Scaling and Distributing"
      ],
      "metadata": {
        "id": "QSQ5x6rFjSgJ"
      }
    },
    {
      "cell_type": "markdown",
      "source": [
        "The Time and Amount columns will be the first to be transformed. The columns for time and money should have the same scale as the others. But, we must also build a sub sample of the dataframe to ensure that there is a balanced number of Fraud and Non-Fraud cases, which will aid our algorithms in better understanding the patterns that define if a transaction is fraudulent."
      ],
      "metadata": {
        "id": "N1--Hr9fmD3X"
      }
    },
    {
      "cell_type": "code",
      "source": [
        "from sklearn.preprocessing import StandardScaler, RobustScaler\n",
        "\n",
        "# Create instances of StandardScaler and RobustScaler\n",
        "# RobustScaler is less sensitive to outliers than StandardScaler\n",
        "std_scaler = StandardScaler()\n",
        "rob_scaler = RobustScaler()\n",
        "\n",
        "d1=df['Amount'].values.reshape(-1,1)\n",
        "d2=df['Time'].values.reshape(-1,1)\n",
        "df['scaled_amount'] = rob_scaler.fit_transform(d1)\n",
        "df['scaled_time'] = rob_scaler.fit_transform(d2)\n",
        "\n",
        "# Remove the original 'Time' and 'Amount' columns from the DataFrame 'df'\n",
        "#df.drop(['Time','Amount'], axis=1, inplace=True)"
      ],
      "metadata": {
        "id": "WXA4xei2jX-h"
      },
      "execution_count": null,
      "outputs": []
    },
    {
      "cell_type": "markdown",
      "source": [
        "---"
      ],
      "metadata": {
        "id": "65PmWjuG2K0a"
      }
    },
    {
      "cell_type": "markdown",
      "source": [
        "A major imbalance in the original dataframe was discovered at the beginning of this notebook. Here are some problems that will arise if we stick with the original dataframe:\n",
        "\n",
        "\n",
        "1.   **Overfitting:** Our prediction algorithms will work under the assumption that fraud is extremely rare. Our goal with this approach is to be confident that we can pinpoint the occurrence of fraud.\n",
        "2.   **Wrong Correlations:** Although we do not know what the \"V\" characteristics represent, it would be good to understand how each of these features affects the outcome (Fraud or No Fraud). Due to an imbalanced dataframe, we cannot detect the true correlations between the class and features.\n",
        "\n"
      ],
      "metadata": {
        "id": "RoeQd9nfpry8"
      }
    },
    {
      "cell_type": "code",
      "source": [
        "# Store the scaled amount and scaled time columns in variables\n",
        "scaled_amount = df['scaled_amount']\n",
        "scaled_time = df['scaled_time']\n",
        "\n",
        "# Remove the scaled amount and scaled time columns from the DataFrame\n",
        "df.drop(['scaled_amount', 'scaled_time'], axis=1, inplace=True)\n",
        "\n",
        "# Insert the scaled amount and scaled time columns back into the DataFrame at the beginning\n",
        "df.insert(0, 'scaled_amount', scaled_amount)\n",
        "df.insert(1, 'scaled_time', scaled_time)\n",
        "\n",
        "df.head()"
      ],
      "metadata": {
        "colab": {
          "base_uri": "https://localhost:8080/"
        },
        "id": "z_q14Z-Cmvh1",
        "outputId": "1451979a-0ce3-4366-f7c9-39d7be2c4557"
      },
      "execution_count": null,
      "outputs": [
        {
          "output_type": "execute_result",
          "data": {
            "text/plain": [
              "   scaled_amount  scaled_time  Time        V1        V2        V3        V4  \\\n",
              "0       1.783274    -0.994983   0.0 -1.359807 -0.072781  2.536347  1.378155   \n",
              "1      -0.269825    -0.994983   0.0  1.191857  0.266151  0.166480  0.448154   \n",
              "2       4.983721    -0.994972   1.0 -1.358354 -1.340163  1.773209  0.379780   \n",
              "3       1.418291    -0.994972   1.0 -0.966272 -0.185226  1.792993 -0.863291   \n",
              "4       0.670579    -0.994960   2.0 -1.158233  0.877737  1.548718  0.403034   \n",
              "\n",
              "         V5        V6        V7  ...       V21       V22       V23       V24  \\\n",
              "0 -0.338321  0.462388  0.239599  ... -0.018307  0.277838 -0.110474  0.066928   \n",
              "1  0.060018 -0.082361 -0.078803  ... -0.225775 -0.638672  0.101288 -0.339846   \n",
              "2 -0.503198  1.800499  0.791461  ...  0.247998  0.771679  0.909412 -0.689281   \n",
              "3 -0.010309  1.247203  0.237609  ... -0.108300  0.005274 -0.190321 -1.175575   \n",
              "4 -0.407193  0.095921  0.592941  ... -0.009431  0.798278 -0.137458  0.141267   \n",
              "\n",
              "        V25       V26       V27       V28  Amount  Class  \n",
              "0  0.128539 -0.189115  0.133558 -0.021053  149.62      0  \n",
              "1  0.167170  0.125895 -0.008983  0.014724    2.69      0  \n",
              "2 -0.327642 -0.139097 -0.055353 -0.059752  378.66      0  \n",
              "3  0.647376 -0.221929  0.062723  0.061458  123.50      0  \n",
              "4 -0.206010  0.502292  0.219422  0.215153   69.99      0  \n",
              "\n",
              "[5 rows x 33 columns]"
            ],
            "text/html": [
              "\n",
              "  <div id=\"df-9745da3b-b53a-4c7d-b3f8-f3684bb3e35c\">\n",
              "    <div class=\"colab-df-container\">\n",
              "      <div>\n",
              "<style scoped>\n",
              "    .dataframe tbody tr th:only-of-type {\n",
              "        vertical-align: middle;\n",
              "    }\n",
              "\n",
              "    .dataframe tbody tr th {\n",
              "        vertical-align: top;\n",
              "    }\n",
              "\n",
              "    .dataframe thead th {\n",
              "        text-align: right;\n",
              "    }\n",
              "</style>\n",
              "<table border=\"1\" class=\"dataframe\">\n",
              "  <thead>\n",
              "    <tr style=\"text-align: right;\">\n",
              "      <th></th>\n",
              "      <th>scaled_amount</th>\n",
              "      <th>scaled_time</th>\n",
              "      <th>Time</th>\n",
              "      <th>V1</th>\n",
              "      <th>V2</th>\n",
              "      <th>V3</th>\n",
              "      <th>V4</th>\n",
              "      <th>V5</th>\n",
              "      <th>V6</th>\n",
              "      <th>V7</th>\n",
              "      <th>...</th>\n",
              "      <th>V21</th>\n",
              "      <th>V22</th>\n",
              "      <th>V23</th>\n",
              "      <th>V24</th>\n",
              "      <th>V25</th>\n",
              "      <th>V26</th>\n",
              "      <th>V27</th>\n",
              "      <th>V28</th>\n",
              "      <th>Amount</th>\n",
              "      <th>Class</th>\n",
              "    </tr>\n",
              "  </thead>\n",
              "  <tbody>\n",
              "    <tr>\n",
              "      <th>0</th>\n",
              "      <td>1.783274</td>\n",
              "      <td>-0.994983</td>\n",
              "      <td>0.0</td>\n",
              "      <td>-1.359807</td>\n",
              "      <td>-0.072781</td>\n",
              "      <td>2.536347</td>\n",
              "      <td>1.378155</td>\n",
              "      <td>-0.338321</td>\n",
              "      <td>0.462388</td>\n",
              "      <td>0.239599</td>\n",
              "      <td>...</td>\n",
              "      <td>-0.018307</td>\n",
              "      <td>0.277838</td>\n",
              "      <td>-0.110474</td>\n",
              "      <td>0.066928</td>\n",
              "      <td>0.128539</td>\n",
              "      <td>-0.189115</td>\n",
              "      <td>0.133558</td>\n",
              "      <td>-0.021053</td>\n",
              "      <td>149.62</td>\n",
              "      <td>0</td>\n",
              "    </tr>\n",
              "    <tr>\n",
              "      <th>1</th>\n",
              "      <td>-0.269825</td>\n",
              "      <td>-0.994983</td>\n",
              "      <td>0.0</td>\n",
              "      <td>1.191857</td>\n",
              "      <td>0.266151</td>\n",
              "      <td>0.166480</td>\n",
              "      <td>0.448154</td>\n",
              "      <td>0.060018</td>\n",
              "      <td>-0.082361</td>\n",
              "      <td>-0.078803</td>\n",
              "      <td>...</td>\n",
              "      <td>-0.225775</td>\n",
              "      <td>-0.638672</td>\n",
              "      <td>0.101288</td>\n",
              "      <td>-0.339846</td>\n",
              "      <td>0.167170</td>\n",
              "      <td>0.125895</td>\n",
              "      <td>-0.008983</td>\n",
              "      <td>0.014724</td>\n",
              "      <td>2.69</td>\n",
              "      <td>0</td>\n",
              "    </tr>\n",
              "    <tr>\n",
              "      <th>2</th>\n",
              "      <td>4.983721</td>\n",
              "      <td>-0.994972</td>\n",
              "      <td>1.0</td>\n",
              "      <td>-1.358354</td>\n",
              "      <td>-1.340163</td>\n",
              "      <td>1.773209</td>\n",
              "      <td>0.379780</td>\n",
              "      <td>-0.503198</td>\n",
              "      <td>1.800499</td>\n",
              "      <td>0.791461</td>\n",
              "      <td>...</td>\n",
              "      <td>0.247998</td>\n",
              "      <td>0.771679</td>\n",
              "      <td>0.909412</td>\n",
              "      <td>-0.689281</td>\n",
              "      <td>-0.327642</td>\n",
              "      <td>-0.139097</td>\n",
              "      <td>-0.055353</td>\n",
              "      <td>-0.059752</td>\n",
              "      <td>378.66</td>\n",
              "      <td>0</td>\n",
              "    </tr>\n",
              "    <tr>\n",
              "      <th>3</th>\n",
              "      <td>1.418291</td>\n",
              "      <td>-0.994972</td>\n",
              "      <td>1.0</td>\n",
              "      <td>-0.966272</td>\n",
              "      <td>-0.185226</td>\n",
              "      <td>1.792993</td>\n",
              "      <td>-0.863291</td>\n",
              "      <td>-0.010309</td>\n",
              "      <td>1.247203</td>\n",
              "      <td>0.237609</td>\n",
              "      <td>...</td>\n",
              "      <td>-0.108300</td>\n",
              "      <td>0.005274</td>\n",
              "      <td>-0.190321</td>\n",
              "      <td>-1.175575</td>\n",
              "      <td>0.647376</td>\n",
              "      <td>-0.221929</td>\n",
              "      <td>0.062723</td>\n",
              "      <td>0.061458</td>\n",
              "      <td>123.50</td>\n",
              "      <td>0</td>\n",
              "    </tr>\n",
              "    <tr>\n",
              "      <th>4</th>\n",
              "      <td>0.670579</td>\n",
              "      <td>-0.994960</td>\n",
              "      <td>2.0</td>\n",
              "      <td>-1.158233</td>\n",
              "      <td>0.877737</td>\n",
              "      <td>1.548718</td>\n",
              "      <td>0.403034</td>\n",
              "      <td>-0.407193</td>\n",
              "      <td>0.095921</td>\n",
              "      <td>0.592941</td>\n",
              "      <td>...</td>\n",
              "      <td>-0.009431</td>\n",
              "      <td>0.798278</td>\n",
              "      <td>-0.137458</td>\n",
              "      <td>0.141267</td>\n",
              "      <td>-0.206010</td>\n",
              "      <td>0.502292</td>\n",
              "      <td>0.219422</td>\n",
              "      <td>0.215153</td>\n",
              "      <td>69.99</td>\n",
              "      <td>0</td>\n",
              "    </tr>\n",
              "  </tbody>\n",
              "</table>\n",
              "<p>5 rows × 33 columns</p>\n",
              "</div>\n",
              "      <button class=\"colab-df-convert\" onclick=\"convertToInteractive('df-9745da3b-b53a-4c7d-b3f8-f3684bb3e35c')\"\n",
              "              title=\"Convert this dataframe to an interactive table.\"\n",
              "              style=\"display:none;\">\n",
              "        \n",
              "  <svg xmlns=\"http://www.w3.org/2000/svg\" height=\"24px\"viewBox=\"0 0 24 24\"\n",
              "       width=\"24px\">\n",
              "    <path d=\"M0 0h24v24H0V0z\" fill=\"none\"/>\n",
              "    <path d=\"M18.56 5.44l.94 2.06.94-2.06 2.06-.94-2.06-.94-.94-2.06-.94 2.06-2.06.94zm-11 1L8.5 8.5l.94-2.06 2.06-.94-2.06-.94L8.5 2.5l-.94 2.06-2.06.94zm10 10l.94 2.06.94-2.06 2.06-.94-2.06-.94-.94-2.06-.94 2.06-2.06.94z\"/><path d=\"M17.41 7.96l-1.37-1.37c-.4-.4-.92-.59-1.43-.59-.52 0-1.04.2-1.43.59L10.3 9.45l-7.72 7.72c-.78.78-.78 2.05 0 2.83L4 21.41c.39.39.9.59 1.41.59.51 0 1.02-.2 1.41-.59l7.78-7.78 2.81-2.81c.8-.78.8-2.07 0-2.86zM5.41 20L4 18.59l7.72-7.72 1.47 1.35L5.41 20z\"/>\n",
              "  </svg>\n",
              "      </button>\n",
              "      \n",
              "  <style>\n",
              "    .colab-df-container {\n",
              "      display:flex;\n",
              "      flex-wrap:wrap;\n",
              "      gap: 12px;\n",
              "    }\n",
              "\n",
              "    .colab-df-convert {\n",
              "      background-color: #E8F0FE;\n",
              "      border: none;\n",
              "      border-radius: 50%;\n",
              "      cursor: pointer;\n",
              "      display: none;\n",
              "      fill: #1967D2;\n",
              "      height: 32px;\n",
              "      padding: 0 0 0 0;\n",
              "      width: 32px;\n",
              "    }\n",
              "\n",
              "    .colab-df-convert:hover {\n",
              "      background-color: #E2EBFA;\n",
              "      box-shadow: 0px 1px 2px rgba(60, 64, 67, 0.3), 0px 1px 3px 1px rgba(60, 64, 67, 0.15);\n",
              "      fill: #174EA6;\n",
              "    }\n",
              "\n",
              "    [theme=dark] .colab-df-convert {\n",
              "      background-color: #3B4455;\n",
              "      fill: #D2E3FC;\n",
              "    }\n",
              "\n",
              "    [theme=dark] .colab-df-convert:hover {\n",
              "      background-color: #434B5C;\n",
              "      box-shadow: 0px 1px 3px 1px rgba(0, 0, 0, 0.15);\n",
              "      filter: drop-shadow(0px 1px 2px rgba(0, 0, 0, 0.3));\n",
              "      fill: #FFFFFF;\n",
              "    }\n",
              "  </style>\n",
              "\n",
              "      <script>\n",
              "        const buttonEl =\n",
              "          document.querySelector('#df-9745da3b-b53a-4c7d-b3f8-f3684bb3e35c button.colab-df-convert');\n",
              "        buttonEl.style.display =\n",
              "          google.colab.kernel.accessAllowed ? 'block' : 'none';\n",
              "\n",
              "        async function convertToInteractive(key) {\n",
              "          const element = document.querySelector('#df-9745da3b-b53a-4c7d-b3f8-f3684bb3e35c');\n",
              "          const dataTable =\n",
              "            await google.colab.kernel.invokeFunction('convertToInteractive',\n",
              "                                                     [key], {});\n",
              "          if (!dataTable) return;\n",
              "\n",
              "          const docLinkHtml = 'Like what you see? Visit the ' +\n",
              "            '<a target=\"_blank\" href=https://colab.research.google.com/notebooks/data_table.ipynb>data table notebook</a>'\n",
              "            + ' to learn more about interactive tables.';\n",
              "          element.innerHTML = '';\n",
              "          dataTable['output_type'] = 'display_data';\n",
              "          await google.colab.output.renderOutput(dataTable, element);\n",
              "          const docLink = document.createElement('div');\n",
              "          docLink.innerHTML = docLinkHtml;\n",
              "          element.appendChild(docLink);\n",
              "        }\n",
              "      </script>\n",
              "    </div>\n",
              "  </div>\n",
              "  "
            ]
          },
          "metadata": {},
          "execution_count": 17
        }
      ]
    },
    {
      "cell_type": "markdown",
      "source": [
        "**Summary:**\n",
        "* Scaled amount and scaled time are the columns with scaled values.\n",
        "* There are 492 cases of fraud in our dataset so we can randomly get 492 cases of non-fraud to create our new sub dataframe.\n",
        "* We concat the 492 cases of fraud and non fraud, creating a new sub-sample.\n",
        "\n",
        "\n",
        "---\n",
        "\n"
      ],
      "metadata": {
        "id": "vCDdOHcXo7PY"
      }
    },
    {
      "cell_type": "markdown",
      "source": [
        "## Train - Test - Validation split"
      ],
      "metadata": {
        "id": "H2gOyfc5pHnV"
      }
    },
    {
      "cell_type": "markdown",
      "source": [
        ">Define Predictors and target values"
      ],
      "metadata": {
        "id": "LlWT2vVlkrrL"
      }
    },
    {
      "cell_type": "code",
      "source": [
        "target = 'Class'\n",
        "predictors = ['Time', 'V1', 'V2', 'V3', 'V4', 'V5', 'V6', 'V7', 'V8', 'V9', 'V10',\\\n",
        "       'V11', 'V12', 'V13', 'V14', 'V15', 'V16', 'V17', 'V18', 'V19',\\\n",
        "       'V20', 'V21', 'V22', 'V23', 'V24', 'V25', 'V26', 'V27', 'V28',\\\n",
        "       'Amount']"
      ],
      "metadata": {
        "id": "Cf63pdlxkswy"
      },
      "execution_count": null,
      "outputs": []
    },
    {
      "cell_type": "markdown",
      "source": [
        "---"
      ],
      "metadata": {
        "id": "5lwZ9r7-2IBc"
      }
    },
    {
      "cell_type": "markdown",
      "source": [
        ">Train - Validation - Test Split"
      ],
      "metadata": {
        "id": "B9i96CUKk6w6"
      }
    },
    {
      "cell_type": "code",
      "source": [
        "#TRAIN/VALIDATION/TEST SPLIT\n",
        "VALID_SIZE = 0.20 \n",
        "TEST_SIZE = 0.20\n",
        "RANDOM_STATE = 2023\n",
        "\n",
        "train_df, test_df = train_test_split(df, test_size=TEST_SIZE, random_state=RANDOM_STATE, shuffle=True )\n",
        "train_df, valid_df = train_test_split(train_df, test_size=VALID_SIZE, random_state=RANDOM_STATE, shuffle=True )"
      ],
      "metadata": {
        "id": "7eFgjYt9jsVb"
      },
      "execution_count": null,
      "outputs": []
    },
    {
      "cell_type": "code",
      "source": [
        "X = df.drop('Class', axis=1)\n",
        "y = df['Class']\n",
        "\n",
        "sss = StratifiedKFold(n_splits=5, random_state=None, shuffle=False)\n",
        "\n",
        "for train_index, test_index in sss.split(X, y):\n",
        "    print(\"Train:\", train_index, \"Test:\", test_index)\n",
        "    original_Xtrain, original_Xtest = X.iloc[train_index], X.iloc[test_index]\n",
        "    original_ytrain, original_ytest = y.iloc[train_index], y.iloc[test_index]\n",
        "\n",
        "# We already have X_train and y_train for undersample data thats why I am using original to distinguish and to not overwrite these variables.\n",
        "# original_Xtrain, original_Xtest, original_ytrain, original_ytest = train_test_split(X, y, test_size=0.2, random_state=42)\n",
        "# Check the Distribution of the labels\n",
        "\n",
        "\n",
        "# Turn into an array\n",
        "original_Xtrain = original_Xtrain.values\n",
        "original_Xtest = original_Xtest.values\n",
        "original_ytrain = original_ytrain.values\n",
        "original_ytest = original_ytest.values\n",
        "\n",
        "# See if both the train and test label distribution are similarly distributed\n",
        "train_unique_label, train_counts_label = np.unique(original_ytrain, return_counts=True)\n",
        "test_unique_label, test_counts_label = np.unique(original_ytest, return_counts=True)\n",
        "print('-' * 100)\n",
        "\n",
        "print('Label Distributions: \\n')\n",
        "print(train_counts_label/ len(original_ytrain))\n",
        "print(test_counts_label/ len(original_ytest))"
      ],
      "metadata": {
        "colab": {
          "base_uri": "https://localhost:8080/"
        },
        "id": "rE5gCtxvdRoG",
        "outputId": "e1c48b70-0951-4a9c-9f76-33e2ceb350d9"
      },
      "execution_count": null,
      "outputs": [
        {
          "output_type": "stream",
          "name": "stdout",
          "text": [
            "Train: [ 30473  30496  31002 ... 284804 284805 284806] Test: [    0     1     2 ... 57017 57018 57019]\n",
            "Train: [     0      1      2 ... 284804 284805 284806] Test: [ 30473  30496  31002 ... 113964 113965 113966]\n",
            "Train: [     0      1      2 ... 284804 284805 284806] Test: [ 81609  82400  83053 ... 170946 170947 170948]\n",
            "Train: [     0      1      2 ... 284804 284805 284806] Test: [150654 150660 150661 ... 227866 227867 227868]\n",
            "Train: [     0      1      2 ... 227866 227867 227868] Test: [212516 212644 213092 ... 284804 284805 284806]\n",
            "----------------------------------------------------------------------------------------------------\n",
            "Label Distributions: \n",
            "\n",
            "[0.99827076 0.00172924]\n",
            "[0.99827952 0.00172048]\n"
          ]
        }
      ]
    },
    {
      "cell_type": "markdown",
      "source": [
        "Random Undersampling"
      ],
      "metadata": {
        "id": "ltMmQyoIddaM"
      }
    },
    {
      "cell_type": "code",
      "source": [
        "# Since our classes are highly skewed we should make them equivalent in order to have a normal distribution of the classes.\n",
        "\n",
        "# Lets shuffle the data before creating the subsamples\n",
        "\n",
        "df = df.sample(frac=1)\n",
        "\n",
        "# amount of fraud classes 492 rows.\n",
        "fraud_df = df.loc[df['Class'] == 1]\n",
        "non_fraud_df = df.loc[df['Class'] == 0][:492]\n",
        "\n",
        "normal_distributed_df = pd.concat([fraud_df, non_fraud_df])\n",
        "\n",
        "# Shuffle dataframe rows\n",
        "new_df = normal_distributed_df.sample(frac=1, random_state=42)\n",
        "\n",
        "new_df.head()"
      ],
      "metadata": {
        "colab": {
          "base_uri": "https://localhost:8080/"
        },
        "id": "yvjk4_wndgLd",
        "outputId": "a214fb8a-3e7d-4d10-a087-a6495d4d166f"
      },
      "execution_count": null,
      "outputs": [
        {
          "output_type": "execute_result",
          "data": {
            "text/plain": [
              "        scaled_amount  scaled_time      Time        V1        V2         V3  \\\n",
              "279952       2.068050     0.992857  169203.0  1.623617 -0.621390  -0.990044   \n",
              "233258      13.613778     0.737896  147501.0 -1.611877 -0.408410  -3.829762   \n",
              "277107       0.670579     0.972439  167465.0 -2.258468  1.276257   0.156118   \n",
              "8296        -0.293440    -0.864813   11080.0 -2.125490  5.973556 -11.034727   \n",
              "281674       0.286872     1.006309  170348.0  1.991976  0.158476  -2.583441   \n",
              "\n",
              "              V4        V5        V6        V7  ...       V21       V22  \\\n",
              "279952  1.279020 -0.128871  0.064956 -0.051744  ...  0.137474  0.089493   \n",
              "233258  6.249462 -3.360922  1.147964  1.858425  ...  1.245582  0.616383   \n",
              "277107 -0.525626 -1.183558 -0.495575 -0.344647  ...  0.261567  0.981053   \n",
              "8296    9.007147 -1.689451 -2.854415 -7.810441  ...  1.646518 -0.278485   \n",
              "281674  0.408670  1.151147 -0.096695  0.223050  ... -0.164350 -0.295135   \n",
              "\n",
              "             V23       V24       V25       V26       V27       V28  Amount  \\\n",
              "279952  0.083378  0.658526 -0.128207 -0.763712 -0.010108 -0.015138  170.00   \n",
              "233258  2.251439 -0.066096  0.538710  0.541325 -0.136243 -0.009852  996.27   \n",
              "277107 -0.300548  0.080271 -0.205801  0.569035  0.003444 -0.148014   69.99   \n",
              "8296   -0.664841 -1.164555  1.701796  0.690806  2.119749  1.108933    1.00   \n",
              "281674 -0.072173 -0.450261  0.313267 -0.289617  0.002988 -0.015309   42.53   \n",
              "\n",
              "        Class  \n",
              "279952      0  \n",
              "233258      1  \n",
              "277107      0  \n",
              "8296        1  \n",
              "281674      1  \n",
              "\n",
              "[5 rows x 33 columns]"
            ],
            "text/html": [
              "\n",
              "  <div id=\"df-896746cd-f254-477a-bc99-ffe1c64bdac9\">\n",
              "    <div class=\"colab-df-container\">\n",
              "      <div>\n",
              "<style scoped>\n",
              "    .dataframe tbody tr th:only-of-type {\n",
              "        vertical-align: middle;\n",
              "    }\n",
              "\n",
              "    .dataframe tbody tr th {\n",
              "        vertical-align: top;\n",
              "    }\n",
              "\n",
              "    .dataframe thead th {\n",
              "        text-align: right;\n",
              "    }\n",
              "</style>\n",
              "<table border=\"1\" class=\"dataframe\">\n",
              "  <thead>\n",
              "    <tr style=\"text-align: right;\">\n",
              "      <th></th>\n",
              "      <th>scaled_amount</th>\n",
              "      <th>scaled_time</th>\n",
              "      <th>Time</th>\n",
              "      <th>V1</th>\n",
              "      <th>V2</th>\n",
              "      <th>V3</th>\n",
              "      <th>V4</th>\n",
              "      <th>V5</th>\n",
              "      <th>V6</th>\n",
              "      <th>V7</th>\n",
              "      <th>...</th>\n",
              "      <th>V21</th>\n",
              "      <th>V22</th>\n",
              "      <th>V23</th>\n",
              "      <th>V24</th>\n",
              "      <th>V25</th>\n",
              "      <th>V26</th>\n",
              "      <th>V27</th>\n",
              "      <th>V28</th>\n",
              "      <th>Amount</th>\n",
              "      <th>Class</th>\n",
              "    </tr>\n",
              "  </thead>\n",
              "  <tbody>\n",
              "    <tr>\n",
              "      <th>279952</th>\n",
              "      <td>2.068050</td>\n",
              "      <td>0.992857</td>\n",
              "      <td>169203.0</td>\n",
              "      <td>1.623617</td>\n",
              "      <td>-0.621390</td>\n",
              "      <td>-0.990044</td>\n",
              "      <td>1.279020</td>\n",
              "      <td>-0.128871</td>\n",
              "      <td>0.064956</td>\n",
              "      <td>-0.051744</td>\n",
              "      <td>...</td>\n",
              "      <td>0.137474</td>\n",
              "      <td>0.089493</td>\n",
              "      <td>0.083378</td>\n",
              "      <td>0.658526</td>\n",
              "      <td>-0.128207</td>\n",
              "      <td>-0.763712</td>\n",
              "      <td>-0.010108</td>\n",
              "      <td>-0.015138</td>\n",
              "      <td>170.00</td>\n",
              "      <td>0</td>\n",
              "    </tr>\n",
              "    <tr>\n",
              "      <th>233258</th>\n",
              "      <td>13.613778</td>\n",
              "      <td>0.737896</td>\n",
              "      <td>147501.0</td>\n",
              "      <td>-1.611877</td>\n",
              "      <td>-0.408410</td>\n",
              "      <td>-3.829762</td>\n",
              "      <td>6.249462</td>\n",
              "      <td>-3.360922</td>\n",
              "      <td>1.147964</td>\n",
              "      <td>1.858425</td>\n",
              "      <td>...</td>\n",
              "      <td>1.245582</td>\n",
              "      <td>0.616383</td>\n",
              "      <td>2.251439</td>\n",
              "      <td>-0.066096</td>\n",
              "      <td>0.538710</td>\n",
              "      <td>0.541325</td>\n",
              "      <td>-0.136243</td>\n",
              "      <td>-0.009852</td>\n",
              "      <td>996.27</td>\n",
              "      <td>1</td>\n",
              "    </tr>\n",
              "    <tr>\n",
              "      <th>277107</th>\n",
              "      <td>0.670579</td>\n",
              "      <td>0.972439</td>\n",
              "      <td>167465.0</td>\n",
              "      <td>-2.258468</td>\n",
              "      <td>1.276257</td>\n",
              "      <td>0.156118</td>\n",
              "      <td>-0.525626</td>\n",
              "      <td>-1.183558</td>\n",
              "      <td>-0.495575</td>\n",
              "      <td>-0.344647</td>\n",
              "      <td>...</td>\n",
              "      <td>0.261567</td>\n",
              "      <td>0.981053</td>\n",
              "      <td>-0.300548</td>\n",
              "      <td>0.080271</td>\n",
              "      <td>-0.205801</td>\n",
              "      <td>0.569035</td>\n",
              "      <td>0.003444</td>\n",
              "      <td>-0.148014</td>\n",
              "      <td>69.99</td>\n",
              "      <td>0</td>\n",
              "    </tr>\n",
              "    <tr>\n",
              "      <th>8296</th>\n",
              "      <td>-0.293440</td>\n",
              "      <td>-0.864813</td>\n",
              "      <td>11080.0</td>\n",
              "      <td>-2.125490</td>\n",
              "      <td>5.973556</td>\n",
              "      <td>-11.034727</td>\n",
              "      <td>9.007147</td>\n",
              "      <td>-1.689451</td>\n",
              "      <td>-2.854415</td>\n",
              "      <td>-7.810441</td>\n",
              "      <td>...</td>\n",
              "      <td>1.646518</td>\n",
              "      <td>-0.278485</td>\n",
              "      <td>-0.664841</td>\n",
              "      <td>-1.164555</td>\n",
              "      <td>1.701796</td>\n",
              "      <td>0.690806</td>\n",
              "      <td>2.119749</td>\n",
              "      <td>1.108933</td>\n",
              "      <td>1.00</td>\n",
              "      <td>1</td>\n",
              "    </tr>\n",
              "    <tr>\n",
              "      <th>281674</th>\n",
              "      <td>0.286872</td>\n",
              "      <td>1.006309</td>\n",
              "      <td>170348.0</td>\n",
              "      <td>1.991976</td>\n",
              "      <td>0.158476</td>\n",
              "      <td>-2.583441</td>\n",
              "      <td>0.408670</td>\n",
              "      <td>1.151147</td>\n",
              "      <td>-0.096695</td>\n",
              "      <td>0.223050</td>\n",
              "      <td>...</td>\n",
              "      <td>-0.164350</td>\n",
              "      <td>-0.295135</td>\n",
              "      <td>-0.072173</td>\n",
              "      <td>-0.450261</td>\n",
              "      <td>0.313267</td>\n",
              "      <td>-0.289617</td>\n",
              "      <td>0.002988</td>\n",
              "      <td>-0.015309</td>\n",
              "      <td>42.53</td>\n",
              "      <td>1</td>\n",
              "    </tr>\n",
              "  </tbody>\n",
              "</table>\n",
              "<p>5 rows × 33 columns</p>\n",
              "</div>\n",
              "      <button class=\"colab-df-convert\" onclick=\"convertToInteractive('df-896746cd-f254-477a-bc99-ffe1c64bdac9')\"\n",
              "              title=\"Convert this dataframe to an interactive table.\"\n",
              "              style=\"display:none;\">\n",
              "        \n",
              "  <svg xmlns=\"http://www.w3.org/2000/svg\" height=\"24px\"viewBox=\"0 0 24 24\"\n",
              "       width=\"24px\">\n",
              "    <path d=\"M0 0h24v24H0V0z\" fill=\"none\"/>\n",
              "    <path d=\"M18.56 5.44l.94 2.06.94-2.06 2.06-.94-2.06-.94-.94-2.06-.94 2.06-2.06.94zm-11 1L8.5 8.5l.94-2.06 2.06-.94-2.06-.94L8.5 2.5l-.94 2.06-2.06.94zm10 10l.94 2.06.94-2.06 2.06-.94-2.06-.94-.94-2.06-.94 2.06-2.06.94z\"/><path d=\"M17.41 7.96l-1.37-1.37c-.4-.4-.92-.59-1.43-.59-.52 0-1.04.2-1.43.59L10.3 9.45l-7.72 7.72c-.78.78-.78 2.05 0 2.83L4 21.41c.39.39.9.59 1.41.59.51 0 1.02-.2 1.41-.59l7.78-7.78 2.81-2.81c.8-.78.8-2.07 0-2.86zM5.41 20L4 18.59l7.72-7.72 1.47 1.35L5.41 20z\"/>\n",
              "  </svg>\n",
              "      </button>\n",
              "      \n",
              "  <style>\n",
              "    .colab-df-container {\n",
              "      display:flex;\n",
              "      flex-wrap:wrap;\n",
              "      gap: 12px;\n",
              "    }\n",
              "\n",
              "    .colab-df-convert {\n",
              "      background-color: #E8F0FE;\n",
              "      border: none;\n",
              "      border-radius: 50%;\n",
              "      cursor: pointer;\n",
              "      display: none;\n",
              "      fill: #1967D2;\n",
              "      height: 32px;\n",
              "      padding: 0 0 0 0;\n",
              "      width: 32px;\n",
              "    }\n",
              "\n",
              "    .colab-df-convert:hover {\n",
              "      background-color: #E2EBFA;\n",
              "      box-shadow: 0px 1px 2px rgba(60, 64, 67, 0.3), 0px 1px 3px 1px rgba(60, 64, 67, 0.15);\n",
              "      fill: #174EA6;\n",
              "    }\n",
              "\n",
              "    [theme=dark] .colab-df-convert {\n",
              "      background-color: #3B4455;\n",
              "      fill: #D2E3FC;\n",
              "    }\n",
              "\n",
              "    [theme=dark] .colab-df-convert:hover {\n",
              "      background-color: #434B5C;\n",
              "      box-shadow: 0px 1px 3px 1px rgba(0, 0, 0, 0.15);\n",
              "      filter: drop-shadow(0px 1px 2px rgba(0, 0, 0, 0.3));\n",
              "      fill: #FFFFFF;\n",
              "    }\n",
              "  </style>\n",
              "\n",
              "      <script>\n",
              "        const buttonEl =\n",
              "          document.querySelector('#df-896746cd-f254-477a-bc99-ffe1c64bdac9 button.colab-df-convert');\n",
              "        buttonEl.style.display =\n",
              "          google.colab.kernel.accessAllowed ? 'block' : 'none';\n",
              "\n",
              "        async function convertToInteractive(key) {\n",
              "          const element = document.querySelector('#df-896746cd-f254-477a-bc99-ffe1c64bdac9');\n",
              "          const dataTable =\n",
              "            await google.colab.kernel.invokeFunction('convertToInteractive',\n",
              "                                                     [key], {});\n",
              "          if (!dataTable) return;\n",
              "\n",
              "          const docLinkHtml = 'Like what you see? Visit the ' +\n",
              "            '<a target=\"_blank\" href=https://colab.research.google.com/notebooks/data_table.ipynb>data table notebook</a>'\n",
              "            + ' to learn more about interactive tables.';\n",
              "          element.innerHTML = '';\n",
              "          dataTable['output_type'] = 'display_data';\n",
              "          await google.colab.output.renderOutput(dataTable, element);\n",
              "          const docLink = document.createElement('div');\n",
              "          docLink.innerHTML = docLinkHtml;\n",
              "          element.appendChild(docLink);\n",
              "        }\n",
              "      </script>\n",
              "    </div>\n",
              "  </div>\n",
              "  "
            ]
          },
          "metadata": {},
          "execution_count": 21
        }
      ]
    },
    {
      "cell_type": "code",
      "source": [
        "# Undersampling before cross validating (prone to overfit)\n",
        "X = new_df.drop('Class', axis=1)\n",
        "y = new_df['Class']"
      ],
      "metadata": {
        "id": "kLlEqIp0jevN"
      },
      "execution_count": null,
      "outputs": []
    },
    {
      "cell_type": "code",
      "source": [
        "# Our data is already scaled we should split our training and test sets\n",
        "from sklearn.model_selection import train_test_split\n",
        "\n",
        "# This is explicitly used for undersampling.\n",
        "X_train, X_test, y_train, y_test = train_test_split(X, y, test_size=0.2, random_state=42)"
      ],
      "metadata": {
        "id": "8WTph8Q3jlxZ"
      },
      "execution_count": null,
      "outputs": []
    },
    {
      "cell_type": "code",
      "source": [
        "# Turn the values into an array for feeding the classification algorithms.\n",
        "X_train = X_train.values\n",
        "X_test = X_test.values\n",
        "y_train = y_train.values\n",
        "y_test = y_test.values"
      ],
      "metadata": {
        "id": "JeXP-eJ_kaN9"
      },
      "execution_count": null,
      "outputs": []
    },
    {
      "cell_type": "markdown",
      "source": [
        "---"
      ],
      "metadata": {
        "id": "BRzIxZS_199x"
      }
    },
    {
      "cell_type": "markdown",
      "source": [
        "## Logistic Regression"
      ],
      "metadata": {
        "id": "SRMwqVnokGUU"
      }
    },
    {
      "cell_type": "code",
      "source": [
        "classifiers = {\n",
        "    \"LogisiticRegression\": LogisticRegression(),\n",
        "}"
      ],
      "metadata": {
        "id": "rtG0kpBWkKnY"
      },
      "execution_count": null,
      "outputs": []
    },
    {
      "cell_type": "code",
      "source": [
        "from sklearn.model_selection import KFold\n",
        "\n",
        "num_folds = 5\n",
        "\n",
        "kfold = KFold(n_splits=num_folds, shuffle=True, random_state=42)\n",
        "\n",
        "for clf_name, clf in classifiers.items():\n",
        "    \n",
        "    clf.fit(X_train, y_train)\n",
        "    \n",
        "    # Evaluate the classifier using cross-validation\n",
        "    scores = []\n",
        "    for train_index, val_index in kfold.split(X_train):\n",
        "        X_train_fold, X_val_fold = X_train[train_index], X_train[val_index]\n",
        "        y_train_fold, y_val_fold = y_train[train_index], y_train[val_index]\n",
        "        clf.fit(X_train_fold, y_train_fold)\n",
        "        fold_score = clf.score(X_val_fold, y_val_fold)\n",
        "        scores.append(fold_score)\n",
        "    \n",
        "    ms=np.mean(scores)\n",
        "    sds=np.std(scores)\n",
        "    mean_score = round(ms, 2) * 100\n",
        "    std_score = round(sds, 2) * 100\n",
        "    \n",
        "    # Print the results\n",
        "    print(f\"{clf_name} has a training score of {mean_score}% +/- {std_score}%\")"
      ],
      "metadata": {
        "colab": {
          "base_uri": "https://localhost:8080/"
        },
        "id": "vOucK-48z8r6",
        "outputId": "e57d18c3-1db8-492e-88d0-cf2e170b2553"
      },
      "execution_count": null,
      "outputs": [
        {
          "output_type": "stream",
          "name": "stdout",
          "text": [
            "LogisiticRegression has a training score of 95.0% +/- 1.0%\n"
          ]
        }
      ]
    },
    {
      "cell_type": "code",
      "source": [
        "from sklearn.linear_model import LogisticRegression\n",
        "from sklearn.model_selection import GridSearchCV\n",
        "\n",
        "param_grid = {\n",
        "    #'penalty': ['l1', 'l2'],\n",
        "    'C': [0.001, 0.01, 0.1, 1, 10, 100, 1000]\n",
        "}\n",
        "\n",
        "# Initialize the logistic regression model\n",
        "log_reg = LogisticRegression()\n",
        "\n",
        "grid_search = GridSearchCV(estimator=log_reg, param_grid=param_grid, cv=5)\n",
        "grid_search.fit(X_train, y_train)\n",
        "\n",
        "# Print the best hyperparameters and the corresponding logistic regression model\n",
        "bp=grid_search.best_params_\n",
        "be=grid_search.best_estimator_\n",
        "print(\"Best hyperparameters: \", bp)\n",
        "print(\"Best logistic regression model: \", be)"
      ],
      "metadata": {
        "colab": {
          "base_uri": "https://localhost:8080/"
        },
        "id": "6z3I_Xef1jem",
        "outputId": "7fbbae63-d2a2-4b78-a242-d3a4b1c5d986"
      },
      "execution_count": null,
      "outputs": [
        {
          "output_type": "stream",
          "name": "stdout",
          "text": [
            "Best hyperparameters:  {'C': 0.1}\n",
            "Best logistic regression model:  LogisticRegression(C=0.1)\n"
          ]
        }
      ]
    },
    {
      "cell_type": "code",
      "source": [
        "# Overfitting Case\n",
        "from sklearn.model_selection import cross_val_score\n",
        "log_reg_score = cross_val_score(log_reg, X_train, y_train, cv=5)\n",
        "lr0=log_reg_score.mean()\n",
        "lr1=lr0 * 100\n",
        "print('Logistic Regression Cross Validation Score: ', round(lr1, 2).astype(str) + '%')"
      ],
      "metadata": {
        "colab": {
          "base_uri": "https://localhost:8080/"
        },
        "id": "cgz6oj5wk8he",
        "outputId": "f0ac210c-3a52-4c71-db70-7f1b881c0626"
      },
      "execution_count": null,
      "outputs": [
        {
          "output_type": "stream",
          "name": "stdout",
          "text": [
            "Logistic Regression Cross Validation Score:  93.27%\n"
          ]
        }
      ]
    },
    {
      "cell_type": "code",
      "source": [
        "# Let's Plot LogisticRegression Learning Curve\n",
        "from sklearn.model_selection import ShuffleSplit\n",
        "from sklearn.model_selection import learning_curve\n",
        "\n",
        "def plot_learning_curve(estimator1, X, y, ylim=None, cv=None,\n",
        "                        n_jobs=1, train_sizes=np.linspace(.1, 1.0, 5)):\n",
        "    f, (ax1) = plt.subplots(1,1, figsize=(6,4), sharey=True)\n",
        "    if ylim is not None:\n",
        "        plt.ylim(*ylim)\n",
        "    # First Estimator\n",
        "    train_sizes, train_scores, test_scores = learning_curve(\n",
        "        estimator1, X, y, cv=cv, n_jobs=n_jobs, train_sizes=train_sizes)\n",
        "    train_scores_mean = np.mean(train_scores, axis=1)\n",
        "    train_scores_std = np.std(train_scores, axis=1)\n",
        "    test_scores_mean = np.mean(test_scores, axis=1)\n",
        "    test_scores_std = np.std(test_scores, axis=1)\n",
        "    t1=train_scores_mean - train_scores_std\n",
        "    t2=train_scores_mean + train_scores_std\n",
        "    ax1.fill_between(train_sizes, t1,t2, alpha=0.1,color=\"#ff9124\")\n",
        "    t3= test_scores_mean - test_scores_std\n",
        "    t4= test_scores_mean + test_scores_std           \n",
        "    ax1.fill_between(train_sizes, t3,t4, alpha=0.1, color=\"#2492ff\")\n",
        "                     \n",
        "    ax1.plot(train_sizes, train_scores_mean, 'o-', color=\"#ff9124\",\n",
        "             label=\"Training score\")\n",
        "    ax1.plot(train_sizes, test_scores_mean, 'o-', color=\"#2492ff\",\n",
        "             label=\"Cross-validation score\")\n",
        "    ax1.set_title(\"Logistic Regression Learning Curve\", fontsize=14)\n",
        "    ax1.set_xlabel('Training size')\n",
        "    ax1.set_ylabel('Score')\n",
        "    ax1.grid(True)\n",
        "    ax1.legend(loc=\"best\")\n",
        "    return plt"
      ],
      "metadata": {
        "id": "yApEOMnYlufq"
      },
      "execution_count": null,
      "outputs": []
    },
    {
      "cell_type": "code",
      "source": [
        "cv = ShuffleSplit(n_splits=100, test_size=0.2, random_state=42)\n",
        "plot_learning_curve(log_reg, X_train, y_train, (0.87, 1.01), cv=cv, n_jobs=4)"
      ],
      "metadata": {
        "colab": {
          "base_uri": "https://localhost:8080/"
        },
        "id": "XxtTQL4hmFKG",
        "outputId": "8a0f00de-e547-407d-9629-04e6c818eae5"
      },
      "execution_count": null,
      "outputs": [
        {
          "output_type": "execute_result",
          "data": {
            "text/plain": [
              "<module 'matplotlib.pyplot' from '/usr/local/lib/python3.9/dist-packages/matplotlib/pyplot.py'>"
            ]
          },
          "metadata": {},
          "execution_count": 30
        },
        {
          "output_type": "display_data",
          "data": {
            "text/plain": [
              "<Figure size 600x400 with 1 Axes>"
            ],
            "image/png": "[encoded data removed]"
          },
          "metadata": {}
        }
      ]
    },
    {
      "cell_type": "code",
      "source": [
        "from sklearn.metrics import roc_curve\n",
        "from sklearn.model_selection import cross_val_predict\n",
        "# Create a DataFrame with all the scores and the classifiers names.\n",
        "\n",
        "log_reg_pred = cross_val_predict(log_reg, X_train, y_train, cv=5,\n",
        "                             method=\"decision_function\")"
      ],
      "metadata": {
        "id": "CkqoArTLnn08"
      },
      "execution_count": null,
      "outputs": []
    },
    {
      "cell_type": "code",
      "source": [
        "from sklearn.metrics import roc_auc_score\n",
        "ra1=roc_auc_score(y_train, log_reg_pred)\n",
        "print('ROC AUC score for Logistic Regression: ', ra1)"
      ],
      "metadata": {
        "colab": {
          "base_uri": "https://localhost:8080/"
        },
        "id": "euaW_KqBnu-M",
        "outputId": "ce69c548-f91f-4c16-cc56-b9936387e859"
      },
      "execution_count": null,
      "outputs": [
        {
          "output_type": "stream",
          "name": "stdout",
          "text": [
            "ROC AUC score for Logistic Regression:  0.9709779587615539\n"
          ]
        }
      ]
    },
    {
      "cell_type": "code",
      "source": [
        "log_fpr, log_tpr, log_thresold = roc_curve(y_train, log_reg_pred)"
      ],
      "metadata": {
        "id": "dB3IBvgdoHGw"
      },
      "execution_count": null,
      "outputs": []
    },
    {
      "cell_type": "code",
      "source": [
        "import matplotlib.pyplot as plt\n",
        "\n",
        "def logistic_roc_curve(log_fpr, log_tpr):\n",
        "    fig, ax = plt.subplots(figsize=(5,3))\n",
        "    ax.set_title('Logistic Regression ROC Curve', fontsize=10)\n",
        "    ax.plot(log_fpr, log_tpr, 'b-', linewidth=2)\n",
        "    ax.plot([0, 1], [0, 1], 'r--')\n",
        "    ax.set_xlabel('False Positive Rate', fontsize=10)\n",
        "    ax.set_ylabel('True Positive Rate', fontsize=10)\n",
        "    ax.set_xlim([-0.01, 1])\n",
        "    ax.set_ylim([0, 1])\n",
        "    plt.show()\n",
        "\n",
        "logistic_roc_curve(log_fpr, log_tpr)"
      ],
      "metadata": {
        "colab": {
          "base_uri": "https://localhost:8080/"
        },
        "id": "g_b4DpPR6daW",
        "outputId": "23743c62-41e6-41a4-f09c-dc136739fb9e"
      },
      "execution_count": null,
      "outputs": [
        {
          "output_type": "display_data",
          "data": {
            "text/plain": [
              "<Figure size 500x300 with 1 Axes>"
            ],
            "image/png": "[encoded data removed]"
          },
          "metadata": {}
        }
      ]
    },
    {
      "cell_type": "code",
      "source": [
        "from sklearn.metrics import confusion_matrix\n",
        "\n",
        "log_reg = grid_search.best_estimator_\n",
        "log_reg.fit(X_train, y_train)\n",
        "y_pred_log_reg1 = log_reg.predict(X_test)\n",
        "log_reg_cf = confusion_matrix(y_test, y_pred_log_reg1)\n",
        "\n",
        "plt.figure(figsize=(5,3))\n",
        "sns.heatmap(log_reg_cf,  annot=True, cmap=plt.cm.copper)\n",
        "plt.title(\"Logistic Regression Confusion Matrix\", fontsize=10)\n",
        "plt.show()"
      ],
      "metadata": {
        "id": "poWz4zvK0lxG",
        "colab": {
          "base_uri": "https://localhost:8080/"
        },
        "outputId": "8a4a949d-9176-41ed-fac0-f8da0800cda6"
      },
      "execution_count": null,
      "outputs": [
        {
          "output_type": "display_data",
          "data": {
            "text/plain": [
              "<Figure size 500x300 with 2 Axes>"
            ],
            "image/png": "[encoded data removed]"
          },
          "metadata": {}
        }
      ]
    },
    {
      "cell_type": "code",
      "source": [
        "from sklearn.metrics import recall_score, precision_score, f1_score, accuracy_score\n",
        "y_pred = log_reg.predict(X_train)\n",
        "rl=recall_score(y_train, y_pred)\n",
        "ps=precision_score(y_train, y_pred)\n",
        "f1s=f1_score(y_train, y_pred)\n",
        "acs=accuracy_score(y_train, y_pred)\n",
        "# Overfitting Case\n",
        "print('Overfitting: \\n')\n",
        "print('Recall Score: {:.2f}'.format(rl))\n",
        "print('Precision Score: {:.2f}'.format(ps))\n",
        "print('F1 Score: {:.2f}'.format(f1s))\n",
        "print('Accuracy Score: {:.2f}'.format(acs))"
      ],
      "metadata": {
        "colab": {
          "base_uri": "https://localhost:8080/"
        },
        "id": "yGl4oBMRuVJJ",
        "outputId": "fb790c57-9844-4919-d833-a4b9f709f61f"
      },
      "execution_count": null,
      "outputs": [
        {
          "output_type": "stream",
          "name": "stdout",
          "text": [
            "Overfitting: \n",
            "\n",
            "Recall Score: 0.93\n",
            "Precision Score: 0.98\n",
            "F1 Score: 0.95\n",
            "Accuracy Score: 0.95\n"
          ]
        }
      ]
    },
    {
      "cell_type": "markdown",
      "source": [
        "SMOTE Technique (Over-Sampling):"
      ],
      "metadata": {
        "id": "eEE1jCXQuj5C"
      }
    },
    {
      "cell_type": "markdown",
      "source": [
        "SMOTE stands for Synthetic Minority Over-sampling Technique. Unlike Random UnderSampling, SMOTE creates new synthetic points in order to have an equal balance of the classes. This is another alternative for solving the \"class imbalance problems\"."
      ],
      "metadata": {
        "id": "BihJfq3JeXi4"
      }
    },
    {
      "cell_type": "code",
      "source": [
        "from imblearn.over_sampling import SMOTE\n",
        "from sklearn.model_selection import train_test_split, RandomizedSearchCV\n",
        "\n",
        "lxt1=len(original_Xtrain)\n",
        "lyt1=len(original_ytrain)\n",
        "lxt2=len(original_Xtest)\n",
        "lyt2=len(original_ytest)\n",
        "print('Length of X (train): {} | Length of y (train): {}'.format(lxt1, lyt1))\n",
        "print('Length of X (test): {} | Length of y (test): {}'.format(lxt2, lyt2))\n",
        "\n",
        "# Define lists to store evaluation metrics\n",
        "metrics = {\n",
        "    'accuracy': [],\n",
        "    'precision': [],\n",
        "    'recall': [],\n",
        "    'f1': [],\n",
        "    'auc': []\n",
        "}\n",
        "\n",
        "# Define the classifier and hyperparameter search space\n",
        "log_reg_sm = LogisticRegression()\n",
        "param_grid = { 'C': [0.001, 0.01, 0.1, 1, 10, 100, 1000]}\n",
        "rand_log_reg = RandomizedSearchCV(log_reg_sm, param_grid, n_iter=4)\n",
        "\n",
        "# Implement SMOTE during cross-validation\n",
        "for train_idx, test_idx in sss.split(original_Xtrain, original_ytrain):\n",
        "    pipeline = imbalanced_make_pipeline(SMOTE(sampling_strategy='minority'), rand_log_reg)\n",
        "    pipeline.fit(original_Xtrain[train_idx], original_ytrain[train_idx])\n",
        "    y_pred = pipeline.predict(original_Xtrain[test_idx])\n",
        "\n",
        "    pso=precision_score(original_ytrain[test_idx], y_pred)\n",
        "    rso=recall_score(original_ytrain[test_idx], y_pred)\n",
        "    f1so=f1_score(original_ytrain[test_idx], y_pred)\n",
        "    raso=roc_auc_score(original_ytrain[test_idx], y_pred)\n",
        "    # Compute evaluation metrics \n",
        "    metrics['accuracy'].append(pipeline.score(original_Xtrain[test_idx], original_ytrain[test_idx]))\n",
        "    metrics['precision'].append(pso)\n",
        "    metrics['recall'].append(rso)\n",
        "    metrics['f1'].append(f1so)\n",
        "    metrics['auc'].append(raso)\n",
        "\n",
        "# Print the average evaluation metrics\n",
        "for metric, values in metrics.items():\n",
        "    print(f\"{metric}: {np.mean(values)}\")"
      ],
      "metadata": {
        "colab": {
          "base_uri": "https://localhost:8080/"
        },
        "id": "qMrEHp-aAbC0",
        "outputId": "d507e250-141d-42f3-dad0-6468b9b45f49"
      },
      "execution_count": null,
      "outputs": [
        {
          "output_type": "stream",
          "name": "stdout",
          "text": [
            "Length of X (train): 227846 | Length of y (train): 227846\n",
            "Length of X (test): 56961 | Length of y (test): 56961\n",
            "accuracy: 0.9700985501960091\n",
            "precision: 0.11901022886301671\n",
            "recall: 0.9011359948068808\n",
            "f1: 0.1989727202651092\n",
            "auc: 0.9356770750693384\n"
          ]
        }
      ]
    },
    {
      "cell_type": "code",
      "source": [
        "from imblearn.over_sampling import SMOTE\n",
        "from sklearn.model_selection import train_test_split, RandomizedSearchCV\n",
        "\n",
        "lxt1=len(original_Xtrain)\n",
        "lyt1=len(original_ytrain)\n",
        "lxt2=len(original_Xtest)\n",
        "lyt2=len(original_ytest)\n",
        "print('Length of X (train): {} | Length of y (train): {}'.format(lxt1, lyt1))\n",
        "print('Length of X (test): {} | Length of y (test): {}'.format(lxt2, lyt2))\n",
        "\n",
        "# List to append the score and then find the average\n",
        "accuracy_lst = []\n",
        "precision_lst = []\n",
        "recall_lst = []\n",
        "f1_lst = []\n",
        "auc_lst = []\n",
        "\n",
        "# Classifier with optimal parameters\n",
        "# log_reg_sm = grid_log_reg.best_estimator_\n",
        "log_reg_sm = LogisticRegression()\n",
        "rand_log_reg = RandomizedSearchCV(LogisticRegression(), param_grid, n_iter=4)\n",
        "\n",
        "\n",
        "# Implementing SMOTE Technique \n",
        "# Cross Validating the right way\n",
        "# Parameters\n",
        "log_reg_params = {\"penalty\": ['l1', 'l2'], 'C': [0.001, 0.01, 0.1, 1, 10, 100, 1000]}\n",
        "for train, test in sss.split(original_Xtrain, original_ytrain):\n",
        "    pipeline = imbalanced_make_pipeline(SMOTE(sampling_strategy='minority'), rand_log_reg) # SMOTE happens during Cross Validation not before..\n",
        "    model = pipeline.fit(original_Xtrain[train], original_ytrain[train])\n",
        "    best_est = rand_log_reg.best_estimator_\n",
        "    prediction = best_est.predict(original_Xtrain[test])\n",
        "    \n",
        "    accuracy_lst.append(pipeline.score(original_Xtrain[test], original_ytrain[test]))\n",
        "    precision_lst.append(precision_score(original_ytrain[test], prediction))\n",
        "    recall_lst.append(recall_score(original_ytrain[test], prediction))\n",
        "    f1_lst.append(f1_score(original_ytrain[test], prediction))\n",
        "    auc_lst.append(roc_auc_score(original_ytrain[test], prediction))\n",
        "    \n",
        "print('')\n",
        "print(\"accuracy: {}\".format(np.mean(accuracy_lst)))\n",
        "print(\"precision: {}\".format(np.mean(precision_lst)))\n",
        "print(\"recall: {}\".format(np.mean(recall_lst)))\n",
        "print(\"f1: {}\".format(np.mean(f1_lst)))"
      ],
      "metadata": {
        "id": "BCaCOu-gukwu",
        "colab": {
          "base_uri": "https://localhost:8080/"
        },
        "outputId": "89fb737e-8e4a-45dd-8d5c-4a4d27433e53"
      },
      "execution_count": null,
      "outputs": [
        {
          "output_type": "stream",
          "name": "stdout",
          "text": [
            "Length of X (train): 227846 | Length of y (train): 227846\n",
            "Length of X (test): 56961 | Length of y (test): 56961\n",
            "\n",
            "accuracy: 0.9625672227027321\n",
            "precision: 0.15380303505078194\n",
            "recall: 0.8910094125283999\n",
            "f1: 0.22269442635750764\n"
          ]
        }
      ]
    },
    {
      "cell_type": "code",
      "source": [
        "\"\"\"labels = ['No Fraud', 'Fraud']\n",
        "smote_prediction = best_est.predict(original_Xtest)\n",
        "print(classification_report(original_ytest, smote_prediction, target_names=labels))\"\"\""
      ],
      "metadata": {
        "id": "bemByOFIu3oR",
        "colab": {
          "base_uri": "https://localhost:8080/"
        },
        "outputId": "0bf3cb9d-4d54-4be6-d5c8-6d7b256193b1"
      },
      "execution_count": null,
      "outputs": [
        {
          "output_type": "execute_result",
          "data": {
            "text/plain": [
              "\"labels = ['No Fraud', 'Fraud']\\nsmote_prediction = best_est.predict(original_Xtest)\\nprint(classification_report(original_ytest, smote_prediction, target_names=labels))\""
            ],
            "application/vnd.google.colaboratory.intrinsic+json": {
              "type": "string"
            }
          },
          "metadata": {},
          "execution_count": 39
        }
      ]
    },
    {
      "cell_type": "code",
      "source": [
        "y_score = best_est.decision_function(original_Xtest)"
      ],
      "metadata": {
        "id": "Tw48AbpPvFl-"
      },
      "execution_count": null,
      "outputs": []
    },
    {
      "cell_type": "code",
      "source": [
        "# SMOTE Technique (OverSampling) After splitting and Cross Validating\n",
        "from imblearn.over_sampling import SMOTE\n",
        "sm = SMOTE(sampling_strategy='minority', random_state=42)\n",
        "\n",
        "Xsm_train, ysm_train = sm.fit_resample(original_Xtrain, original_ytrain)"
      ],
      "metadata": {
        "id": "Jov8rcLX2pkt"
      },
      "execution_count": null,
      "outputs": []
    },
    {
      "cell_type": "code",
      "source": [
        "# We Improve the score by 2% points approximately \n",
        "# Implement GridSearchCV and the other models.\n",
        "\n",
        "log_reg_sm = grid_search.best_estimator_\n",
        "log_reg_sm.fit(Xsm_train, ysm_train)"
      ],
      "metadata": {
        "colab": {
          "base_uri": "https://localhost:8080/"
        },
        "id": "DHm2bega2tsz",
        "outputId": "0e3a6f1e-28e3-41d3-d9be-9dc8a69999d0"
      },
      "execution_count": null,
      "outputs": [
        {
          "output_type": "execute_result",
          "data": {
            "text/plain": [
              "LogisticRegression(C=0.1)"
            ],
            "text/html": [
              "<style>#sk-container-id-1 {color: black;background-color: white;}#sk-container-id-1 pre{padding: 0;}#sk-container-id-1 div.sk-toggleable {background-color: white;}#sk-container-id-1 label.sk-toggleable__label {cursor: pointer;display: block;width: 100%;margin-bottom: 0;padding: 0.3em;box-sizing: border-box;text-align: center;}#sk-container-id-1 label.sk-toggleable__label-arrow:before {content: \"▸\";float: left;margin-right: 0.25em;color: #696969;}#sk-container-id-1 label.sk-toggleable__label-arrow:hover:before {color: black;}#sk-container-id-1 div.sk-estimator:hover label.sk-toggleable__label-arrow:before {color: black;}#sk-container-id-1 div.sk-toggleable__content {max-height: 0;max-width: 0;overflow: hidden;text-align: left;background-color: #f0f8ff;}#sk-container-id-1 div.sk-toggleable__content pre {margin: 0.2em;color: black;border-radius: 0.25em;background-color: #f0f8ff;}#sk-container-id-1 input.sk-toggleable__control:checked~div.sk-toggleable__content {max-height: 200px;max-width: 100%;overflow: auto;}#sk-container-id-1 input.sk-toggleable__control:checked~label.sk-toggleable__label-arrow:before {content: \"▾\";}#sk-container-id-1 div.sk-estimator input.sk-toggleable__control:checked~label.sk-toggleable__label {background-color: #d4ebff;}#sk-container-id-1 div.sk-label input.sk-toggleable__control:checked~label.sk-toggleable__label {background-color: #d4ebff;}#sk-container-id-1 input.sk-hidden--visually {border: 0;clip: rect(1px 1px 1px 1px);clip: rect(1px, 1px, 1px, 1px);height: 1px;margin: -1px;overflow: hidden;padding: 0;position: absolute;width: 1px;}#sk-container-id-1 div.sk-estimator {font-family: monospace;background-color: #f0f8ff;border: 1px dotted black;border-radius: 0.25em;box-sizing: border-box;margin-bottom: 0.5em;}#sk-container-id-1 div.sk-estimator:hover {background-color: #d4ebff;}#sk-container-id-1 div.sk-parallel-item::after {content: \"\";width: 100%;border-bottom: 1px solid gray;flex-grow: 1;}#sk-container-id-1 div.sk-label:hover label.sk-toggleable__label {background-color: #d4ebff;}#sk-container-id-1 div.sk-serial::before {content: \"\";position: absolute;border-left: 1px solid gray;box-sizing: border-box;top: 0;bottom: 0;left: 50%;z-index: 0;}#sk-container-id-1 div.sk-serial {display: flex;flex-direction: column;align-items: center;background-color: white;padding-right: 0.2em;padding-left: 0.2em;position: relative;}#sk-container-id-1 div.sk-item {position: relative;z-index: 1;}#sk-container-id-1 div.sk-parallel {display: flex;align-items: stretch;justify-content: center;background-color: white;position: relative;}#sk-container-id-1 div.sk-item::before, #sk-container-id-1 div.sk-parallel-item::before {content: \"\";position: absolute;border-left: 1px solid gray;box-sizing: border-box;top: 0;bottom: 0;left: 50%;z-index: -1;}#sk-container-id-1 div.sk-parallel-item {display: flex;flex-direction: column;z-index: 1;position: relative;background-color: white;}#sk-container-id-1 div.sk-parallel-item:first-child::after {align-self: flex-end;width: 50%;}#sk-container-id-1 div.sk-parallel-item:last-child::after {align-self: flex-start;width: 50%;}#sk-container-id-1 div.sk-parallel-item:only-child::after {width: 0;}#sk-container-id-1 div.sk-dashed-wrapped {border: 1px dashed gray;margin: 0 0.4em 0.5em 0.4em;box-sizing: border-box;padding-bottom: 0.4em;background-color: white;}#sk-container-id-1 div.sk-label label {font-family: monospace;font-weight: bold;display: inline-block;line-height: 1.2em;}#sk-container-id-1 div.sk-label-container {text-align: center;}#sk-container-id-1 div.sk-container {/* jupyter's `normalize.less` sets `[hidden] { display: none; }` but bootstrap.min.css set `[hidden] { display: none !important; }` so we also need the `!important` here to be able to override the default hidden behavior on the sphinx rendered scikit-learn.org. See: https://github.com/scikit-learn/scikit-learn/issues/21755 */display: inline-block !important;position: relative;}#sk-container-id-1 div.sk-text-repr-fallback {display: none;}</style><div id=\"sk-container-id-1\" class=\"sk-top-container\"><div class=\"sk-text-repr-fallback\"><pre>LogisticRegression(C=0.1)</pre><b>In a Jupyter environment, please rerun this cell to show the HTML representation or trust the notebook. <br />On GitHub, the HTML representation is unable to render, please try loading this page with nbviewer.org.</b></div><div class=\"sk-container\" hidden><div class=\"sk-item\"><div class=\"sk-estimator sk-toggleable\"><input class=\"sk-toggleable__control sk-hidden--visually\" id=\"sk-estimator-id-1\" type=\"checkbox\" checked><label for=\"sk-estimator-id-1\" class=\"sk-toggleable__label sk-toggleable__label-arrow\">LogisticRegression</label><div class=\"sk-toggleable__content\"><pre>LogisticRegression(C=0.1)</pre></div></div></div></div></div>"
            ]
          },
          "metadata": {},
          "execution_count": 42
        }
      ]
    },
    {
      "cell_type": "code",
      "source": [
        "from sklearn.metrics import confusion_matrix\n",
        "\n",
        "# Logistic Regression fitted using SMOTE technique\n",
        "y_pred_log_reg = log_reg_sm.predict(X_test)\n",
        "log_reg_cf1 = confusion_matrix(y_test, y_pred_log_reg)\n",
        "plt.figure(figsize=(5,3))\n",
        "\n",
        "\n",
        "sns.heatmap(log_reg_cf1, annot=True, cmap=plt.cm.copper)\n",
        "plt.title(\"Logistic Regression Confusion Matrix(SMOTE)\", fontsize=8)\n",
        "plt.show()"
      ],
      "metadata": {
        "colab": {
          "base_uri": "https://localhost:8080/"
        },
        "id": "okeAhYwTvQBV",
        "outputId": "92bbf305-f065-481c-825b-07533eb1f8b8"
      },
      "execution_count": null,
      "outputs": [
        {
          "output_type": "display_data",
          "data": {
            "text/plain": [
              "<Figure size 500x300 with 2 Axes>"
            ],
            "image/png": "[encoded data removed]"
          },
          "metadata": {}
        }
      ]
    },
    {
      "cell_type": "code",
      "source": [
        "from sklearn.metrics import classification_report\n",
        "\n",
        "\n",
        "print('Logistic Regression:')\n",
        "print(classification_report(y_test, y_pred_log_reg))"
      ],
      "metadata": {
        "colab": {
          "base_uri": "https://localhost:8080/"
        },
        "id": "sqO8Sqkfv4E8",
        "outputId": "363e99b1-cbc7-47b6-90a6-6691fd23362b"
      },
      "execution_count": null,
      "outputs": [
        {
          "output_type": "stream",
          "name": "stdout",
          "text": [
            "Logistic Regression:\n",
            "              precision    recall  f1-score   support\n",
            "\n",
            "           0       0.87      0.98      0.92        87\n",
            "           1       0.98      0.88      0.93       110\n",
            "\n",
            "    accuracy                           0.92       197\n",
            "   macro avg       0.92      0.93      0.92       197\n",
            "weighted avg       0.93      0.92      0.92       197\n",
            "\n"
          ]
        }
      ]
    },
    {
      "cell_type": "code",
      "source": [
        "from sklearn.metrics import accuracy_score\n",
        "\n",
        "# Logistic Regression with Under-Sampling\n",
        "y_pred = log_reg.predict(X_test)\n",
        "undersample_score = accuracy_score(y_test, y_pred)\n",
        "\n",
        "# Logistic Regression with SMOTE Technique (Better accuracy with SMOTE t)\n",
        "y_pred_sm = best_est.predict(original_Xtest)\n",
        "oversample_score = accuracy_score(original_ytest, y_pred_sm)\n",
        "print(\"Score for Logistic Regression with Under-Sampling\")\n",
        "print(undersample_score)\n",
        "print(\"Score for Logistic Regression with SMOTE Technique\")\n",
        "print(oversample_score)"
      ],
      "metadata": {
        "colab": {
          "base_uri": "https://localhost:8080/"
        },
        "id": "5VdddTbDGAVr",
        "outputId": "2444d8ac-f364-4076-c99b-a44bf8c9caaa"
      },
      "execution_count": null,
      "outputs": [
        {
          "output_type": "stream",
          "name": "stdout",
          "text": [
            "Score for Logistic Regression with Under-Sampling\n",
            "0.9238578680203046\n",
            "Score for Logistic Regression with SMOTE Technique\n",
            "0.998700865504468\n"
          ]
        }
      ]
    },
    {
      "cell_type": "markdown",
      "source": [
        "## Decision Tree"
      ],
      "metadata": {
        "id": "gErRKJAKrN7l"
      }
    },
    {
      "cell_type": "code",
      "source": [
        "classifiers = {\n",
        "    \"DecisionTreeClassifier\": DecisionTreeClassifier()\n",
        "}"
      ],
      "metadata": {
        "id": "qO2JJ_vLrQlM"
      },
      "execution_count": null,
      "outputs": []
    },
    {
      "cell_type": "code",
      "source": [
        "from sklearn.model_selection import cross_val_score\n",
        "\n",
        "\n",
        "for key, classifier in classifiers.items():\n",
        "    classifier.fit(X_train, y_train)\n",
        "    training_score = cross_val_score(classifier, X_train, y_train, cv=5)\n",
        "    print(\"Classifiers: \", classifier.__class__.__name__, \"Has a training score of\", round(training_score.mean(), 2) * 100, \"% accuracy score\")"
      ],
      "metadata": {
        "colab": {
          "base_uri": "https://localhost:8080/"
        },
        "id": "vz-JhbhMrbmZ",
        "outputId": "9473b3da-c228-4e54-d47c-93d1abef777d"
      },
      "execution_count": null,
      "outputs": [
        {
          "output_type": "stream",
          "name": "stdout",
          "text": [
            "Classifiers:  DecisionTreeClassifier Has a training score of 90.0 % accuracy score\n"
          ]
        }
      ]
    },
    {
      "cell_type": "code",
      "source": [
        "from sklearn.linear_model import LogisticRegression\n",
        "from sklearn.model_selection import GridSearchCV\n",
        "\n",
        "tree_params = {\"criterion\": [\"gini\", \"entropy\"], \"max_depth\": list(range(2,4,1)), \n",
        "              \"min_samples_leaf\": list(range(5,7,1))}\n",
        "grid_tree = GridSearchCV(DecisionTreeClassifier(), param_grid=tree_params, cv=5)\n",
        "grid_tree.fit(X_train, y_train)\n",
        "\n",
        "# Print the best hyperparameters and the corresponding logistic regression model\n",
        "bp1=grid_tree.best_params_\n",
        "tree_clf=grid_tree.best_estimator_\n",
        "print(\"Best hyperparameters: \", bp1)\n",
        "print(\"Best Decision tree model: \", tree_clf)"
      ],
      "metadata": {
        "colab": {
          "base_uri": "https://localhost:8080/"
        },
        "id": "WnioROUfLTrO",
        "outputId": "1cb8fbbd-7629-41ef-92fe-2571b0b36adb"
      },
      "execution_count": null,
      "outputs": [
        {
          "output_type": "stream",
          "name": "stdout",
          "text": [
            "Best hyperparameters:  {'criterion': 'gini', 'max_depth': 3, 'min_samples_leaf': 5}\n",
            "Best Decision tree model:  DecisionTreeClassifier(max_depth=3, min_samples_leaf=5)\n"
          ]
        }
      ]
    },
    {
      "cell_type": "code",
      "source": [
        "# Overfitting Case\n",
        "\n",
        "tree_score = cross_val_score(tree_clf, X_train, y_train, cv=5)\n",
        "ts0=tree_score.mean()\n",
        "ts1=ts0 * 100\n",
        "print('DecisionTree Classifier Cross Validation Score', round(ts1, 2).astype(str) + '%')"
      ],
      "metadata": {
        "colab": {
          "base_uri": "https://localhost:8080/"
        },
        "id": "Z1TzUPF9rtOm",
        "outputId": "501805b4-e68f-42aa-d160-09e4d46cd1d2"
      },
      "execution_count": null,
      "outputs": [
        {
          "output_type": "stream",
          "name": "stdout",
          "text": [
            "DecisionTree Classifier Cross Validation Score 92.63%\n"
          ]
        }
      ]
    },
    {
      "cell_type": "code",
      "source": [
        "# Let's Plot Decisiontree Learning Curve\n",
        "from sklearn.model_selection import ShuffleSplit\n",
        "from sklearn.model_selection import learning_curve\n",
        "\n",
        "def plot_learning_curve( estimator4, X, y, ylim=None, cv=None,\n",
        "                        n_jobs=1, train_sizes=np.linspace(.1, 1.0, 5)):\n",
        "    f, (ax4) = plt.subplots(1,1, figsize=(6,4), sharey=True)\n",
        "    if ylim is not None:\n",
        "        plt.ylim(*ylim)\n",
        "    \n",
        "    train_sizes, train_scores, test_scores = learning_curve(\n",
        "        estimator4, X, y, cv=cv, n_jobs=n_jobs, train_sizes=train_sizes)\n",
        "    train_scores_mean = np.mean(train_scores, axis=1)\n",
        "    train_scores_std = np.std(train_scores, axis=1)\n",
        "    test_scores_mean = np.mean(test_scores, axis=1)\n",
        "    test_scores_std = np.std(test_scores, axis=1)\n",
        "    t1=train_scores_mean - train_scores_std\n",
        "    t2=train_scores_mean + train_scores_std\n",
        "    ax4.fill_between(train_sizes, t1, t2, alpha=0.1,color=\"#ff9124\")\n",
        "              \n",
        "    t3= test_scores_mean - test_scores_std\n",
        "    t4= test_scores_mean + test_scores_std                \n",
        "    ax4.fill_between(train_sizes, t3,t4, alpha=0.1, color=\"#2492ff\")\n",
        "                     \n",
        "    ax4.plot(train_sizes, train_scores_mean, 'o-', color=\"#ff9124\",\n",
        "             label=\"Training score\")\n",
        "    ax4.plot(train_sizes, test_scores_mean, 'o-', color=\"#2492ff\",\n",
        "             label=\"Cross-validation score\")\n",
        "    ax4.set_title(\"Decision Tree Classifier Learning Curve\", fontsize=10)\n",
        "    ax4.set_xlabel('Training size (m)')\n",
        "    ax4.set_ylabel('Score')\n",
        "    ax4.grid(True)\n",
        "    ax4.legend(loc=\"best\")\n",
        "    return plt"
      ],
      "metadata": {
        "id": "1mUXgzS3r3Ub"
      },
      "execution_count": null,
      "outputs": []
    },
    {
      "cell_type": "code",
      "source": [
        "cv = ShuffleSplit(n_splits=100, test_size=0.2, random_state=42)\n",
        "plot_learning_curve(tree_clf, X_train, y_train, (0.87, 1.01), cv=cv, n_jobs=4)"
      ],
      "metadata": {
        "colab": {
          "base_uri": "https://localhost:8080/"
        },
        "id": "iEZBzUdtsLRt",
        "outputId": "dd1aadc3-6a34-44c5-aed3-4cb1b8d39541"
      },
      "execution_count": null,
      "outputs": [
        {
          "output_type": "execute_result",
          "data": {
            "text/plain": [
              "<module 'matplotlib.pyplot' from '/usr/local/lib/python3.9/dist-packages/matplotlib/pyplot.py'>"
            ]
          },
          "metadata": {},
          "execution_count": 51
        },
        {
          "output_type": "display_data",
          "data": {
            "text/plain": [
              "<Figure size 600x400 with 1 Axes>"
            ],
            "image/png": "[encoded data removed]"
          },
          "metadata": {}
        }
      ]
    },
    {
      "cell_type": "code",
      "source": [
        "from sklearn.metrics import roc_curve\n",
        "from sklearn.model_selection import cross_val_predict\n",
        "\n",
        "tree_pred = cross_val_predict(tree_clf, X_train, y_train, cv=5)"
      ],
      "metadata": {
        "id": "RZ1Z32stsXZc"
      },
      "execution_count": null,
      "outputs": []
    },
    {
      "cell_type": "code",
      "source": [
        "from sklearn.metrics import roc_auc_score\n",
        "\n",
        "roc_auc_dt=roc_auc_score(y_train, tree_pred)\n",
        "print('ROC AUC Score for Decision Tree Classifier: ', roc_auc_dt)"
      ],
      "metadata": {
        "colab": {
          "base_uri": "https://localhost:8080/"
        },
        "id": "RoM-UOPxsfMn",
        "outputId": "c7b1b464-9846-4562-8621-f93e2108b3b5"
      },
      "execution_count": null,
      "outputs": [
        {
          "output_type": "stream",
          "name": "stdout",
          "text": [
            "ROC AUC Score for Decision Tree Classifier:  0.925496089457695\n"
          ]
        }
      ]
    },
    {
      "cell_type": "code",
      "source": [
        "tree_fpr, tree_tpr, tree_threshold = roc_curve(y_train, tree_pred)"
      ],
      "metadata": {
        "id": "32YQ5ibtskEw"
      },
      "execution_count": null,
      "outputs": []
    },
    {
      "cell_type": "code",
      "source": [
        "def dt_roc_curve(log_fpr, log_tpr):\n",
        "    fig, ax = plt.subplots(figsize=(5,3))\n",
        "    ax.set_title('Decision tree ROC Curve', fontsize=10)\n",
        "    ax.plot(log_fpr, log_tpr, 'b-', linewidth=2)\n",
        "    ax.plot([0, 1], [0, 1], 'r--')\n",
        "    ax.set_xlabel('False Positive Rate', fontsize=10)\n",
        "    ax.set_ylabel('True Positive Rate', fontsize=10)\n",
        "    ax.set_xlim([-0.01, 1])\n",
        "    ax.set_ylim([0, 1])\n",
        "    plt.show()\n",
        "\n",
        "dt_roc_curve(tree_fpr, tree_tpr)"
      ],
      "metadata": {
        "colab": {
          "base_uri": "https://localhost:8080/"
        },
        "id": "6m04V6xlsnDa",
        "outputId": "3ad333a8-3fba-4ab4-f0cc-ba1f70e772cc"
      },
      "execution_count": null,
      "outputs": [
        {
          "output_type": "display_data",
          "data": {
            "text/plain": [
              "<Figure size 500x300 with 1 Axes>"
            ],
            "image/png": "[encoded data removed]"
          },
          "metadata": {}
        }
      ]
    },
    {
      "cell_type": "code",
      "source": [
        "from sklearn.metrics import confusion_matrix\n",
        "\n",
        "\n",
        "tree_clf = grid_tree.best_estimator_\n",
        "tree_clf.fit(X_train, y_train)\n",
        "y_pred_tree = tree_clf.predict(X_test)\n",
        "tree_cf = confusion_matrix(y_test, y_pred_tree)\n",
        "\n",
        "plt.figure(figsize=(5,3))\n",
        "sns.heatmap(tree_cf, annot=True, cmap=plt.cm.copper)\n",
        "plt.title(\"Decision Tree Confusion Matrix\", fontsize=10)\n",
        "plt.show()"
      ],
      "metadata": {
        "colab": {
          "base_uri": "https://localhost:8080/"
        },
        "id": "SZJ1vVnAGwUY",
        "outputId": "c32ca884-8def-4895-fa7b-ff8b56f3d209"
      },
      "execution_count": null,
      "outputs": [
        {
          "output_type": "display_data",
          "data": {
            "text/plain": [
              "<Figure size 500x300 with 2 Axes>"
            ],
            "image/png": "[encoded data removed]"
          },
          "metadata": {}
        }
      ]
    },
    {
      "cell_type": "code",
      "source": [
        "from sklearn.metrics import recall_score, precision_score, f1_score, accuracy_score\n",
        "y_pred_dt = tree_clf.predict(X_train)\n",
        "\n",
        "rl=recall_score(y_train, y_pred_dt)\n",
        "f1s=f1_score(y_train, y_pred_dt)\n",
        "acs=accuracy_score(y_train, y_pred_dt)\n",
        "\n",
        "print('Recall Score: {:.2f}'.format(rl))\n",
        "print('F1 Score for Decision tree: {:.2f}'.format(f1s))\n",
        "print('Accuracy Score: {:.2f}'.format(acs))"
      ],
      "metadata": {
        "colab": {
          "base_uri": "https://localhost:8080/"
        },
        "id": "_qJunl_dIM1v",
        "outputId": "ba54be72-4110-4d75-952f-e384bf94df66"
      },
      "execution_count": null,
      "outputs": [
        {
          "output_type": "stream",
          "name": "stdout",
          "text": [
            "Recall Score: 0.93\n",
            "F1 Score for Decision tree: 0.95\n",
            "Accuracy Score: 0.95\n"
          ]
        }
      ]
    },
    {
      "cell_type": "markdown",
      "source": [
        "## Random Forest Classifier"
      ],
      "metadata": {
        "id": "rdZfZu0Bn2Y0"
      }
    },
    {
      "cell_type": "code",
      "source": [
        "RFC_METRIC = 'gini'  #metric used for RandomForrestClassifier\n",
        "NUM_ESTIMATORS = 100 #number of estimators used for RandomForrestClassifier\n",
        "NO_JOBS = 4 #number of parallel jobs used for RandomForrestClassifier\n",
        "\n",
        "clf = RandomForestClassifier(n_jobs=NO_JOBS, \n",
        "                             random_state=RANDOM_STATE,\n",
        "                             criterion=RFC_METRIC,\n",
        "                             n_estimators=NUM_ESTIMATORS,\n",
        "                             verbose=False)"
      ],
      "metadata": {
        "id": "ySjYKE7sn8vD"
      },
      "execution_count": null,
      "outputs": []
    },
    {
      "cell_type": "code",
      "source": [
        "# Train the RandonForestClassifier using the train_df data and fit function.\n",
        "\n",
        "clf.fit(train_df[predictors], train_df[target].values)\n"
      ],
      "metadata": {
        "id": "bCmrYuAgoa2S",
        "colab": {
          "base_uri": "https://localhost:8080/",
          "height": 74
        },
        "outputId": "3b64d7f0-ae93-41bb-9a6b-45f229e1457a"
      },
      "execution_count": null,
      "outputs": [
        {
          "output_type": "execute_result",
          "data": {
            "text/plain": [
              "RandomForestClassifier(n_jobs=4, random_state=2023, verbose=False)"
            ],
            "text/html": [
              "<style>#sk-container-id-2 {color: black;background-color: white;}#sk-container-id-2 pre{padding: 0;}#sk-container-id-2 div.sk-toggleable {background-color: white;}#sk-container-id-2 label.sk-toggleable__label {cursor: pointer;display: block;width: 100%;margin-bottom: 0;padding: 0.3em;box-sizing: border-box;text-align: center;}#sk-container-id-2 label.sk-toggleable__label-arrow:before {content: \"▸\";float: left;margin-right: 0.25em;color: #696969;}#sk-container-id-2 label.sk-toggleable__label-arrow:hover:before {color: black;}#sk-container-id-2 div.sk-estimator:hover label.sk-toggleable__label-arrow:before {color: black;}#sk-container-id-2 div.sk-toggleable__content {max-height: 0;max-width: 0;overflow: hidden;text-align: left;background-color: #f0f8ff;}#sk-container-id-2 div.sk-toggleable__content pre {margin: 0.2em;color: black;border-radius: 0.25em;background-color: #f0f8ff;}#sk-container-id-2 input.sk-toggleable__control:checked~div.sk-toggleable__content {max-height: 200px;max-width: 100%;overflow: auto;}#sk-container-id-2 input.sk-toggleable__control:checked~label.sk-toggleable__label-arrow:before {content: \"▾\";}#sk-container-id-2 div.sk-estimator input.sk-toggleable__control:checked~label.sk-toggleable__label {background-color: #d4ebff;}#sk-container-id-2 div.sk-label input.sk-toggleable__control:checked~label.sk-toggleable__label {background-color: #d4ebff;}#sk-container-id-2 input.sk-hidden--visually {border: 0;clip: rect(1px 1px 1px 1px);clip: rect(1px, 1px, 1px, 1px);height: 1px;margin: -1px;overflow: hidden;padding: 0;position: absolute;width: 1px;}#sk-container-id-2 div.sk-estimator {font-family: monospace;background-color: #f0f8ff;border: 1px dotted black;border-radius: 0.25em;box-sizing: border-box;margin-bottom: 0.5em;}#sk-container-id-2 div.sk-estimator:hover {background-color: #d4ebff;}#sk-container-id-2 div.sk-parallel-item::after {content: \"\";width: 100%;border-bottom: 1px solid gray;flex-grow: 1;}#sk-container-id-2 div.sk-label:hover label.sk-toggleable__label {background-color: #d4ebff;}#sk-container-id-2 div.sk-serial::before {content: \"\";position: absolute;border-left: 1px solid gray;box-sizing: border-box;top: 0;bottom: 0;left: 50%;z-index: 0;}#sk-container-id-2 div.sk-serial {display: flex;flex-direction: column;align-items: center;background-color: white;padding-right: 0.2em;padding-left: 0.2em;position: relative;}#sk-container-id-2 div.sk-item {position: relative;z-index: 1;}#sk-container-id-2 div.sk-parallel {display: flex;align-items: stretch;justify-content: center;background-color: white;position: relative;}#sk-container-id-2 div.sk-item::before, #sk-container-id-2 div.sk-parallel-item::before {content: \"\";position: absolute;border-left: 1px solid gray;box-sizing: border-box;top: 0;bottom: 0;left: 50%;z-index: -1;}#sk-container-id-2 div.sk-parallel-item {display: flex;flex-direction: column;z-index: 1;position: relative;background-color: white;}#sk-container-id-2 div.sk-parallel-item:first-child::after {align-self: flex-end;width: 50%;}#sk-container-id-2 div.sk-parallel-item:last-child::after {align-self: flex-start;width: 50%;}#sk-container-id-2 div.sk-parallel-item:only-child::after {width: 0;}#sk-container-id-2 div.sk-dashed-wrapped {border: 1px dashed gray;margin: 0 0.4em 0.5em 0.4em;box-sizing: border-box;padding-bottom: 0.4em;background-color: white;}#sk-container-id-2 div.sk-label label {font-family: monospace;font-weight: bold;display: inline-block;line-height: 1.2em;}#sk-container-id-2 div.sk-label-container {text-align: center;}#sk-container-id-2 div.sk-container {/* jupyter's `normalize.less` sets `[hidden] { display: none; }` but bootstrap.min.css set `[hidden] { display: none !important; }` so we also need the `!important` here to be able to override the default hidden behavior on the sphinx rendered scikit-learn.org. See: https://github.com/scikit-learn/scikit-learn/issues/21755 */display: inline-block !important;position: relative;}#sk-container-id-2 div.sk-text-repr-fallback {display: none;}</style><div id=\"sk-container-id-2\" class=\"sk-top-container\"><div class=\"sk-text-repr-fallback\"><pre>RandomForestClassifier(n_jobs=4, random_state=2023, verbose=False)</pre><b>In a Jupyter environment, please rerun this cell to show the HTML representation or trust the notebook. <br />On GitHub, the HTML representation is unable to render, please try loading this page with nbviewer.org.</b></div><div class=\"sk-container\" hidden><div class=\"sk-item\"><div class=\"sk-estimator sk-toggleable\"><input class=\"sk-toggleable__control sk-hidden--visually\" id=\"sk-estimator-id-2\" type=\"checkbox\" checked><label for=\"sk-estimator-id-2\" class=\"sk-toggleable__label sk-toggleable__label-arrow\">RandomForestClassifier</label><div class=\"sk-toggleable__content\"><pre>RandomForestClassifier(n_jobs=4, random_state=2023, verbose=False)</pre></div></div></div></div></div>"
            ]
          },
          "metadata": {},
          "execution_count": 59
        }
      ]
    },
    {
      "cell_type": "code",
      "source": [
        "#predict the target values for the valid_df data, using predict function.\n",
        "\n",
        "preds = clf.predict(valid_df[predictors])"
      ],
      "metadata": {
        "id": "Z4jwFkHkunEY"
      },
      "execution_count": null,
      "outputs": []
    },
    {
      "cell_type": "code",
      "source": [
        "# Create a DataFrame with the feature importances of a classifier\n",
        "feature_importances = pd.DataFrame({'Feature': predictors, 'Feature importance': clf.feature_importances_})\n",
        "\n",
        "# Sort the features by their importance in descending order\n",
        "feature_importances = feature_importances.sort_values(by='Feature importance', ascending=False)\n",
        "\n",
        "# Create a bar plot to visualize the feature importances\n",
        "plt.figure(figsize=(7, 4))\n",
        "plt.title('Feature Importances', fontsize=14)\n",
        "sns.barplot(x='Feature', y='Feature importance', data=feature_importances)\n",
        "plt.xticks(rotation=90)\n",
        "plt.show()\n"
      ],
      "metadata": {
        "id": "IrSdy_OundfE",
        "colab": {
          "base_uri": "https://localhost:8080/",
          "height": 452
        },
        "outputId": "182f04b4-5c2d-48eb-cb8f-284531861e1f"
      },
      "execution_count": null,
      "outputs": [
        {
          "output_type": "display_data",
          "data": {
            "text/plain": [
              "<Figure size 700x400 with 1 Axes>"
            ],
            "image/png": "[encoded data removed]"
          },
          "metadata": {}
        }
      ]
    },
    {
      "cell_type": "markdown",
      "source": [
        "The most important features are **V17, V16, V14, V12, V11, V10.**"
      ],
      "metadata": {
        "id": "Nz4rfffPuG5S"
      }
    },
    {
      "cell_type": "markdown",
      "source": [
        "---"
      ],
      "metadata": {
        "id": "ki1PSC752f5g"
      }
    },
    {
      "cell_type": "markdown",
      "source": [
        ">Confusion Matrix"
      ],
      "metadata": {
        "id": "MGtGbIOwuZwp"
      }
    },
    {
      "cell_type": "code",
      "source": [
        "cm = pd.crosstab(valid_df[target].values, preds, rownames=['Actual'], colnames=['Predicted'])\n",
        "fig, (ax1) = plt.subplots(ncols=1, figsize=(4,4))\n",
        "sns.heatmap(cm, \n",
        "            xticklabels=['Not Fraud', 'Fraud'],\n",
        "            yticklabels=['Not Fraud', 'Fraud'],\n",
        "            annot=True,ax=ax1,\n",
        "            linewidths=.2,linecolor=\"Darkblue\", cmap=\"Blues\")\n",
        "plt.title('Confusion Matrix', fontsize=11)\n",
        "plt.show()"
      ],
      "metadata": {
        "id": "NCNPlQzHuU8n",
        "colab": {
          "base_uri": "https://localhost:8080/",
          "height": 408
        },
        "outputId": "14b3101d-98bc-44c0-87d9-3b1829ac9402"
      },
      "execution_count": null,
      "outputs": [
        {
          "output_type": "display_data",
          "data": {
            "text/plain": [
              "<Figure size 400x400 with 2 Axes>"
            ],
            "image/png": "[encoded data removed]"
          },
          "metadata": {}
        }
      ]
    },
    {
      "cell_type": "markdown",
      "source": [
        "---"
      ],
      "metadata": {
        "id": "qc44wZdm2esY"
      }
    },
    {
      "cell_type": "markdown",
      "source": [
        ">F1 Score"
      ],
      "metadata": {
        "id": "CU8BAT7ju1cJ"
      }
    },
    {
      "cell_type": "code",
      "source": [
        "f1_score(valid_df[target].values, preds)"
      ],
      "metadata": {
        "id": "h-njgZEllhro",
        "colab": {
          "base_uri": "https://localhost:8080/"
        },
        "outputId": "f91911f0-ccc3-469b-d204-0c5e0f5ecac9"
      },
      "execution_count": null,
      "outputs": [
        {
          "output_type": "execute_result",
          "data": {
            "text/plain": [
              "0.8591549295774649"
            ]
          },
          "metadata": {},
          "execution_count": 63
        }
      ]
    },
    {
      "cell_type": "markdown",
      "source": [
        "The f1_score obtained with RandomForrestClassifier is \"0.859\"."
      ],
      "metadata": {
        "id": "cCAS2qf5TVmo"
      }
    },
    {
      "cell_type": "markdown",
      "source": [
        ">Area Under Curve"
      ],
      "metadata": {
        "id": "883XCrMilqdg"
      }
    },
    {
      "cell_type": "code",
      "source": [
        "#Let's calculate the ROC-AUC score\n",
        "\n",
        "roc_auc_score(valid_df[target].values, preds)"
      ],
      "metadata": {
        "id": "U7vFw0gRu8gR",
        "colab": {
          "base_uri": "https://localhost:8080/"
        },
        "outputId": "5d18c1fc-bbf5-415f-eefb-7a4b63e38fca"
      },
      "execution_count": null,
      "outputs": [
        {
          "output_type": "execute_result",
          "data": {
            "text/plain": [
              "0.8909926674704323"
            ]
          },
          "metadata": {},
          "execution_count": 64
        }
      ]
    },
    {
      "cell_type": "markdown",
      "source": [
        "The **ROC-AUC** score obtained with **RandomForrestClassifier** is \"**0.89**\"."
      ],
      "metadata": {
        "id": "03uK0ClVvHHg"
      }
    },
    {
      "cell_type": "markdown",
      "source": [
        "---"
      ],
      "metadata": {
        "id": "QR9tost517UY"
      }
    },
    {
      "cell_type": "markdown",
      "source": [
        "## AdaBoost Classifier"
      ],
      "metadata": {
        "id": "7KAr2B4gvLhp"
      }
    },
    {
      "cell_type": "code",
      "source": [
        "clf = AdaBoostClassifier(random_state=RANDOM_STATE,\n",
        "                         algorithm='SAMME.R',\n",
        "                         learning_rate=0.8,\n",
        "                             n_estimators=NUM_ESTIMATORS)"
      ],
      "metadata": {
        "id": "Qtq-FiD6vaCy"
      },
      "execution_count": null,
      "outputs": []
    },
    {
      "cell_type": "code",
      "source": [
        "# Train the AdaBoost Classifier using the train_df data and fit function.\n",
        "\n",
        "clf.fit(train_df[predictors], train_df[target].values)"
      ],
      "metadata": {
        "colab": {
          "base_uri": "https://localhost:8080/"
        },
        "id": "S4MeyaM0vk6l",
        "outputId": "6858c3bf-d5ab-48d8-aeeb-ca39526c6b91"
      },
      "execution_count": null,
      "outputs": [
        {
          "output_type": "execute_result",
          "data": {
            "text/plain": [
              "AdaBoostClassifier(learning_rate=0.8, n_estimators=100, random_state=2023)"
            ],
            "text/html": [
              "<style>#sk-container-id-3 {color: black;background-color: white;}#sk-container-id-3 pre{padding: 0;}#sk-container-id-3 div.sk-toggleable {background-color: white;}#sk-container-id-3 label.sk-toggleable__label {cursor: pointer;display: block;width: 100%;margin-bottom: 0;padding: 0.3em;box-sizing: border-box;text-align: center;}#sk-container-id-3 label.sk-toggleable__label-arrow:before {content: \"▸\";float: left;margin-right: 0.25em;color: #696969;}#sk-container-id-3 label.sk-toggleable__label-arrow:hover:before {color: black;}#sk-container-id-3 div.sk-estimator:hover label.sk-toggleable__label-arrow:before {color: black;}#sk-container-id-3 div.sk-toggleable__content {max-height: 0;max-width: 0;overflow: hidden;text-align: left;background-color: #f0f8ff;}#sk-container-id-3 div.sk-toggleable__content pre {margin: 0.2em;color: black;border-radius: 0.25em;background-color: #f0f8ff;}#sk-container-id-3 input.sk-toggleable__control:checked~div.sk-toggleable__content {max-height: 200px;max-width: 100%;overflow: auto;}#sk-container-id-3 input.sk-toggleable__control:checked~label.sk-toggleable__label-arrow:before {content: \"▾\";}#sk-container-id-3 div.sk-estimator input.sk-toggleable__control:checked~label.sk-toggleable__label {background-color: #d4ebff;}#sk-container-id-3 div.sk-label input.sk-toggleable__control:checked~label.sk-toggleable__label {background-color: #d4ebff;}#sk-container-id-3 input.sk-hidden--visually {border: 0;clip: rect(1px 1px 1px 1px);clip: rect(1px, 1px, 1px, 1px);height: 1px;margin: -1px;overflow: hidden;padding: 0;position: absolute;width: 1px;}#sk-container-id-3 div.sk-estimator {font-family: monospace;background-color: #f0f8ff;border: 1px dotted black;border-radius: 0.25em;box-sizing: border-box;margin-bottom: 0.5em;}#sk-container-id-3 div.sk-estimator:hover {background-color: #d4ebff;}#sk-container-id-3 div.sk-parallel-item::after {content: \"\";width: 100%;border-bottom: 1px solid gray;flex-grow: 1;}#sk-container-id-3 div.sk-label:hover label.sk-toggleable__label {background-color: #d4ebff;}#sk-container-id-3 div.sk-serial::before {content: \"\";position: absolute;border-left: 1px solid gray;box-sizing: border-box;top: 0;bottom: 0;left: 50%;z-index: 0;}#sk-container-id-3 div.sk-serial {display: flex;flex-direction: column;align-items: center;background-color: white;padding-right: 0.2em;padding-left: 0.2em;position: relative;}#sk-container-id-3 div.sk-item {position: relative;z-index: 1;}#sk-container-id-3 div.sk-parallel {display: flex;align-items: stretch;justify-content: center;background-color: white;position: relative;}#sk-container-id-3 div.sk-item::before, #sk-container-id-3 div.sk-parallel-item::before {content: \"\";position: absolute;border-left: 1px solid gray;box-sizing: border-box;top: 0;bottom: 0;left: 50%;z-index: -1;}#sk-container-id-3 div.sk-parallel-item {display: flex;flex-direction: column;z-index: 1;position: relative;background-color: white;}#sk-container-id-3 div.sk-parallel-item:first-child::after {align-self: flex-end;width: 50%;}#sk-container-id-3 div.sk-parallel-item:last-child::after {align-self: flex-start;width: 50%;}#sk-container-id-3 div.sk-parallel-item:only-child::after {width: 0;}#sk-container-id-3 div.sk-dashed-wrapped {border: 1px dashed gray;margin: 0 0.4em 0.5em 0.4em;box-sizing: border-box;padding-bottom: 0.4em;background-color: white;}#sk-container-id-3 div.sk-label label {font-family: monospace;font-weight: bold;display: inline-block;line-height: 1.2em;}#sk-container-id-3 div.sk-label-container {text-align: center;}#sk-container-id-3 div.sk-container {/* jupyter's `normalize.less` sets `[hidden] { display: none; }` but bootstrap.min.css set `[hidden] { display: none !important; }` so we also need the `!important` here to be able to override the default hidden behavior on the sphinx rendered scikit-learn.org. See: https://github.com/scikit-learn/scikit-learn/issues/21755 */display: inline-block !important;position: relative;}#sk-container-id-3 div.sk-text-repr-fallback {display: none;}</style><div id=\"sk-container-id-3\" class=\"sk-top-container\"><div class=\"sk-text-repr-fallback\"><pre>AdaBoostClassifier(learning_rate=0.8, n_estimators=100, random_state=2023)</pre><b>In a Jupyter environment, please rerun this cell to show the HTML representation or trust the notebook. <br />On GitHub, the HTML representation is unable to render, please try loading this page with nbviewer.org.</b></div><div class=\"sk-container\" hidden><div class=\"sk-item\"><div class=\"sk-estimator sk-toggleable\"><input class=\"sk-toggleable__control sk-hidden--visually\" id=\"sk-estimator-id-3\" type=\"checkbox\" checked><label for=\"sk-estimator-id-3\" class=\"sk-toggleable__label sk-toggleable__label-arrow\">AdaBoostClassifier</label><div class=\"sk-toggleable__content\"><pre>AdaBoostClassifier(learning_rate=0.8, n_estimators=100, random_state=2023)</pre></div></div></div></div></div>"
            ]
          },
          "metadata": {},
          "execution_count": 66
        }
      ]
    },
    {
      "cell_type": "code",
      "source": [
        "#predict the target values for the valid_df data, using predict function.\n",
        "\n",
        "preds = clf.predict(valid_df[predictors])"
      ],
      "metadata": {
        "id": "vPtuESF6vvg-"
      },
      "execution_count": null,
      "outputs": []
    },
    {
      "cell_type": "code",
      "source": [
        "import pandas as pd\n",
        "import seaborn as sns\n",
        "import matplotlib.pyplot as plt\n",
        "\n",
        "# create a DataFrame to store the feature importances\n",
        "df = pd.DataFrame({'Feature': predictors, 'Importance': clf.feature_importances_})\n",
        "\n",
        "# sort the DataFrame by feature importance in descending order\n",
        "df = df.sort_values(by='Importance', ascending=False)\n",
        "\n",
        "# create a bar plot of the feature importances\n",
        "plt.figure(figsize=(7, 4))\n",
        "plt.title('Feature Importances', fontsize=14)\n",
        "sns.barplot(x='Feature', y='Importance', data=df)\n",
        "plt.xticks(rotation=90)\n",
        "plt.show()\n"
      ],
      "metadata": {
        "colab": {
          "base_uri": "https://localhost:8080/"
        },
        "id": "2wdiS4sR018Q",
        "outputId": "1884ac1c-6c65-4dc5-dd4b-5fbdf13ee7e0"
      },
      "execution_count": null,
      "outputs": [
        {
          "output_type": "display_data",
          "data": {
            "text/plain": [
              "<Figure size 700x400 with 1 Axes>"
            ],
            "image/png": "[encoded data removed]"
          },
          "metadata": {}
        }
      ]
    },
    {
      "cell_type": "markdown",
      "source": [
        ">Confusion Matrix"
      ],
      "metadata": {
        "id": "RgZb6BoSwuaB"
      }
    },
    {
      "cell_type": "code",
      "source": [
        "# Generate a confusion matrix to evaluate the performance of a model\n",
        "import pandas as pd\n",
        "import seaborn as sns\n",
        "import matplotlib.pyplot as plt\n",
        "\n",
        "# Create a cross-tabulation table of the actual target values and the predicted values\n",
        "confusion_matrix = pd.crosstab(valid_df[target].values, preds, rownames=['Actual'], colnames=['Predicted'])\n",
        "\n",
        "# Plot the confusion matrix as a heatmap\n",
        "fig, (ax1) = plt.subplots(ncols=1, figsize=(5,5))\n",
        "sns.heatmap(confusion_matrix, \n",
        "            xticklabels=['Not Fraud', 'Fraud'],\n",
        "            yticklabels=['Not Fraud', 'Fraud'],\n",
        "            annot=True, ax=ax1,\n",
        "            linewidths=.2, linecolor=\"Darkblue\", cmap=\"Blues\")\n",
        "plt.title('Confusion Matrix', fontsize=14)\n",
        "plt.show()\n"
      ],
      "metadata": {
        "colab": {
          "base_uri": "https://localhost:8080/"
        },
        "id": "SDe_Z25C1JTv",
        "outputId": "541d6230-0023-48cb-a244-8efc4ac728e1"
      },
      "execution_count": null,
      "outputs": [
        {
          "output_type": "display_data",
          "data": {
            "text/plain": [
              "<Figure size 500x500 with 2 Axes>"
            ],
            "image/png": "[encoded data removed]"
          },
          "metadata": {}
        }
      ]
    },
    {
      "cell_type": "markdown",
      "source": [
        "---"
      ],
      "metadata": {
        "id": "EANTjRnq2kAF"
      }
    },
    {
      "cell_type": "markdown",
      "source": [
        ">F1 Score"
      ],
      "metadata": {
        "id": "M1z8Ac2ymTj6"
      }
    },
    {
      "cell_type": "code",
      "source": [
        "f1_score(valid_df[target].values, preds)"
      ],
      "metadata": {
        "colab": {
          "base_uri": "https://localhost:8080/"
        },
        "id": "DTfjyX3VmXSX",
        "outputId": "7446bb2f-9159-430e-897c-93e06df9f5c5"
      },
      "execution_count": null,
      "outputs": [
        {
          "output_type": "execute_result",
          "data": {
            "text/plain": [
              "0.8258064516129032"
            ]
          },
          "metadata": {},
          "execution_count": 70
        }
      ]
    },
    {
      "cell_type": "markdown",
      "source": [
        "The f1_score obtained with AdaBoostClassifier is \"0.825\"."
      ],
      "metadata": {
        "id": "mY5ZeWnSThwo"
      }
    },
    {
      "cell_type": "markdown",
      "source": [
        ">Area Under Curve"
      ],
      "metadata": {
        "id": "k9T5E5aaxEdw"
      }
    },
    {
      "cell_type": "code",
      "source": [
        "roc_auc_score(valid_df[target].values, preds)"
      ],
      "metadata": {
        "colab": {
          "base_uri": "https://localhost:8080/"
        },
        "id": "o0Hyx1SqxKgf",
        "outputId": "b9dda81e-1adf-48dd-fe01-65bb5142a2a0"
      },
      "execution_count": null,
      "outputs": [
        {
          "output_type": "execute_result",
          "data": {
            "text/plain": [
              "0.9101135248505058"
            ]
          },
          "metadata": {},
          "execution_count": 71
        }
      ]
    },
    {
      "cell_type": "markdown",
      "source": [
        "The **ROC-AUC** score obtained with **AdaBoostClassifier** is \"**0.91**\"."
      ],
      "metadata": {
        "id": "ELXIKLDAxPPg"
      }
    },
    {
      "cell_type": "markdown",
      "source": [
        "---"
      ],
      "metadata": {
        "id": "orkI0BfZ14bz"
      }
    },
    {
      "cell_type": "markdown",
      "source": [
        "## XGBoost"
      ],
      "metadata": {
        "id": "spApl7xexj_6"
      }
    },
    {
      "cell_type": "code",
      "source": [
        "# Prepare the train and valid datasets\n",
        "dtrain = xgb.DMatrix(train_df[predictors], train_df[target].values)\n",
        "dvalid = xgb.DMatrix(valid_df[predictors], valid_df[target].values)\n",
        "dtest = xgb.DMatrix(test_df[predictors], test_df[target].values)\n",
        "\n",
        "#What to monitor (in this case, **train** and **valid**)\n",
        "watchlist = [(dtrain, 'train'), (dvalid, 'valid')]\n",
        "\n",
        "# Set xgboost parameters\n",
        "params = {}\n",
        "params['objective'] = 'binary:logistic'\n",
        "params['eta'] = 0.039\n",
        "params['silent'] = True\n",
        "params['max_depth'] = 2\n",
        "params['subsample'] = 0.8\n",
        "params['colsample_bytree'] = 0.9\n",
        "params['eval_metric'] = 'auc'\n",
        "params['random_state'] = RANDOM_STATE"
      ],
      "metadata": {
        "id": "X6pqlxe3xpMn"
      },
      "execution_count": null,
      "outputs": []
    },
    {
      "cell_type": "code",
      "source": [
        "#Train the model\n",
        "MAX_ROUNDS = 1000 #lgb iterations\n",
        "EARLY_STOP = 50 #lgb early stop \n",
        "OPT_ROUNDS = 500  #To be adjusted based on best validation rounds\n",
        "VERBOSE_EVAL = 50 #Print out metric result\n",
        "\n",
        "model = xgb.train(params, \n",
        "                dtrain, \n",
        "                MAX_ROUNDS, \n",
        "                watchlist, \n",
        "                early_stopping_rounds=EARLY_STOP, \n",
        "                maximize=True, \n",
        "                verbose_eval=VERBOSE_EVAL)"
      ],
      "metadata": {
        "colab": {
          "base_uri": "https://localhost:8080/"
        },
        "id": "817T27vo0dHH",
        "outputId": "6928b7cc-3444-45e2-d521-fa0f97d53b62"
      },
      "execution_count": null,
      "outputs": [
        {
          "output_type": "stream",
          "name": "stdout",
          "text": [
            "[15:18:51] WARNING: ../src/learner.cc:767: \n",
            "Parameters: { \"silent\" } are not used.\n",
            "\n",
            "[0]\ttrain-auc:0.86720\tvalid-auc:0.87807\n",
            "[50]\ttrain-auc:0.92562\tvalid-auc:0.94198\n",
            "[100]\ttrain-auc:0.95401\tvalid-auc:0.96502\n",
            "[150]\ttrain-auc:0.97254\tvalid-auc:0.97411\n",
            "[200]\ttrain-auc:0.98857\tvalid-auc:0.98540\n",
            "[250]\ttrain-auc:0.99262\tvalid-auc:0.98758\n",
            "[300]\ttrain-auc:0.99454\tvalid-auc:0.99038\n",
            "[350]\ttrain-auc:0.99603\tvalid-auc:0.99131\n",
            "[400]\ttrain-auc:0.99698\tvalid-auc:0.99249\n",
            "[450]\ttrain-auc:0.99786\tvalid-auc:0.99296\n",
            "[500]\ttrain-auc:0.99840\tvalid-auc:0.99338\n",
            "[550]\ttrain-auc:0.99871\tvalid-auc:0.99393\n",
            "[600]\ttrain-auc:0.99894\tvalid-auc:0.99381\n",
            "[629]\ttrain-auc:0.99909\tvalid-auc:0.99376\n"
          ]
        }
      ]
    },
    {
      "cell_type": "markdown",
      "source": [
        "The best validation score (ROC-AUC) was **0.993**\n"
      ],
      "metadata": {
        "id": "SzIehBWp2JXh"
      }
    },
    {
      "cell_type": "markdown",
      "source": [
        ">Plot Variable Importance"
      ],
      "metadata": {
        "id": "5T8nBIgY1w-f"
      }
    },
    {
      "cell_type": "code",
      "source": [
        "fig, (ax) = plt.subplots(ncols=1, figsize=(8,5))\n",
        "xgb.plot_importance(model, height=0.8, title=\"Features importance (XGBoost)\", ax=ax, color=\"green\") \n",
        "plt.show()"
      ],
      "metadata": {
        "colab": {
          "base_uri": "https://localhost:8080/",
          "height": 487
        },
        "id": "xqlRmoXr1v81",
        "outputId": "d015120e-61a6-4ac5-c32d-1d68f38a96eb"
      },
      "execution_count": null,
      "outputs": [
        {
          "output_type": "display_data",
          "data": {
            "text/plain": [
              "<Figure size 800x500 with 1 Axes>"
            ],
            "image/png": "[encoded data removed]"
          },
          "metadata": {}
        }
      ]
    },
    {
      "cell_type": "markdown",
      "source": [
        "---"
      ],
      "metadata": {
        "id": "WHo1F6js2nLL"
      }
    },
    {
      "cell_type": "markdown",
      "source": [
        ">Predict Test Set"
      ],
      "metadata": {
        "id": "zGNQNA0Z2kvH"
      }
    },
    {
      "cell_type": "code",
      "source": [
        "preds = model.predict(dtest)"
      ],
      "metadata": {
        "id": "Uh8JUO0S4IP2"
      },
      "execution_count": null,
      "outputs": []
    },
    {
      "cell_type": "markdown",
      "source": [
        "---"
      ],
      "metadata": {
        "id": "Y1uKQP7O2oJy"
      }
    },
    {
      "cell_type": "markdown",
      "source": [
        "F1-score"
      ],
      "metadata": {
        "id": "mpiCZXhKnTE7"
      }
    },
    {
      "cell_type": "markdown",
      "source": [
        ">Area Under Curve"
      ],
      "metadata": {
        "id": "wJujWDSS4MMP"
      }
    },
    {
      "cell_type": "code",
      "source": [
        "roc_auc_score(test_df[target].values, preds)"
      ],
      "metadata": {
        "colab": {
          "base_uri": "https://localhost:8080/"
        },
        "id": "_-tGbvzE4LPC",
        "outputId": "baf4bcf8-3a16-4444-9587-3dfe4e10adc4"
      },
      "execution_count": null,
      "outputs": [
        {
          "output_type": "execute_result",
          "data": {
            "text/plain": [
              "0.984362935871587"
            ]
          },
          "metadata": {},
          "execution_count": 77
        }
      ]
    },
    {
      "cell_type": "markdown",
      "source": [
        "The AUC score for the prediction of fresh data (test set) is **0.98**"
      ],
      "metadata": {
        "id": "k4hso-Ey4RuQ"
      }
    },
    {
      "cell_type": "markdown",
      "source": [
        "---"
      ],
      "metadata": {
        "id": "qEz7XLCv1z_5"
      }
    },
    {
      "cell_type": "markdown",
      "source": [
        "##Light GBM"
      ],
      "metadata": {
        "id": "7THzzXuo4aDE"
      }
    },
    {
      "cell_type": "markdown",
      "source": [
        "> Define Model Parameters"
      ],
      "metadata": {
        "id": "uoa8_9RRxY_L"
      }
    },
    {
      "cell_type": "code",
      "source": [
        "params = {\n",
        "          'boosting_type': 'gbdt',\n",
        "          'objective': 'binary',\n",
        "          'metric':'auc',\n",
        "          'learning_rate': 0.05,\n",
        "          'num_leaves': 7,  # we should let it be smaller than 2^(max_depth)\n",
        "          'max_depth': 4,  # -1 means no limit\n",
        "          'min_child_samples': 100,  # Minimum number of data need in a child(min_data_in_leaf)\n",
        "          'max_bin': 100,  # Number of bucketed bin for feature values\n",
        "          'subsample': 0.9,  # Subsample ratio of the training instance.\n",
        "          'subsample_freq': 1,  # frequence of subsample, <=0 means no enable\n",
        "          'colsample_bytree': 0.7,  # Subsample ratio of columns when constructing each tree.\n",
        "          'min_child_weight': 0,  # Minimum sum of instance weight(hessian) needed in a child(leaf)\n",
        "          'min_split_gain': 0,  # lambda_l1, lambda_l2 and min_gain_to_split to regularization\n",
        "          'nthread': 8,\n",
        "          'verbose': 0,\n",
        "          'scale_pos_weight':150, # because training data is extremely unbalanced \n",
        "         }"
      ],
      "metadata": {
        "id": "svBXB8Ys4ds1"
      },
      "execution_count": null,
      "outputs": []
    },
    {
      "cell_type": "markdown",
      "source": [
        "---"
      ],
      "metadata": {
        "id": "OTMYz7fk27Yx"
      }
    },
    {
      "cell_type": "markdown",
      "source": [
        "> Creating Train Validate Dataset"
      ],
      "metadata": {
        "id": "6U_O1AqXxK_1"
      }
    },
    {
      "cell_type": "code",
      "source": [
        "dtrain = lgb.Dataset(train_df[predictors].values, \n",
        "                     label=train_df[target].values,\n",
        "                     feature_name=predictors)\n",
        "\n",
        "dvalid = lgb.Dataset(valid_df[predictors].values,\n",
        "                     label=valid_df[target].values,\n",
        "                     feature_name=predictors)"
      ],
      "metadata": {
        "id": "QJvhR00qw5N-"
      },
      "execution_count": null,
      "outputs": []
    },
    {
      "cell_type": "markdown",
      "source": [
        "---"
      ],
      "metadata": {
        "id": "nXwjxJJr28Kc"
      }
    },
    {
      "cell_type": "markdown",
      "source": [
        "> Run the Model"
      ],
      "metadata": {
        "id": "Vu-VhwDRxjpi"
      }
    },
    {
      "cell_type": "code",
      "source": [
        "evals_results = {}\n",
        "\n",
        "#Run the model using Train Function\n",
        "\n",
        "model = lgb.train(params, \n",
        "                  dtrain, \n",
        "                  valid_sets=[dtrain, dvalid], \n",
        "                  valid_names=['train','valid'], \n",
        "                  evals_result=evals_results, \n",
        "                  num_boost_round=MAX_ROUNDS,\n",
        "                  early_stopping_rounds=2*EARLY_STOP,\n",
        "                  verbose_eval=VERBOSE_EVAL, \n",
        "                  feval=None)"
      ],
      "metadata": {
        "colab": {
          "base_uri": "https://localhost:8080/"
        },
        "id": "HHmJFghexePx",
        "outputId": "28755fbd-954a-4d85-8b17-e8b9d059cc27"
      },
      "execution_count": null,
      "outputs": [
        {
          "output_type": "stream",
          "name": "stdout",
          "text": [
            "[LightGBM] [Warning] Auto-choosing col-wise multi-threading, the overhead of testing was 0.095464 seconds.\n",
            "You can set `force_col_wise=true` to remove the overhead.\n",
            "Training until validation scores don't improve for 100 rounds\n",
            "[50]\ttrain's auc: 0.986784\tvalid's auc: 0.92025\n",
            "[100]\ttrain's auc: 0.982458\tvalid's auc: 0.906221\n",
            "Early stopping, best iteration is:\n",
            "[2]\ttrain's auc: 0.97387\tvalid's auc: 0.97051\n"
          ]
        }
      ]
    },
    {
      "cell_type": "markdown",
      "source": [
        "Best validation score was obtained for round 85, for which AUC ~= **0.97**\n",
        "\n"
      ],
      "metadata": {
        "id": "b7mNptc6x8Bh"
      }
    },
    {
      "cell_type": "markdown",
      "source": [
        "---"
      ],
      "metadata": {
        "id": "XQRNR49-3AGa"
      }
    },
    {
      "cell_type": "code",
      "source": [
        "fig, (ax) = plt.subplots(ncols=1, figsize=(8,5))\n",
        "lgb.plot_importance(model, height=0.8, title=\"Features importance (LightGBM)\", ax=ax,color=\"red\") \n",
        "plt.show()"
      ],
      "metadata": {
        "colab": {
          "base_uri": "https://localhost:8080/",
          "height": 487
        },
        "id": "u0n8FNdmyE6H",
        "outputId": "717877e3-ef75-470c-c450-55b6825e6965"
      },
      "execution_count": null,
      "outputs": [
        {
          "output_type": "display_data",
          "data": {
            "text/plain": [
              "<Figure size 800x500 with 1 Axes>"
            ],
            "image/png": "[encoded data removed]"
          },
          "metadata": {}
        }
      ]
    },
    {
      "cell_type": "markdown",
      "source": [
        "> Predict Test Data"
      ],
      "metadata": {
        "id": "ZUm04Ahyycn7"
      }
    },
    {
      "cell_type": "code",
      "source": [
        "preds = model.predict(test_df[predictors])"
      ],
      "metadata": {
        "id": "ID1BGx8AyjLh"
      },
      "execution_count": null,
      "outputs": []
    },
    {
      "cell_type": "markdown",
      "source": [
        "---"
      ],
      "metadata": {
        "id": "BIJoWUkW3Bwz"
      }
    },
    {
      "cell_type": "markdown",
      "source": [
        "> Area under curve"
      ],
      "metadata": {
        "id": "rhT7DZt_yl1B"
      }
    },
    {
      "cell_type": "code",
      "source": [
        "roc_auc_score(test_df[target].values, preds)"
      ],
      "metadata": {
        "colab": {
          "base_uri": "https://localhost:8080/"
        },
        "id": "E-5MDH6PyrAg",
        "outputId": "278998dc-5c3c-47af-e329-297004991331"
      },
      "execution_count": null,
      "outputs": [
        {
          "output_type": "execute_result",
          "data": {
            "text/plain": [
              "0.951076589143652"
            ]
          },
          "metadata": {},
          "execution_count": 83
        }
      ]
    },
    {
      "cell_type": "markdown",
      "source": [
        "The ROC-AUC score obtained for the test set is **0.951**"
      ],
      "metadata": {
        "id": "7M0TTFOJyvYn"
      }
    },
    {
      "cell_type": "markdown",
      "source": [
        "---"
      ],
      "metadata": {
        "id": "z6tBfYPk3C8_"
      }
    },
    {
      "cell_type": "markdown",
      "source": [
        "> Training and validation using cross-validation"
      ],
      "metadata": {
        "id": "rHqoZJJzzGiN"
      }
    },
    {
      "cell_type": "code",
      "source": [
        "#CROSS-VALIDATION\n",
        "NUMBER_KFOLDS = 5 #number of KFolds for cross-validation\n",
        "\n",
        "import gc\n",
        "\n",
        "kf = KFold(n_splits = NUMBER_KFOLDS, random_state = RANDOM_STATE, shuffle = True)\n",
        "\n",
        "# Create arrays and dataframes to store results\n",
        "oof_preds = np.zeros(train_df.shape[0])\n",
        "test_preds = np.zeros(test_df.shape[0])\n",
        "feature_importance_df = pd.DataFrame()\n",
        "n_fold = 0\n",
        "for train_idx, valid_idx in kf.split(train_df):\n",
        "    train_x, train_y = train_df[predictors].iloc[train_idx],train_df[target].iloc[train_idx]\n",
        "    valid_x, valid_y = train_df[predictors].iloc[valid_idx],train_df[target].iloc[valid_idx]\n",
        "    \n",
        "    evals_results = {}\n",
        "    model =  LGBMClassifier(\n",
        "                  nthread=-1,\n",
        "                  n_estimators=2000,\n",
        "                  learning_rate=0.01,\n",
        "                  num_leaves=80,\n",
        "                  colsample_bytree=0.98,\n",
        "                  subsample=0.78,\n",
        "                  reg_alpha=0.04,\n",
        "                  reg_lambda=0.073,\n",
        "                  subsample_for_bin=50,\n",
        "                  boosting_type='gbdt',\n",
        "                  is_unbalance=False,\n",
        "                  min_split_gain=0.025,\n",
        "                  min_child_weight=40,\n",
        "                  min_child_samples=510,\n",
        "                  objective='binary',\n",
        "                  metric='auc',\n",
        "                  silent=-1,\n",
        "                  verbose=-1,\n",
        "                  feval=None)\n",
        "    model.fit(train_x, train_y, eval_set=[(train_x, train_y), (valid_x, valid_y)], \n",
        "                eval_metric= 'auc', verbose= VERBOSE_EVAL, early_stopping_rounds= EARLY_STOP)\n",
        "    \n",
        "    oof_preds[valid_idx] = model.predict_proba(valid_x, num_iteration=model.best_iteration_)[:, 1]\n",
        "    test_preds += model.predict_proba(test_df[predictors], num_iteration=model.best_iteration_)[:, 1] / kf.n_splits\n",
        "    \n",
        "    fold_importance_df = pd.DataFrame()\n",
        "    fold_importance_df[\"feature\"] = predictors\n",
        "    fold_importance_df[\"importance\"] = clf.feature_importances_\n",
        "    fold_importance_df[\"fold\"] = n_fold + 1\n",
        "    \n",
        "    feature_importance_df = pd.concat([feature_importance_df, fold_importance_df], axis=0)\n",
        "    print('Fold %2d AUC : %.6f' % (n_fold + 1, roc_auc_score(valid_y, oof_preds[valid_idx])))\n",
        "    del model, train_x, train_y, valid_x, valid_y\n",
        "    gc.collect()\n",
        "    n_fold = n_fold + 1\n",
        "train_auc_score = roc_auc_score(train_df[target], oof_preds)\n",
        "print('Full AUC score %.6f' % train_auc_score)"
      ],
      "metadata": {
        "colab": {
          "base_uri": "https://localhost:8080/"
        },
        "id": "yhLeZ9F6zKaF",
        "outputId": "f37b0c09-f8d5-4b1a-ca46-92d6240a3cac"
      },
      "execution_count": null,
      "outputs": [
        {
          "output_type": "stream",
          "name": "stdout",
          "text": [
            "[LightGBM] [Warning] num_threads is set with nthread=-1, will be overridden by n_jobs=-1. Current value: num_threads=-1\n",
            "[50]\ttraining's auc: 0.975109\tvalid_1's auc: 0.964242\n",
            "Fold  1 AUC : 0.966735\n",
            "[LightGBM] [Warning] num_threads is set with nthread=-1, will be overridden by n_jobs=-1. Current value: num_threads=-1\n",
            "[50]\ttraining's auc: 0.973376\tvalid_1's auc: 0.97159\n",
            "[100]\ttraining's auc: 0.974581\tvalid_1's auc: 0.975146\n",
            "Fold  2 AUC : 0.976924\n",
            "[LightGBM] [Warning] num_threads is set with nthread=-1, will be overridden by n_jobs=-1. Current value: num_threads=-1\n",
            "[50]\ttraining's auc: 0.971525\tvalid_1's auc: 0.981105\n",
            "[100]\ttraining's auc: 0.973605\tvalid_1's auc: 0.979233\n",
            "Fold  3 AUC : 0.981177\n",
            "[LightGBM] [Warning] num_threads is set with nthread=-1, will be overridden by n_jobs=-1. Current value: num_threads=-1\n",
            "[50]\ttraining's auc: 0.970153\tvalid_1's auc: 0.981887\n",
            "Fold  4 AUC : 0.983433\n",
            "[LightGBM] [Warning] num_threads is set with nthread=-1, will be overridden by n_jobs=-1. Current value: num_threads=-1\n",
            "[50]\ttraining's auc: 0.980285\tvalid_1's auc: 0.962565\n",
            "Fold  5 AUC : 0.965422\n",
            "Full AUC score 0.949809\n"
          ]
        }
      ]
    },
    {
      "cell_type": "code",
      "source": [
        "pred = test_preds"
      ],
      "metadata": {
        "id": "NrUH5Jug0BkY"
      },
      "execution_count": null,
      "outputs": []
    },
    {
      "cell_type": "markdown",
      "source": [
        "---"
      ],
      "metadata": {
        "id": "cpANy5-u1vRu"
      }
    },
    {
      "cell_type": "markdown",
      "source": [
        "## Conclusions"
      ],
      "metadata": {
        "id": "GLzzn53T0OWx"
      }
    },
    {
      "cell_type": "markdown",
      "source": [
        "We looked into the data, looking for data imbalance, displaying the features, and determining how the various features related to one another. Next, we looked into two forecasting models. A train set, a validation set, and a test set were created from the data. Only the train and test set was used for the first three models.\n",
        "\n",
        "Starting with RandomForrestClassifier, we were able to predict the test set's target with an AUC score of 0.89.\n",
        "\n",
        "\n",
        "We then used an AdaBoostClassifier model to predict the target values for the test set, which had a lower AUC score of 0.91.\n",
        "\n",
        "\n",
        "Afterwards, we tried using an XGBoost model. In this instance, she validated the training model using the validation set. The best validation score was 0.99, which was attained. The target value was then predicted from the test data using the model with the best training step; the resulting AUC score was 0.984.\n",
        "\n",
        "After that, we gave a LightGBM model the data. To assess the model's ability to forecast the \"Class\" value, or the ability to determine whether a transaction was fraudulent, we utilised both train-validation split and cross-validation. With the first technique, we got AUC values for the validation set that were about 0.97. The result for the test set was a score of 0.946. Our cross-validation yielded an AUC value of 0.93 for the test prediction."
      ],
      "metadata": {
        "id": "F_xbMYKu0UuO"
      }
    },
    {
      "cell_type": "markdown",
      "source": [
        "---"
      ],
      "metadata": {
        "id": "XSsa1qfX1t-D"
      }
    }
  ]
}